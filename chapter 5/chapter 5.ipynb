{
 "cells": [
  {
   "cell_type": "markdown",
   "id": "f13e1c25-e978-431b-82b1-c2955c65ab07",
   "metadata": {},
   "source": [
    "# chapter 5\n",
    "## Using Decorators to Improve Our Code\n",
    "In this chapter, we will explore decorators and see how they are useful in many \n",
    "situations where we want to improve our design. We will start by first exploring \n",
    "what decorators are, how they work, and how they are implemented.\n",
    "With this knowledge, we will then revisit concepts that we learned in previous \n",
    "chapters regarding general good practices for software design and see how \n",
    "decorators can help us comply with each principle."
   ]
  },
  {
   "cell_type": "markdown",
   "id": "b724f400-0a29-4d58-aea7-bb1d410930ee",
   "metadata": {},
   "source": [
    "The goals of this chapter are as follows:\n",
    "• To understand how decorators work in Python\n",
    "• To learn how to implement decorators that apply to functions and classes\n",
    "• To effectively implement decorators, avoiding common implementation \n",
    "mistakes\n",
    "• To analyze how to avoid code duplication (the DRY principle) with \n",
    "decorators\n",
    "• To study how decorators contribute to the separation of concerns\n",
    "• To analyze examples of good decorators\n",
    "• To review common situations, idioms, or patterns for when decorators \n",
    "are the right choice\n"
   ]
  },
  {
   "cell_type": "markdown",
   "id": "480bec53-6978-4fbd-bad2-515999507289",
   "metadata": {},
   "source": [
    "## What are decorators in Python?\n",
    "Decorators were introduced in Python a long time ago, in PEP-318, as a mechanism \n",
    "to simplify the way functions and methods are defined when they have to be \n",
    "modified after their original definition."
   ]
  },
  {
   "cell_type": "markdown",
   "id": "0942929d-87a8-41b5-87c9-95980013ab1e",
   "metadata": {},
   "source": [
    "We first have to understand that in Python, functions are regular objects just like \n",
    "pretty much anything else. That means you can assign them to variables, pass them \n",
    "around by parameters, or even apply other functions to them. It was typical to want \n",
    "to write a small function, and then apply some transformations to it, generating a \n",
    "new modified version of that function (similar to how function composition works \n",
    "in mathematics)."
   ]
  },
  {
   "cell_type": "markdown",
   "id": "a548aa94-dbfa-49eb-a5bd-caa0760b1a89",
   "metadata": {},
   "source": [
    "One of the original motivations for introducing decorators was that because \n",
    "functions such as classmethod and staticmethod were used to transform the \n",
    "original definition of the method, they required an extra line, modifying the original \n",
    "definition of the function in a separate statement."
   ]
  },
  {
   "cell_type": "markdown",
   "id": "853b995e-5a04-4389-8cce-501b81c4b5ea",
   "metadata": {},
   "source": [
    "More generally speaking, every time we had to apply a transformation to a function, \n",
    "we had to call it with the modifier function, and then reassign it to the same name \n",
    "the function was originally defined with."
   ]
  },
  {
   "cell_type": "markdown",
   "id": "95566dbf-baad-447e-ae3e-87ac1fa6499d",
   "metadata": {},
   "source": [
    "For instance, if we have a function called original, and then we have a function \n",
    "that changes the behavior of original on top of it, called modifier, we have to write \n",
    "something like the following:"
   ]
  },
  {
   "cell_type": "code",
   "execution_count": null,
   "id": "ec01e498-6095-4b8d-9a90-7104c787abd3",
   "metadata": {
    "collapsed": true,
    "jupyter": {
     "outputs_hidden": true
    }
   },
   "outputs": [],
   "source": [
    "def original(...):\n",
    "    ...\n",
    "original = modifier(original)"
   ]
  },
  {
   "cell_type": "markdown",
   "id": "61a05eef-1198-48ab-9269-0ca4ee55ed7e",
   "metadata": {},
   "source": [
    "Notice how we change the function and reassign it to the same name. This is \n",
    "confusing, error-prone (imagine that someone forgets to reassign the function, or \n",
    "does reassign it but not in the line immediately after the function definition but much \n",
    "farther away), and cumbersome. For this reason, some syntax support was added to \n",
    "the language"
   ]
  },
  {
   "cell_type": "markdown",
   "id": "697c508f-e295-4254-99f1-bc146373e3fa",
   "metadata": {},
   "source": [
    "The previous example could be rewritten like so:"
   ]
  },
  {
   "cell_type": "code",
   "execution_count": null,
   "id": "7e6a8cac-8678-46a7-b103-fdef010b1cdc",
   "metadata": {
    "collapsed": true,
    "jupyter": {
     "outputs_hidden": true
    }
   },
   "outputs": [],
   "source": [
    "@modifier\n",
    "def original():\n",
    "   ..."
   ]
  },
  {
   "cell_type": "markdown",
   "id": "2336a340-436f-45d1-aada-47bba94c3423",
   "metadata": {},
   "source": [
    "This means that decorators are just syntactic sugar for calling whatever is after \n",
    "the decorator as a first parameter of the decorator itself, and the result would be \n",
    "whatever the decorator returns.\n"
   ]
  },
  {
   "cell_type": "markdown",
   "id": "0ed35f08-a0cb-4442-8295-e29df9645ffa",
   "metadata": {},
   "source": [
    "The syntax for decorators improves the readability significantly, because now the \n",
    "reader of that code can find the whole definition of the function in a single place. \n",
    "Keep in mind that manually modifying functions as before is still allowed."
   ]
  },
  {
   "cell_type": "markdown",
   "id": "673a5711-eb70-464e-8540-4b6e4e398d3f",
   "metadata": {},
   "source": [
    "<div style=\"border: 1px solid #ccc; padding: 10px; background-color: #f9f9f9; display: flex; align-items: center;\">\n",
    "    <div style=\"font-size: 24px; color: #555; padding-right: 10px;\">💡</div>\n",
    "    <div style=\"font-size: 14px;\">\n",
    "        <strong>Tip:</strong> \n",
    "\n",
    "In general, try to avoid re-assigning values to a function already \n",
    "designed without using the decorator syntax. Particularly, if the \n",
    "function gets reassigned to something else and this happens in a \n",
    "remote part of the code (far from where the function was originally \n",
    "defined), this will make your code harder to read.\n",
    "    </div>\n",
    "\n",
    " \n"
   ]
  },
  {
   "cell_type": "markdown",
   "id": "121c4871-9ff5-4245-8854-ec180e2fdf4c",
   "metadata": {},
   "source": [
    "In line with the Python terminology, and our example, modifier is what we call the \n",
    "decorator, and original is the decorated function, often also called a wrapped object."
   ]
  },
  {
   "cell_type": "markdown",
   "id": "95a3406d-e28b-4362-b3a3-d3d4f0db82ff",
   "metadata": {},
   "source": [
    "While the functionality was originally thought of for methods and functions, the \n",
    "actual syntax allows any kind of object to be decorated, so we are going to explore \n",
    "decorators applied to functions, methods, generators, and classes."
   ]
  },
  {
   "cell_type": "markdown",
   "id": "d74313f6-58fa-43b3-978a-cf92152e95d0",
   "metadata": {},
   "source": [
    "One final note is that while the name decorator is correct (after all, the decorator is \n",
    "making changes, extending, or working on top of the wrapped function), it is not to \n",
    "be confused with the decorator design pattern."
   ]
  },
  {
   "cell_type": "markdown",
   "id": "8ff19ec5-5646-4183-98eb-2de9bc14b4a2",
   "metadata": {},
   "source": [
    "## Function decorators\n",
    "Functions are probably the simplest representation of a Python object that can be \n",
    "decorated. We can use decorators on functions to apply all sorts of logic to them—we \n",
    "can validate parameters, check preconditions, change the behavior entirely, modify \n",
    "its signature, cache results (create a memoized version of the original function), and \n",
    "more."
   ]
  },
  {
   "cell_type": "markdown",
   "id": "155caeb8-7fd6-48e7-a904-59c515659e46",
   "metadata": {},
   "source": [
    "As an example, we will create a basic decorator that implements a retry mechanism, \n",
    "controlling a particular domain-level exception and retrying a certain number of \n",
    "times:"
   ]
  },
  {
   "cell_type": "code",
   "execution_count": 2,
   "id": "15ea82ba-2c8f-4c9c-9592-88c6da32749e",
   "metadata": {},
   "outputs": [],
   "source": [
    "# decorator_function_1.py\n",
    "class ControlledException(Exception):\n",
    "    \"\"\"A generic exception on the program's domain.\"\"\"\n",
    "def retry(operation):\n",
    "    a = 5\n",
    "    @wraps(operation)\n",
    "    def wrapped(*args, **kwargs):\n",
    "        last_raised = None\n",
    "        RETRIES_LIMIT = 3\n",
    "        print(a)\n",
    "        for _ in range(RETRIES_LIMIT):\n",
    "            try:\n",
    "                return operation(*args, **kwargs)\n",
    "            except ControlledException as e:\n",
    "                logger.info(\"retrying %s\", operation.__qualname__)\n",
    "                last_raised = e\n",
    "        raise last_raised\n",
    "    return wrapped"
   ]
  },
  {
   "cell_type": "markdown",
   "id": "f1e4fdc6-9bf1-40ae-a61d-935cd409f398",
   "metadata": {},
   "source": [
    "The use of @wraps can be ignored for now, as it will be covered in the Effective \n",
    "decorators – avoiding common mistakes section"
   ]
  },
  {
   "cell_type": "markdown",
   "id": "8b353b0e-331e-4ebe-97a0-a2d267f48317",
   "metadata": {},
   "source": [
    "<div style=\"border: 1px solid #ccc; padding: 10px; background-color: #f9f9f9; display: flex; align-items: center;\">\n",
    "    <div style=\"font-size: 24px; color: #555; padding-right: 10px;\">💡</div>\n",
    "    <div style=\"font-size: 14px;\">\n",
    "        <strong>Tip:</strong> \n",
    "\n",
    "The use of _ in the for loop means that the number is assigned to \n",
    "a variable we are not interested in at the moment, because it's not \n",
    "used inside the for loop (it's a common idiom in Python to name _\n",
    "values that are ignored)\n",
    "    </div>"
   ]
  },
  {
   "cell_type": "markdown",
   "id": "6414a0c3-563d-4b7a-a0fc-9e98004ac2e0",
   "metadata": {},
   "source": [
    "The retry decorator doesn't take any parameters, so it can be easily applied to any\n",
    "function, as follows:"
   ]
  },
  {
   "cell_type": "code",
   "execution_count": null,
   "id": "bb20e768-6ee8-4492-9206-607ee211ef77",
   "metadata": {
    "collapsed": true,
    "jupyter": {
     "outputs_hidden": true
    }
   },
   "outputs": [],
   "source": [
    "@retry\n",
    "def run_operation(task):\n",
    "    \"\"\"Run a particular task, simulating some failures on its execution.\"\"\"\n",
    "    return task.run()"
   ]
  },
  {
   "cell_type": "markdown",
   "id": "85f5e5b2-5161-49c3-9923-7cc09e1ad2b4",
   "metadata": {},
   "source": [
    "The definition of @retry on top of run_operation is just syntactic sugar that Python \n",
    "provides to execute run_operation = retry(run_operation)."
   ]
  },
  {
   "cell_type": "markdown",
   "id": "e83d02ed-d775-4a50-be1c-7e0748461a0a",
   "metadata": {},
   "source": [
    "In this limited example, we can see how decorators can be used to create a generic \n",
    "retry operation that, under certain conditions (in this case, represented as exceptions \n",
    "that could be related to timeouts), will allow calling the decorated code multiple \n",
    "times"
   ]
  },
  {
   "cell_type": "markdown",
   "id": "242c975f-381e-47f4-b459-0309827348af",
   "metadata": {},
   "source": [
    "## Decorators for classes\n",
    "Classes are also objects in Python (frankly, pretty much everything is an object in \n",
    "Python, and it's hard to find a counter-example; however, there are some technical \n",
    "nuances). That means the same considerations apply; they can also be passed \n",
    "by parameters, assigned to variables, asked some methods, or be transformed \n",
    "(decorated)"
   ]
  },
  {
   "cell_type": "markdown",
   "id": "1657ad9a-92f3-4f01-af0c-f6d1fcf2640c",
   "metadata": {},
   "source": [
    "Class decorators were introduced in PEP-3129, and they have very similar \n",
    "considerations to the function decorators we just explored. The only difference \n",
    "is that when writing the code for this kind of decorator, we have to take into \n",
    "consideration that we are receiving a class as a parameter of the wrapped method, \n",
    "not another function"
   ]
  },
  {
   "cell_type": "markdown",
   "id": "35ec7d86-bcd6-48c3-9708-8ed48fe2841e",
   "metadata": {},
   "source": [
    "We have seen how to use a class decorator when we saw the dataclasses.dataclass\n",
    "decorator in Chapter 2, Pythonic Code. In this chapter, we will learn how to write our \n",
    "own class decorators"
   ]
  },
  {
   "cell_type": "markdown",
   "id": "2a1409a0-2925-4a8b-a809-3332a870a420",
   "metadata": {},
   "source": [
    "Some practitioners might argue that decorating a class is something rather \n",
    "convoluted and that such a scenario might jeopardize readability because we would \n",
    "be declaring some attributes and methods in the class, but behind the scenes, the \n",
    "decorator might be applying changes that would render a completely different class."
   ]
  },
  {
   "cell_type": "markdown",
   "id": "f5baa65b-e831-48fe-ad85-101b6c209c70",
   "metadata": {},
   "source": [
    "This assessment is true, but only if this technique is heavily abused. Objectively, this \n",
    "is no different from decorating functions; after all, classes are just another type of \n",
    "object in the Python ecosystem, as functions are. We will review the pros and cons of \n",
    "this issue with decorators in the section titled Decorators and separation of concerns, but \n",
    "for now, we'll explore the benefits of decorators that apply particularly to classes:"
   ]
  },
  {
   "cell_type": "markdown",
   "id": "09fb4983-faf2-4743-8d06-8400623f3889",
   "metadata": {},
   "source": [
    "#### • All the benefits of reusing code and the DRY principle. A valid case of a class decorator would be to enforce that multiple classes conform to a certain interface or criteria (by writing these checks only once in a decorator that is going to be applied to many classes).\n",
    "\n",
    "#### • We could create smaller or simpler classes that will be enhanced later on by decorators.\n",
    "\n",
    "#### • The transformation logic we need to apply to a certain class will be much easier to maintain if we use a decorator, as opposed to more complicated (and often rightfully discouraged) approaches such as meta-classes"
   ]
  },
  {
   "cell_type": "markdown",
   "id": "d5cfab80-5204-43c7-9d6b-6de339dabf15",
   "metadata": {},
   "source": [
    "Among all the possible applications of decorators, we will explore a simple example \n",
    "to show the sorts of things they can be useful for. Keep in mind that this is not the \n",
    "only application type for class decorators, and also that the code I show you can have \n",
    "many other solutions as well, all with their pros and cons, but I've chosen decorators \n",
    "for the purpose of illustrating their usefulness"
   ]
  },
  {
   "cell_type": "markdown",
   "id": "2cf2e86f-75f0-49dc-ba4e-7a2ba80a6465",
   "metadata": {},
   "source": [
    "Recalling our event systems for the monitoring platform, we now need to transform \n",
    "the data for each event and send it to an external system. However, each type of \n",
    "event might have its own particularities when selecting how to send its data"
   ]
  },
  {
   "cell_type": "markdown",
   "id": "1c47f037-909e-44d8-94e3-9d3bb5c7a637",
   "metadata": {},
   "source": [
    "In particular, the event for a login might contain sensitive information such as \n",
    "credentials that we want to hide. Other fields such as timestamp might also require \n",
    "some transformations since we want to show them in a particular format. A first \n",
    "attempt at complying with these requirements would be as simple as having a class \n",
    "that maps to each particular event and knows how to serialize it:"
   ]
  },
  {
   "cell_type": "code",
   "execution_count": null,
   "id": "c61a0dea-dcb3-4fc1-b754-7176b9af7c72",
   "metadata": {
    "collapsed": true,
    "jupyter": {
     "outputs_hidden": true
    }
   },
   "outputs": [],
   "source": [
    "class LoginEventSerializer:\n",
    "    def __init__(self, event):\n",
    "        self.event = event\n",
    "    def serialize(self) -> dict:\n",
    "        return {\n",
    "            \"username\": self.event.username,\n",
    "            \"password\": \"**redacted**\",\n",
    "            \"ip\": self.event.ip,\n",
    "            \"timestamp\": self.event.timestamp.strftime(\"%Y-%m-%d %H:%M\"),\n",
    "        }\n",
    "@dataclass\n",
    "class LoginEvent:\n",
    "    SERIALIZER = LoginEventSerializer\n",
    "    username: str\n",
    "    password: str\n",
    "    ip: str\n",
    "    timestamp: datetime\n",
    "    def serialize(self) -> dict:\n",
    "        return self.SERIALIZER(self).serialize()"
   ]
  },
  {
   "cell_type": "markdown",
   "id": "2fb34faa-5ab2-4c92-8840-746e041d11c6",
   "metadata": {},
   "source": [
    "Here, we declare a class that is going to map directly with the login event, containing\n",
    "the logic for it—hide the password field, and format the timestamp as required."
   ]
  },
  {
   "cell_type": "markdown",
   "id": "e8e0cd7b-2ba0-4f34-bf2b-874c0ce7be86",
   "metadata": {},
   "source": [
    "While this works and might look like a good option to start with, as time passes and \n",
    "we want to extend our system, we will find some issues:"
   ]
  },
  {
   "cell_type": "markdown",
   "id": "e7c57d9b-bcb1-45de-a7d9-ca8305b53734",
   "metadata": {},
   "source": [
    "• Too many classes: As the number of events grows, the number of \n",
    "serialization classes will grow in the same order of magnitude, because they \n",
    "are mapped one to one.\n",
    "\n",
    "• The solution is not flexible enough: If we need to reuse parts of the \n",
    "components (for example, we need to hide the password in another type of \n",
    "event that also has it), we will have to extract this into a function, but also \n",
    "call it repeatedly from multiple classes, meaning that we are not reusing \n",
    "that much code after all.\n",
    "\n",
    "• Boilerplate: The serialize() method will have to be present in all event \n",
    "classes, calling the same code. Although we can extract this into another \n",
    "class (creating a mixin), it does not seem like a good use of inheritance.\n"
   ]
  },
  {
   "cell_type": "markdown",
   "id": "9c0e348b-24a6-4b6c-b86a-24560397249a",
   "metadata": {},
   "source": [
    "An alternative solution is to dynamically construct an object that, given a set of \n",
    "filters (transformation functions) and an event instance, can serialize it by applying \n",
    "the filters to its fields. We then only need to define the functions to transform each \n",
    "type of field, and the serializer is created by composing many of these functions."
   ]
  },
  {
   "cell_type": "markdown",
   "id": "9a2f732f-0e29-48f2-b67d-cc65b9a9d28b",
   "metadata": {},
   "source": [
    "Once we have this object, we can decorate the class in order to add the serialize()\n",
    "method, which will just call these Serialization objects with itself:"
   ]
  },
  {
   "cell_type": "code",
   "execution_count": null,
   "id": "55af74fa-e332-4259-9e55-6de923587059",
   "metadata": {
    "collapsed": true,
    "jupyter": {
     "outputs_hidden": true
    }
   },
   "outputs": [],
   "source": [
    "from dataclasses import dataclass\n",
    "def hide_field(field) -> str:\n",
    "    return \"**redacted**\"\n",
    "def format_time(field_timestamp: datetime) -> str:\n",
    "    return field_timestamp.strftime(\"%Y-%m-%d %H:%M\")\n",
    "def show_original(event_field):\n",
    "    return event_field\n",
    "class EventSerializer:\n",
    "    def __init__(self, serialization_fields: dict) -> None:\n",
    "        self.serialization_fields = serialization_fields\n",
    "    def serialize(self, event) -> dict:\n",
    "        return {\n",
    "            field: transformation(getattr(event, field))\n",
    "            for field, transformation\n",
    "            in self.serialization_fields.items()\n",
    "        }\n",
    "class Serialization:\n",
    "    \n",
    "    def __init__(self, **transformations):\n",
    "        self.serializer = EventSerializer(transformations)\n",
    "    def __call__(self, event_class):\n",
    "        def serialize_method(event_instance):\n",
    "            return self.serializer.serialize(event_instance)\n",
    "        event_class.serialize = serialize_method\n",
    "        return event_class\n",
    "@Serialization( \n",
    "    username=str.lower, \n",
    "    password=hide_field, \n",
    "    ip=show_original, \n",
    "    timestamp=format_time, \n",
    ") \n",
    "@dataclass \n",
    "class LoginEvent: \n",
    "    username: str \n",
    "    password: str \n",
    "    ip: str \n",
    "    timestamp: datetime"
   ]
  },
  {
   "cell_type": "markdown",
   "id": "d82b8aaf-746c-4d2d-91d4-72befa1ff817",
   "metadata": {},
   "source": [
    "Notice how the decorator makes it easier for the user to know how each field is\n",
    "going to be treated without having to look into the code of another class. Just by \n",
    "reading the arguments passed to the class decorator, we know that the username and \n",
    "IP address will be left unmodified, the password will be hidden, and the timestamp\n",
    "will be formatted"
   ]
  },
  {
   "cell_type": "markdown",
   "id": "62367dd1-35c9-4a67-9e37-0c68d032a14a",
   "metadata": {},
   "source": [
    "Now, the code of the class does not need the serialize() method defined, nor \n",
    "does it need to extend from a mixin that implements it, since the decorator will add \n",
    "it. This is probably the only part that justifies the creation of the class decorator \n",
    "because otherwise, the Serialization object could have been a class attribute of \n",
    "LoginEvent, but the fact that it is altering the class by adding a new method to it \n",
    "makes it impossible"
   ]
  },
  {
   "cell_type": "markdown",
   "id": "c6409b68-edad-4758-836d-4300dcce0849",
   "metadata": {},
   "source": [
    "## Other types of decorator\n",
    "Now that we know what the @ syntax for decorators means, we can conclude that it \n",
    "isn't just functions, methods, or classes that can be decorated; actually, anything that \n",
    "can be defined, such as generators, coroutines, and even objects that have already \n",
    "been decorated, can be decorated, meaning that decorators can be stacked."
   ]
  },
  {
   "cell_type": "markdown",
   "id": "f4f3abd4-ada3-4175-8923-297b9be81e81",
   "metadata": {},
   "source": [
    "The previous example showed how decorators can be chained. We first defined the \n",
    "class, and then applied @dataclass to it, which converted it into a data class, acting \n",
    "as a container for those attributes. After that, @Serialization will apply the logic to \n",
    "that class, resulting in a new class with the new serialize() method added to it."
   ]
  },
  {
   "cell_type": "markdown",
   "id": "66fd91d1-bb35-48e2-9c12-52b9592d7625",
   "metadata": {},
   "source": [
    "Now that we know the fundamentals of decorators, and how to write them, we can \n",
    "move on to more complex examples. In the next sections, we'll see how to have more \n",
    "flexible decorators with parameters, and different ways of implementing them."
   ]
  },
  {
   "cell_type": "markdown",
   "id": "d6341cd6-a557-4d9d-9e05-35311987e272",
   "metadata": {},
   "source": [
    "## More advanced decorators\n",
    "With the introduction we've just had, we now know the basics of decorators: what \n",
    "they are, and their syntax and semantics"
   ]
  },
  {
   "cell_type": "markdown",
   "id": "5a5eb8e6-9fbb-40a4-a356-31203c309109",
   "metadata": {},
   "source": [
    "Now we're interested in more advanced uses of decorators that will help us structure \n",
    "our code more cleanly"
   ]
  },
  {
   "cell_type": "markdown",
   "id": "c192676d-a7d6-42ba-ad52-0c8ebfbce5f1",
   "metadata": {},
   "source": [
    "We'll see that we can use decorators to separate concerns into smaller functions, and \n",
    "reuse code, but in order to so do effectively, we'd like to parametrize the decorators \n",
    "(otherwise, we'd end up repeating code). For this, we'll explore different options on \n",
    "how to pass arguments to decorators"
   ]
  },
  {
   "cell_type": "markdown",
   "id": "763d7418-f50c-468d-acff-540272fea241",
   "metadata": {},
   "source": [
    "After that, we can see some examples of good uses of decorators."
   ]
  },
  {
   "cell_type": "markdown",
   "id": "39e18398-b474-4ad6-85f2-fa0473d3d6cd",
   "metadata": {},
   "source": [
    "## Passing arguments to decorators\n",
    "At this point, we already regard decorators as a powerful tool in Python. However, \n",
    "they could be even more powerful if we could just pass parameters to them so that \n",
    "their logic is abstracted even more"
   ]
  },
  {
   "cell_type": "markdown",
   "id": "59804d7f-30b8-4c9d-84bd-4852fb1b3e5c",
   "metadata": {},
   "source": [
    "There are several ways of implementing decorators that can take arguments, but we \n",
    "will go over the most common ones. The first one is to create decorators as nested \n",
    "functions with a new level of indirection, making everything in the decorator fall \n",
    "one level deeper. The second approach is to use a class for the decorator (that is, to \n",
    "implement a callable object that still acts as a decorator).\n"
   ]
  },
  {
   "cell_type": "markdown",
   "id": "eb5e7ad7-3570-4eee-9d0a-a9b9d9909a94",
   "metadata": {},
   "source": [
    "In general, the second approach favors readability more, because it is easier to think \n",
    "in terms of an object than three or more nested functions working with closures. \n",
    "However, for completeness, we will explore both, and you can decide what is best \n",
    "for the problem at hand"
   ]
  },
  {
   "cell_type": "markdown",
   "id": "63bee559-4844-4502-bfd7-52f6d05a3c4f",
   "metadata": {},
   "source": [
    "## Decorators with nested functions\n",
    "Roughly speaking, the general idea of a decorator is to create a function that returns \n",
    "another function (in functional programming, functions that take other functions as \n",
    "parameters are called higher-order functions, and it refers to the same concept we're \n",
    "talking about here). The internal function defined in the body of the decorator is \n",
    "going to be the one being called"
   ]
  },
  {
   "cell_type": "markdown",
   "id": "979ddb15-2909-4ca8-b234-f9362253e191",
   "metadata": {},
   "source": [
    "Now, if we wish to pass parameters to it, we then need another level of indirection. \n",
    "The first function will take the parameters, and inside that function, we will define \n",
    "a new one, which will be the decorator, which in turn will define yet another new \n",
    "function, namely the one to be returned as a result of the decoration process. This \n",
    "means that we will have at least three levels of nested functions"
   ]
  },
  {
   "cell_type": "markdown",
   "id": "99b6c871-e729-46e5-b26b-9541f930e6a7",
   "metadata": {},
   "source": [
    "Don't worry if this didn't seem clear so far. After reviewing the examples that are \n",
    "about to come, everything will become clear."
   ]
  },
  {
   "cell_type": "markdown",
   "id": "e5986829-106f-4e08-9fea-0d0c7c137e0d",
   "metadata": {},
   "source": [
    "One of the first examples we saw of decorators implemented the retry \n",
    "functionality over some functions. This is a good idea, except it has a problem; our \n",
    "implementation did not allow us to specify the number of retries, and instead, this \n",
    "was a fixed number inside the decorator"
   ]
  },
  {
   "cell_type": "markdown",
   "id": "ffb20474-a902-4da2-8cf3-5dc0cf916742",
   "metadata": {},
   "source": [
    "Now, we want to be able to indicate how many retries each instance is going to have, \n",
    "and perhaps we could even add a default value to this parameter. In order to do this, \n",
    "we need another level of nested functions—first for the parameters, and then for the \n",
    "decorator itself"
   ]
  },
  {
   "cell_type": "markdown",
   "id": "e4f547d9-5861-42a8-98e0-9c7a91582496",
   "metadata": {},
   "source": [
    "This is because we are now going to have something in the form of the following:"
   ]
  },
  {
   "cell_type": "code",
   "execution_count": null,
   "id": "fbd37581-364b-4acc-b0d8-099bb1d7d3e4",
   "metadata": {
    "collapsed": true,
    "jupyter": {
     "outputs_hidden": true
    }
   },
   "outputs": [],
   "source": [
    "@retry(arg1, arg2,... )"
   ]
  },
  {
   "cell_type": "markdown",
   "id": "df191140-590f-4709-8f17-53d29948d450",
   "metadata": {},
   "source": [
    "And that has to return a decorator because the @ syntax will apply the result of \n",
    "that computation to the object to be decorated. Semantically, it would translate to \n",
    "something like the following:"
   ]
  },
  {
   "cell_type": "code",
   "execution_count": null,
   "id": "9a8f62dc-3151-4f0e-b992-9535dd7c2c27",
   "metadata": {
    "collapsed": true,
    "jupyter": {
     "outputs_hidden": true
    }
   },
   "outputs": [],
   "source": [
    "<original_function> = retry(arg1, arg2, ....)(<original_function>)"
   ]
  },
  {
   "cell_type": "markdown",
   "id": "c2554d0b-25c0-4876-a279-34c5dc8e6d5b",
   "metadata": {},
   "source": [
    "Besides the number of desired retries, we can also indicate the types of exceptions we \n",
    "wish to control. The new version of the code supporting the new requirements might \n",
    "look like this:\n"
   ]
  },
  {
   "cell_type": "code",
   "execution_count": null,
   "id": "65c0d839-46ed-419d-b40e-2d61af7e3d82",
   "metadata": {
    "collapsed": true,
    "jupyter": {
     "outputs_hidden": true
    }
   },
   "outputs": [],
   "source": [
    "_DEFAULT_RETRIES_LIMIT = 3\n",
    "def with_retry(\n",
    "        retries_limit: int = _DEFAULT_RETRIES_LIMIT,\n",
    "        allowed_exceptions: Optional[Sequence[Exception]] = None,\n",
    "    ):\n",
    "        allowed_exceptions = allowed_exceptions or\n",
    "        (ControlledException,) # type: ignore\n",
    "        def retry(operation):\n",
    "            @wraps(operation)\n",
    "            def wrapped(*args, **kwargs):\n",
    "                last_raised = None\n",
    "                for _ in range(retries_limit):\n",
    "                    try:\n",
    "                        return operation(*args, **kwargs)\n",
    "                    except allowed_exceptions as e:\n",
    "                        logger.warning(\n",
    "                            \"retrying %s due to %s\",\n",
    "                            operation.__qualname__, e\n",
    "                        )\n",
    "                        last_raised = e\n",
    "                raise last_raised\n",
    "            return wrapped\n",
    "        return retry"
   ]
  },
  {
   "cell_type": "markdown",
   "id": "7baee5fa-cc7c-4fcf-85d4-690ef819fd55",
   "metadata": {},
   "source": [
    "Here are some examples of how this decorator can be applied to functions, showing \n",
    "the different options it accepts:"
   ]
  },
  {
   "cell_type": "code",
   "execution_count": null,
   "id": "1676803a-dd06-48c9-992b-73224bf230c9",
   "metadata": {
    "collapsed": true,
    "jupyter": {
     "outputs_hidden": true
    }
   },
   "outputs": [],
   "source": [
    "# decorator_parametrized_1.py\n",
    "@with_retry()\n",
    "def run_operation(task):\n",
    "    return task.run()\n",
    "@with_retry(retries_limit=5)\n",
    "def run_with_custom_retries_limit(task):\n",
    "    return task.run()\n",
    "@with_retry(allowed_exceptions=(AttributeError,))\n",
    "def run_with_custom_exceptions(task):\n",
    "    return task.run()\n",
    "@with_retry(\n",
    "    retries_limit=4,8 allowed_exceptions=(ZeroDivisionError, AttributeError)\n",
    ")\n",
    "def run_with_custom_parameters(task):\n",
    "    return task.run()"
   ]
  },
  {
   "cell_type": "markdown",
   "id": "d2892c37-5505-4976-aea5-0fbdca2b476d",
   "metadata": {},
   "source": [
    "Using nested functions to implement decorators is probably the first thing we'd think \n",
    "of. This works well for most cases, but as you might have noticed, the indentation \n",
    "keeps adding up, for every new function we create, so soon it might lead to too many \n",
    "nested functions. Also, functions are stateless, so decorators written in this way \n",
    "won't necessarily hold internal data, as objects can"
   ]
  },
  {
   "cell_type": "markdown",
   "id": "11c16cc6-afc2-4b68-bdb8-eedeb121f532",
   "metadata": {},
   "source": [
    "There's a different way of implementing decorators, which instead of using nested \n",
    "functions uses objects, as we explore in the next section"
   ]
  },
  {
   "cell_type": "markdown",
   "id": "c8fb2e26-ae8b-4811-8358-4a291732d6a6",
   "metadata": {},
   "source": [
    "## Decorator objects\n",
    "The previous example requires three levels of nested functions. The first is going to \n",
    "be a function that receives the parameters of the decorator we want to use. Inside this \n",
    "function, the rest of the functions are closures that use these parameters, along with \n",
    "the logic of the decorator"
   ]
  },
  {
   "cell_type": "markdown",
   "id": "a78beb47-48f1-4b11-a9d6-a4650df2441c",
   "metadata": {},
   "source": [
    "A cleaner implementation of this would be to use a class to define the decorator. In \n",
    "this case, we can pass the parameters in the __ init __ method, and then implement \n",
    "the logic of the decorator on the magic method named __ call __.\n"
   ]
  },
  {
   "cell_type": "markdown",
   "id": "778bd74c-0446-4d0e-b645-b898c40a6577",
   "metadata": {},
   "source": [
    "The code for the decorator will look like it does in the following example:"
   ]
  },
  {
   "cell_type": "code",
   "execution_count": null,
   "id": "0fb7c74e-da13-45a6-beec-9b0b0b7e2853",
   "metadata": {
    "collapsed": true,
    "jupyter": {
     "outputs_hidden": true
    }
   },
   "outputs": [],
   "source": [
    "_DEFAULT_RETRIES_LIMIT = 3\n",
    "class WithRetry:\n",
    "    def __init__(\n",
    "        self,\n",
    "        retries_limit: int = _DEFAULT_RETRIES_LIMIT,\n",
    "        allowed_exceptions: Optional[Sequence[Exception]] = None,\n",
    "    ) -> None:\n",
    "    \n",
    "\n",
    "     self.retries_limit = retries_limit\n",
    "     self.allowed_exceptions = allowed_exceptions or\n",
    "(ControlledException,)\n",
    "def __call__(self, operation):\n",
    "        @wraps(operation)\n",
    "        def wrapped(*args, **kwargs):\n",
    "            last_raised = None\n",
    "            for _ in range(self.retries_limit):\n",
    "                try:\n",
    "                    return operation(*args, **kwargs)\n",
    "                except self.allowed_exceptions as e:logger.warning(\n",
    "                    \"retrying %s due to %s\",\n",
    "                    operation.__qualname__, e\n",
    "                )\n",
    "                last_raised = e\n",
    "                raise last_raised\n",
    "            return wrapped"
   ]
  },
  {
   "cell_type": "markdown",
   "id": "de6b5310-e8ab-4677-9c6f-fb2df3c11ec4",
   "metadata": {},
   "source": [
    "And this decorator can be applied pretty much like the previous one, like so:"
   ]
  },
  {
   "cell_type": "code",
   "execution_count": null,
   "id": "f96a8fa4-488b-4150-aec6-74ee03287968",
   "metadata": {
    "collapsed": true,
    "jupyter": {
     "outputs_hidden": true
    }
   },
   "outputs": [],
   "source": [
    "@WithRetry(retries_limit=5)\n",
    "def run_with_custom_retries_limit(task):\n",
    "    return task.run()"
   ]
  },
  {
   "cell_type": "markdown",
   "id": "f200df23-6c9a-47a7-8d2d-d703e5c5a9cd",
   "metadata": {},
   "source": [
    "It is important to note how the Python syntax takes effect here. First, we create the \n",
    "object, so before the @ operation is applied, the object is created with its parameters \n",
    "passed to it. This will create a new object and initialize it with these parameters, as \n",
    "defined in the init method. After this, the @ operation is invoked, so this object will \n",
    "wrap the function named run_with_custom_retries_limit, meaning that it will be \n",
    "passed to the call magic method"
   ]
  },
  {
   "cell_type": "markdown",
   "id": "c565b51b-e542-49c4-babb-377c2c6d9fc4",
   "metadata": {},
   "source": [
    "Inside this call magic method, we defined the logic of the decorator as we normally \n",
    "do—we wrap the original function, returning a new one with the logic we want \n",
    "instead"
   ]
  },
  {
   "cell_type": "markdown",
   "id": "a2875079-3616-4a52-8add-f4adfea1e216",
   "metadata": {},
   "source": [
    "## Decorators with default values\n",
    "In the previous example, we saw a decorator that takes parameters, but those \n",
    "arguments have default values. The way the previous decorators were written will \n",
    "make sure that they work as long as users don't forget the parentheses to make the \n",
    "function call when using the decorator"
   ]
  },
  {
   "cell_type": "markdown",
   "id": "80cc4806-f77a-440a-94b8-b08c2343d7cf",
   "metadata": {},
   "source": [
    "For example, if we only wanted the default values, this would work:"
   ]
  },
  {
   "cell_type": "code",
   "execution_count": null,
   "id": "d877aede-18cd-4a4e-8fd2-a73cab13db7e",
   "metadata": {
    "collapsed": true,
    "jupyter": {
     "outputs_hidden": true
    }
   },
   "outputs": [],
   "source": [
    "@retry()\n",
    "def my function(): "
   ]
  },
  {
   "cell_type": "markdown",
   "id": "487c9e1b-2df1-41b7-ad6a-4d4a447c9fad",
   "metadata": {},
   "source": [
    "But this wouldn't:"
   ]
  },
  {
   "cell_type": "code",
   "execution_count": null,
   "id": "0b521b15-c498-4efd-851a-699eec5dada1",
   "metadata": {
    "collapsed": true,
    "jupyter": {
     "outputs_hidden": true
    }
   },
   "outputs": [],
   "source": [
    "@retry\n",
    "def my function(): ..."
   ]
  },
  {
   "cell_type": "markdown",
   "id": "b43bf640-05f6-420c-8c11-404212c0a667",
   "metadata": {},
   "source": [
    "You might argue whether this is necessary and accept (perhaps with proper \n",
    "documentation) that the first example is how the decorator is meant to be used, \n",
    "and the second one is incorrect. And that would be fine, but it requires paying close \n",
    "attention, or runtime errors will occur"
   ]
  },
  {
   "cell_type": "markdown",
   "id": "67ea9d97-fc4d-46fb-848d-97ad4d2ca248",
   "metadata": {},
   "source": [
    "Of course, if the decorator takes parameters that don't have default values, then the \n",
    "second syntax doesn't make sense, and there's only one possibility, which might \n",
    "make things simpler."
   ]
  },
  {
   "cell_type": "markdown",
   "id": "8f002412-4137-407d-8a98-49eecd6c7183",
   "metadata": {},
   "source": [
    "Alternatively, you can make the decorator work with both syntaxes. As you might \n",
    "have guessed, this takes extra effort, and as always you should balance whether it's \n",
    "worth it."
   ]
  },
  {
   "cell_type": "markdown",
   "id": "55da21d0-26d6-42a2-bb76-230ce757de5b",
   "metadata": {},
   "source": [
    "Let's illustrate this with a simple example that uses a decorator with parameters \n",
    "to inject arguments into a function. We define a function that takes two parameters, \n",
    "and a decorator that does the same, and the idea is to call the function without \n",
    "arguments and let it work with the parameters passed by the decorator:"
   ]
  },
  {
   "cell_type": "code",
   "execution_count": null,
   "id": "37337101-8906-4d28-8c08-bf54505c8911",
   "metadata": {
    "collapsed": true,
    "jupyter": {
     "outputs_hidden": true
    }
   },
   "outputs": [],
   "source": [
    "@decorator(x=3, y=4)\n",
    "def my_function(x, y):\n",
    "            return x + y\n",
    "my_function()  # 7"
   ]
  },
  {
   "cell_type": "markdown",
   "id": "812e8a73-fe02-483e-a89f-85d475f24c7c",
   "metadata": {},
   "source": [
    "But of course, we define default values for the arguments of the decorator, so we \n",
    "can call it without values. And we'd like to also call it without the parentheses."
   ]
  },
  {
   "cell_type": "markdown",
   "id": "d71d0bee-4462-4d61-8a8e-76f24ddf5dc3",
   "metadata": {},
   "source": [
    "The simplest and most naïve way of writing it would be separating both cases with \n",
    "a conditional:"
   ]
  },
  {
   "cell_type": "code",
   "execution_count": null,
   "id": "4ea12f3b-7ba2-4ece-86ab-51cd25d75834",
   "metadata": {},
   "outputs": [],
   "source": [
    "def decorator(function=None, *, x=DEFAULT_X, y=DEFAULT_Y):\n",
    "    if function is None:  # called as `@decorator(...)`\n",
    " \n",
    "        def decorated(function):\n",
    "            @wraps(function)\n",
    "            def wrapped():\n",
    "                return function(x, y)\n",
    " \n",
    "            return wrapped\n",
    " \n",
    "        return decorated\n",
    "    else:  # called as `@decorator`\n",
    " \n",
    "        @wraps(function)\n",
    "        def wrapped():\n",
    "            return function(x, y)\n",
    " \n",
    "        return wrapped"
   ]
  },
  {
   "cell_type": "markdown",
   "id": "a44b7f24-77ff-4c81-b7d0-767f2b13aa70",
   "metadata": {},
   "source": [
    "Note something important about the signature of the decorator: the parameters are \n",
    "keyword-only. This simplifies the definition of the decorator a lot because we can \n",
    "assume the function is None when it's being called without arguments (otherwise, if \n",
    "we were to pass the values by position, the first of the parameters we passed would \n",
    "be confused with the function). If we wanted to be more careful, instead of using \n",
    "None (or any sentinel value), we could inspect the parameter type, assert a function \n",
    "object of the type we expect, and then shift the parameters accordingly, but that \n",
    "would make the decorator much more complicated."
   ]
  },
  {
   "cell_type": "markdown",
   "id": "a7079535-5e59-435e-a991-f0385fc6f6e9",
   "metadata": {},
   "source": [
    "Another alternative would be to abstract part of the wrapped decorator, and then \n",
    "apply a partial application of the function (using functools.partial). To explain \n",
    "this better, let's take an intermediate state, and use a lambda function that shows \n",
    "how the parameters to the decorator are applied, and how the decorator's arguments \n",
    "are \"shifted\":"
   ]
  },
  {
   "cell_type": "code",
   "execution_count": null,
   "id": "7dd9a592-8d8e-490b-9587-daf3c907e022",
   "metadata": {},
   "outputs": [],
   "source": [
    "def decorator(function=None, *, x=DEFAULT_X, y=DEFAULT_Y):\n",
    "    if function is None:\n",
    "        return lambda f: decorator(f, x=x, y=y)\n",
    " \n",
    "    @wraps(function)\n",
    "    def wrapped():\n",
    "        return function(x, y)\n",
    " \n",
    "    return wrapped"
   ]
  },
  {
   "cell_type": "markdown",
   "id": "1ae4bb3c-4df0-4dc7-aa39-7959aa9cb507",
   "metadata": {},
   "source": [
    "This is analogous to the previous example, in the sense that we have the definition \n",
    "of the wrapped function (how it's being decorated). Then, if no function is provided, \n",
    "we return a new function that takes a function as a parameter (f) and returns the \n",
    "decorator with that function applied and the rest of the parameters bound. Then, in \n",
    "the second recursive call, the function will exist, and the regular decorator function \n",
    "(wrapped) will be returned instead.\n"
   ]
  },
  {
   "cell_type": "markdown",
   "id": "2f81f28f-251e-4c21-90ef-10a21665b2f8",
   "metadata": {},
   "source": [
    "You can achieve the same result by changing the lambda definition for a partial \n",
    "application of the function:"
   ]
  },
  {
   "cell_type": "code",
   "execution_count": null,
   "id": "9ab704ee-8179-4414-8771-6d5906d213e0",
   "metadata": {},
   "outputs": [],
   "source": [
    "return partial(decorator, x=x, y=y)"
   ]
  },
  {
   "cell_type": "markdown",
   "id": "456410bd-6ff5-42ee-9974-f5bfdcd5976d",
   "metadata": {},
   "source": [
    "If this is too complex for our use cases, we can always decide to make the parameters \n",
    "of our decorators take mandatory values."
   ]
  },
  {
   "cell_type": "markdown",
   "id": "b06a1a0b-09ba-4b03-af69-63fe1ac13b5b",
   "metadata": {},
   "source": [
    "In any case, it's probably a good idea to define the parameters of the decorators \n",
    "to be keyword-only (regardless of whether they have default values or not). This \n",
    "is because, in general, when applying a decorator, there isn't that much context \n",
    "about what each value is doing, and using positional values might not yield a very \n",
    "meaningful expression, so it's better to be more expressive and pass the name of \n",
    "the parameter along with the value."
   ]
  },
  {
   "cell_type": "markdown",
   "id": "8a454ceb-250f-4d9a-b87c-71a3c8271e9e",
   "metadata": {},
   "source": [
    "\n",
    "<div style=\"border: 1px solid #ccc; padding: 10px; background-color: #f9f9f9; display: flex; align-items: center;\">\n",
    "    <div style=\"font-size: 24px; color: #555; padding-right: 10px;\">💡</div>\n",
    "    <div style=\"font-size: 14px;\">\n",
    "        <strong>Tip:</strong> \n",
    "       If you're defining decorators with arguments, prefer to make them \n",
    "keyword-only. \n",
    "</div>\n"
   ]
  },
  {
   "cell_type": "markdown",
   "id": "17265eb4-39ae-474f-a1b7-af67c44c2754",
   "metadata": {},
   "source": [
    "Similarly, if our decorator does not intend to take parameters, and we want to be \n",
    "explicit about it, we can use the syntax we learned in Chapter 2, Pythonic Code, to \n",
    "define the function that our decorator receives as a single positional-only parameter."
   ]
  },
  {
   "cell_type": "markdown",
   "id": "3ada07dc-e138-4a74-a9dd-ed0e67704b5e",
   "metadata": {},
   "source": [
    "For our first example, the syntax would be:"
   ]
  },
  {
   "cell_type": "code",
   "execution_count": 24,
   "id": "a280fd9c-e782-43e3-ba61-daec315d067d",
   "metadata": {},
   "outputs": [],
   "source": [
    "def retry(operation, /): ..."
   ]
  },
  {
   "cell_type": "markdown",
   "id": "f3a7f0a1-4b20-480e-b713-8d07b6e81919",
   "metadata": {},
   "source": [
    "But keep in mind, this is not strictly recommended, just a way to make it explicit to \n",
    "you how the decorator is supposed to be invoked"
   ]
  },
  {
   "cell_type": "markdown",
   "id": "c667e7f7-f206-407b-a253-b2007696a2cd",
   "metadata": {},
   "source": [
    "## Decorators for coroutines\n",
    "As explained in the introduction, since pretty much everything in Python is an \n",
    "object, then pretty much anything can be decorated, and this includes coroutines \n",
    "as well"
   ]
  },
  {
   "cell_type": "markdown",
   "id": "c1ecca23-05bb-44f6-8117-94d77996a29b",
   "metadata": {},
   "source": [
    "However, there's a caveat here, and that is, as explained in previous chapters, \n",
    "asynchronous programming in Python introduces some differences in syntax. \n",
    "Therefore, these syntax differences will also be carried to the decorator."
   ]
  },
  {
   "cell_type": "markdown",
   "id": "ee05b88d-cffe-44e2-a736-ce517f160631",
   "metadata": {},
   "source": [
    "Simply speaking, if we were to write a decorator for a coroutine, we could simply \n",
    "adapt to the new syntax (remember to await the wrapped coroutine and define the \n",
    "wrapped object as a coroutine itself, meaning the internal function will likely have \n",
    "to use 'async def' instead of just 'def')."
   ]
  },
  {
   "cell_type": "markdown",
   "id": "ef566f56-ea4f-4a3f-98a0-4ba9e83890cc",
   "metadata": {},
   "source": [
    "The problem is if we want to have a decorator widely applicable to functions and \n",
    "coroutines. In most cases, creating two decorators would be the simplest (and \n",
    "perhaps best) approach, but if we wanted to expose a simpler interface for our users \n",
    "(by having fewer objects to remember), we could create a thin wrapper, acting like \n",
    "a dispatcher to two internal (not exposed) decorators. This would be like creating a \n",
    "facade but with a decorator"
   ]
  },
  {
   "cell_type": "markdown",
   "id": "58c93be0-925c-41ed-af61-a3a2ba490893",
   "metadata": {},
   "source": [
    "There is no general rule about how hard it would be to create a decorator for \n",
    "functions and coroutines, because that depends on the logic we want to put in the \n",
    "decorator itself. For example, in the code below there is a decorator that changes \n",
    "the parameters of the functions it receives, and this will work both for a regular \n",
    "function or a coroutine:"
   ]
  },
  {
   "cell_type": "code",
   "execution_count": null,
   "id": "a486ee09-c8e2-4640-9954-da372c1b6d9c",
   "metadata": {},
   "outputs": [],
   "source": [
    "X, Y = 1, 2\n",
    " \n",
    "def decorator(callable):\n",
    "    \"\"\"Call <callable> with fixed values\"\"\"\n",
    " \n",
    "    @wraps(callable)\n",
    "    def wrapped():\n",
    "        return callable(X, Y)\n",
    " \n",
    "    return wrapped\n",
    " \n",
    "@decorator\n",
    "def func(x, y):\n",
    "    return x + y\n",
    " \n",
    "@decorator\n",
    "async def coro(x, y):\n",
    "    return x + y"
   ]
  },
  {
   "cell_type": "markdown",
   "id": "5b3d9b84-a7f3-4b88-9330-006d9aaf3095",
   "metadata": {},
   "source": [
    "It's important to make one distinction about the coroutine though. The decorator \n",
    "will receive the coroutine as its callable argument, and then invoke it with the \n",
    "parameters. This creates the coroutine object (the task that will go to the event loop), \n",
    "but it doesn't await it, meaning that whoever calls await coro() will end up awaiting \n",
    "the coroutine resulting from what the decorator wrapped. This means, in simple \n",
    "cases like this one, we don't need to replace the coroutine with another coroutine \n",
    "(although this is generally recommended).\n"
   ]
  },
  {
   "cell_type": "markdown",
   "id": "6cbc0873-bfc5-454f-b32b-27a138db8a76",
   "metadata": {},
   "source": [
    "But again, this depends on what we need to do. If we need a timing function, then \n",
    "we have to wait for the function or coroutine to complete to measure the time, and \n",
    "for this we'll have to call await on it, which means that the wrapper object will in \n",
    "turn have to be a coroutine (but not the main decorator, though)."
   ]
  },
  {
   "cell_type": "markdown",
   "id": "a9aabfec-9782-40d2-9d49-1679a1ccc801",
   "metadata": {},
   "source": [
    "The code below illustrates this example using a decorator that selectively decides \n",
    "how to wrap the caller function:"
   ]
  },
  {
   "cell_type": "code",
   "execution_count": 26,
   "id": "29748236-8f11-410b-8352-b778da9c1398",
   "metadata": {},
   "outputs": [],
   "source": [
    "import inspect\n",
    "def timing(callable):\n",
    "    @wraps(callable)\n",
    "    def wrapped(*args, **kwargs):\n",
    "        start = time.time()\n",
    "        result = callable(*args, **kwargs)\n",
    "        latency = time.time() - start\n",
    "        return {\"latency\": latency, \"result\": result}\n",
    " \n",
    "    @wraps(callable)\n",
    "    async def wrapped_coro(*args, **kwargs):\n",
    "        start = time.time()\n",
    "        result = await callable(*args, **kwargs)\n",
    "        latency = time.time() - start\n",
    "        return {\"latency\": latency, \"result\": result}\n",
    " \n",
    "    if inspect.iscoroutinefunction(callable):\n",
    "        return wrapped_coro\n",
    " \n",
    "    return wrapped"
   ]
  },
  {
   "cell_type": "markdown",
   "id": "8cbab405-9151-47ec-8d30-5af938316a3b",
   "metadata": {},
   "source": [
    "The second wrapper is required for coroutines. If we didn't have it, then the code \n",
    "would have two problems. First, the call to callable (without await) would not \n",
    "actually wait for the operation to complete, meaning the results would be incorrect. \n",
    "And even worse, the value for the result key on the dictionary wouldn't be the \n",
    "result itself, but the coroutine created. As a consequence, the response would be a \n",
    "dictionary, and whoever tries to call that will try to await a dictionary, which will \n",
    "cause an error."
   ]
  },
  {
   "cell_type": "markdown",
   "id": "bc7eeada-dffe-4c30-b3fd-604108b10eb7",
   "metadata": {},
   "source": [
    " \n",
    "\n",
    "<div style=\"border: 1px solid #ccc; padding: 10px; background-color: #f9f9f9; display: flex; align-items: center;\">\n",
    "    <div style=\"font-size: 24px; color: #555; padding-right: 10px;\">💡</div>\n",
    "    <div style=\"font-size: 14px;\">\n",
    "        <strong>Tip:</strong> \n",
    "        As a general rule, you should replace a decorated object with \n",
    "another one of the same kind, that is, a function with a function, \n",
    "and a coroutine with another coroutine\n",
    "</div>\n"
   ]
  },
  {
   "cell_type": "markdown",
   "id": "01c6f8da-f563-42f3-a639-11b0d7924062",
   "metadata": {},
   "source": [
    "We're still due to study one last enhancement that was recently added to Python, and \n",
    "it lifts some of the restrictions its syntax had."
   ]
  },
  {
   "cell_type": "markdown",
   "id": "47e94821-97dc-4846-92a9-e2ae887385dc",
   "metadata": {},
   "source": [
    "## Extended syntax for decorators\n",
    "Python 3.9 introduced a novelty for decorators, with PEP-614 (https://www.python.\n",
    "org/dev/peps/pep-0614/), because a more general grammar is allowed. Before this \n",
    "enhancement, the syntax for invoking decorators (after the @) was restricted to very \n",
    "limited expressions, and not every single Python expression was allowed"
   ]
  },
  {
   "cell_type": "markdown",
   "id": "0d82f5a0-1df2-4774-a268-bbb70d9bed2e",
   "metadata": {},
   "source": [
    "With these restrictions lifted, we can now write more complex expressions and \n",
    "use them in our decorators, if we think that can save us some lines of code (but as \n",
    "always, be careful not to over-complicate and get a more compact but much harder\u0002to-read line)."
   ]
  },
  {
   "cell_type": "markdown",
   "id": "570901e3-5f24-4c65-b61e-34ac1c779936",
   "metadata": {},
   "source": [
    "As an example, we can simplify some of the nested functions we typically have for \n",
    "a simple decorator that logs a function call along with its parameters. Here (and \n",
    "for illustration purposes only), I replaced the nested function definitions, typical of \n",
    "decorators, with two lambda expressions:"
   ]
  },
  {
   "cell_type": "code",
   "execution_count": 1,
   "id": "c0a5ee55-72e6-4d10-9352-e98c5876da95",
   "metadata": {},
   "outputs": [],
   "source": [
    "def _log(f, *args, **kwargs):\n",
    "    print(f\"calling {f.__qualname__!r} with {args=} and {kwargs=}\")\n",
    "    return f(*args, **kwargs)\n",
    " \n",
    " \n",
    "@(lambda f: lambda *args, **kwargs: _log(f, *args, **kwargs))\n",
    "def func(x):\n",
    "    return x + 1"
   ]
  },
  {
   "cell_type": "code",
   "execution_count": null,
   "id": "af95f6f0-5e07-4a96-88f0-b9187f9dae8f",
   "metadata": {},
   "outputs": [],
   "source": [
    "func(3)"
   ]
  },
  {
   "cell_type": "markdown",
   "id": "447d1434-d6a6-458d-85bd-db20f8cc897c",
   "metadata": {},
   "source": [
    "The PEP document cites some examples for when this feature can be useful (like \n",
    "simplifying no-op functions to evaluate other expressions, or avoiding the use of \n",
    "the eval function)."
   ]
  },
  {
   "cell_type": "markdown",
   "id": "fbe2b79d-48f6-464b-99b7-7fd7a461d0ce",
   "metadata": {},
   "source": [
    "The recommendation of this book for this feature is consistent with all the cases in \n",
    "which a more compact statement can be achieved: write the more compact version \n",
    "of the code as long as it doesn't hurt readability. If the decorator expression becomes \n",
    "hard to read, prefer the more verbose but simpler alternative of writing two or more \n",
    "functions.\n"
   ]
  },
  {
   "cell_type": "markdown",
   "id": "67a10ae8-4d46-48c7-905c-30b2ef9d9339",
   "metadata": {},
   "source": [
    "## Good uses for decorators\n",
    "In this section, we will take a look at some common patterns that make good use of \n",
    "decorators. These are common situations for when decorators are a good choice."
   ]
  },
  {
   "cell_type": "markdown",
   "id": "a0738658-7b81-421c-91dd-4eebcc0395ce",
   "metadata": {},
   "source": [
    "From all the countless applications decorators can be used for, we will enumerate \n",
    "a few, the most common or relevant ones:"
   ]
  },
  {
   "cell_type": "markdown",
   "id": "3f525751-1ac4-4c70-aef4-f16fff82de23",
   "metadata": {},
   "source": [
    "#### • Transforming parameters: Changing the signature of a function to expose a nicer API, while encapsulating details on how the parameters are treated and transformed underneath. We must be careful with this use of decorators, because it's only a good trait when it's intentional. That means, if we are explicitly using decorators to provide a good signature for functions that had a rather convoluted one, then it's a great way of achieving cleaner code by means of decorators. If, on the other hand, the signature of a function changed inadvertently because of a decorator, then that's something we would want to avoid (and we'll discuss how toward the end of the chapter).\n",
    "\n",
    "#### • Tracing code: Logging the execution of a function with its parameters. You might be familiar with multiple libraries that provide tracing capabilities, and often expose such functionality as decorators to add to our functions. This is a nice abstraction, and a good interface to provide, as a way of integrating the code with external parties without too much disruption. In addition, it's a great source of inspiration, so we can write our own logging or tracing functionality as decorators.\n",
    "\n",
    "#### • Validating parameters: Decorators can be used to validate parameter types (against expected values or their annotations, for example) in a transparent way. With the use of decorators, we could enforce preconditions for our abstractions, following the ideas of designing by contract.\n",
    "\n",
    "#### • Implementing retry operations: In a similar way to the example we've explored in the previous section.\n",
    "\n",
    "#### • Simplifying classes by moving some (repetitive) logic into decorators: This is related to the DRY principle, which we'll revisit toward the end of the chapter"
   ]
  },
  {
   "cell_type": "markdown",
   "id": "657377df-1c0e-43d3-8d72-c2ea0bd22517",
   "metadata": {},
   "source": [
    "In the following sections, I'll discuss some of these topics in more detail."
   ]
  },
  {
   "cell_type": "markdown",
   "id": "34b88f5f-24de-4913-89fa-d7376b8c430f",
   "metadata": {},
   "source": [
    "## Adapting function signatures\n",
    "In object-oriented design, sometimes there's the case of having objects with different \n",
    "interfaces that need to interact. A solution to this problem is the adapter design \n",
    "pattern, which we shall discuss in Chapter 7, Generators, Iterators, and Asynchronous \n",
    "Prpgramming, when we review some of the main design patterns.\n"
   ]
  },
  {
   "cell_type": "markdown",
   "id": "6351deac-cd63-4e93-b057-98d731e81ad6",
   "metadata": {},
   "source": [
    "The topic of this section is, however, similar, in the sense that sometimes we need to \n",
    "adapt not objects, but function signatures."
   ]
  },
  {
   "cell_type": "markdown",
   "id": "b77a9410-27cf-44f7-a882-84569565186a",
   "metadata": {},
   "source": [
    "Imagine a scenario in which you're working with legacy code, and there's a module \n",
    "that contains lots of functions defined with a complex signature (lots of parameters, \n",
    "boilerplate, etc.). It would be nice to have a cleaner interface to interact with these \n",
    "definitions but changing lots of functions implies a major refactor."
   ]
  },
  {
   "cell_type": "markdown",
   "id": "5af7612e-72f2-4677-8862-8a2d0b55d665",
   "metadata": {},
   "source": [
    "We can use decorators to keep the differences in the changes to a minimum."
   ]
  },
  {
   "cell_type": "markdown",
   "id": "cae8b542-b646-453b-a564-17c9ef883d94",
   "metadata": {},
   "source": [
    "Sometimes we can use decorators as an adapter between our code and a framework \n",
    "we're using, if, for example, that framework has the aforementioned considerations."
   ]
  },
  {
   "cell_type": "markdown",
   "id": "058c18d6-4804-4396-9eff-10f75f8a6244",
   "metadata": {},
   "source": [
    "Imagine the case of a framework that expects to call functions defined by us, \n",
    "maintaining a certain interface:"
   ]
  },
  {
   "cell_type": "code",
   "execution_count": 29,
   "id": "62c2001f-43e9-4ecf-b825-af99fa28c656",
   "metadata": {},
   "outputs": [],
   "source": [
    "def resolver_function(root, args, context, info): ..."
   ]
  },
  {
   "cell_type": "markdown",
   "id": "d1db8b45-0440-41d3-91be-d5e141e18ebf",
   "metadata": {},
   "source": [
    "Now, we have that signature everywhere, and decide that it's better for us to create \n",
    "an abstraction from all those parameters that encapsulates them and exposes the \n",
    "behavior we need in our application"
   ]
  },
  {
   "cell_type": "markdown",
   "id": "444d7cf3-c75a-4506-8f61-956c0d4b153e",
   "metadata": {},
   "source": [
    "So now we have lots of functions whose first line repeats the boilerplate of creating \n",
    "the same object again and again, and then the rest of the function only interacts \n",
    "with our domain object:"
   ]
  },
  {
   "cell_type": "code",
   "execution_count": 30,
   "id": "55bf6e77-be48-4cc1-a520-a8cc83e59fdf",
   "metadata": {},
   "outputs": [],
   "source": [
    "def resolver_function(root, args, context, info):\n",
    "    helper = DomainObject(root, args, context, info)\n",
    "    ...\n",
    "    helper.process()"
   ]
  },
  {
   "cell_type": "markdown",
   "id": "ab18d362-8b59-4266-a942-38a24f8a3e64",
   "metadata": {},
   "source": [
    "In this example, we could have a decorator changing the signature of the function, \n",
    "so that we can write our functions assuming the helper object is passed directly. In \n",
    "this case, the task of the decorator would be to intercept the original parameters, \n",
    "create the domain object, and then pass the helper object to our function. We \n",
    "then define our functions assuming we only receive the object we need, already \n",
    "initialized."
   ]
  },
  {
   "cell_type": "markdown",
   "id": "98e1dc57-f849-4b42-a5a2-f75438d4a27f",
   "metadata": {},
   "source": [
    "Namely, we would like to write our code in this form:"
   ]
  },
  {
   "cell_type": "code",
   "execution_count": null,
   "id": "6f6d3271-e579-45d8-90ab-7008855faed7",
   "metadata": {},
   "outputs": [],
   "source": [
    "@DomainArgs\n",
    "def resolver_function(helper):\n",
    "    helper.process()\n"
   ]
  },
  {
   "cell_type": "markdown",
   "id": "5e42ef46-0e31-43ef-a1c5-3d5dd5b4a7ac",
   "metadata": {},
   "source": [
    "This works the other way around too, for example, if the legacy code we have is the \n",
    "one taking too many parameters, and we're always deconstructing an object that's \n",
    "already created, because refactoring the legacy code would be risky, then we can \n",
    "do that with a decorator as an intermediate layer."
   ]
  },
  {
   "cell_type": "markdown",
   "id": "12221b8d-a014-4b5c-a465-af916928b424",
   "metadata": {},
   "source": [
    "The idea is that this use of decorators can help you write functions with simpler, \n",
    "more compact signatures"
   ]
  },
  {
   "cell_type": "markdown",
   "id": "4fe04880-f06b-42bd-9bb4-38093ea01540",
   "metadata": {},
   "source": [
    "## Validating parameters\n",
    "We have mentioned before that decorators can be used to validate parameters (and \n",
    "even enforce some preconditions or postconditions under the idea of Design by \n",
    "Contract (DbC)), so from this, you probably have got the idea that it is somewhat \n",
    "common to use decorators when dealing with or manipulating parameters."
   ]
  },
  {
   "cell_type": "markdown",
   "id": "a4a8ec94-dd90-4b62-8679-5afeebb5399f",
   "metadata": {},
   "source": [
    "In particular, there are some cases where we find ourselves repeatedly creating \n",
    "similar objects or applying similar transformations that we would wish to abstract \n",
    "away. Most of the time, we can achieve this by simply using a decorator."
   ]
  },
  {
   "cell_type": "markdown",
   "id": "e16c7b70-97c9-4b13-b3e8-6ad6963e31ee",
   "metadata": {},
   "source": [
    "## Tracing code\n",
    "When talking about tracing in this section, we will refer to something more general \n",
    "that has to do with dealing with the execution of a function that we wish to monitor. \n",
    "This could refer to scenarios in which we want to:"
   ]
  },
  {
   "cell_type": "markdown",
   "id": "1666f6fd-bdde-4d34-bd46-cd1ea0e5252e",
   "metadata": {},
   "source": [
    "• Trace the execution of a function (for example, by logging the lines it \n",
    "executes)\n",
    "\n",
    "• Monitor some metrics over a function (such as CPU usage or memory \n",
    "footprint)\n",
    "\n",
    "• Measure the running time of a function\n",
    "\n",
    "• Log when a function was called, and the parameters that were passed to it"
   ]
  },
  {
   "cell_type": "markdown",
   "id": "688627c7-8760-4df4-bd34-f23a0d59aa7f",
   "metadata": {},
   "source": [
    "In the next section, we will explore a simple example of a decorator that logs the \n",
    "execution of a function, including its name and the time it took to run"
   ]
  },
  {
   "cell_type": "markdown",
   "id": "3eab226c-d955-4095-829c-fc22b7165b4c",
   "metadata": {},
   "source": [
    "## Effective decorators – avoiding common \n",
    "mistakes\n",
    "While decorators are a great feature of Python, they are not exempt from issues if \n",
    "used incorrectly. In this section, we will see some common issues to avoid in order to \n",
    "create effective decorators.\n"
   ]
  },
  {
   "cell_type": "markdown",
   "id": "b86bca53-7b4f-4470-867b-35cc63a31f86",
   "metadata": {},
   "source": [
    "## Preserving data about the original wrapped object\n",
    "One of the most common problems when applying a decorator to a function is that \n",
    "some of the properties or attributes of the original function are not maintained, \n",
    "leading to undesired, and hard-to-track, side effects."
   ]
  },
  {
   "cell_type": "markdown",
   "id": "83c454a5-6846-4b99-bf10-10ce864c9768",
   "metadata": {},
   "source": [
    "To illustrate this, we show a decorator that is in charge of logging when the function \n",
    "is about to run:"
   ]
  },
  {
   "cell_type": "code",
   "execution_count": 33,
   "id": "4ffa1d6d-231b-4774-823e-91fdf47d36d2",
   "metadata": {},
   "outputs": [],
   "source": [
    "# decorator_wraps_1.py\n",
    "def trace_decorator(function):\n",
    "    def wrapped(*args, **kwargs):\n",
    "        logger.info(\"running %s\", function.__qualname__)\n",
    "        return function(*args, **kwargs)\n",
    "    return wrapped"
   ]
  },
  {
   "cell_type": "markdown",
   "id": "c00596ca-22df-41a6-a233-46116eed3357",
   "metadata": {},
   "source": [
    "Now, let's imagine we have a function with this decorator applied to it. We might \n",
    "initially think that nothing of that function is modified with respect to its original \n",
    "definition:"
   ]
  },
  {
   "cell_type": "code",
   "execution_count": 34,
   "id": "1d988334-f131-4a58-87f9-d3018dc0430a",
   "metadata": {},
   "outputs": [],
   "source": [
    "@trace_decorator\n",
    "def process_account(account_id: str):\n",
    "    \"\"\"Process an account by Id.\"\"\"\n",
    "    logger.info(\"processing account %s\", account_id)\n",
    "    ..."
   ]
  },
  {
   "cell_type": "markdown",
   "id": "6c4bf00b-cde9-40a5-9431-b06650e86120",
   "metadata": {},
   "source": [
    "But maybe there are changes."
   ]
  },
  {
   "cell_type": "markdown",
   "id": "36f9d96a-46d7-4237-b481-496caf418981",
   "metadata": {},
   "source": [
    "The decorator is not supposed to alter anything from the original function, but, as \n",
    "it turns out, since it contains a flaw, it's actually modifying its name and docstring, \n",
    "among other properties"
   ]
  },
  {
   "cell_type": "markdown",
   "id": "de8b1db9-7f84-43b9-9ecd-f3fb33648e07",
   "metadata": {},
   "source": [
    "Let's try to get help for this function:"
   ]
  },
  {
   "cell_type": "code",
   "execution_count": null,
   "id": "d2bd0526-5dd8-49f1-8de7-8836082f0493",
   "metadata": {},
   "outputs": [],
   "source": [
    "help(process_account)"
   ]
  },
  {
   "cell_type": "markdown",
   "id": "4ab199fd-bdcb-408c-981a-93dc1ba529be",
   "metadata": {},
   "source": [
    "And let's check how it's called:"
   ]
  },
  {
   "cell_type": "code",
   "execution_count": null,
   "id": "6c94ca45-ddcb-41af-8751-0b2301660d2b",
   "metadata": {},
   "outputs": [],
   "source": [
    "process_account.__qualname__"
   ]
  },
  {
   "cell_type": "markdown",
   "id": "24cd3c94-190e-40e1-bf1c-e42848e3342a",
   "metadata": {},
   "source": [
    "And also, the annotations for the original function were lost:"
   ]
  },
  {
   "cell_type": "code",
   "execution_count": null,
   "id": "2684a17a-124c-4bfa-89f6-a6d0996baf35",
   "metadata": {},
   "outputs": [],
   "source": [
    "process_account.__annotations__"
   ]
  },
  {
   "cell_type": "markdown",
   "id": "38ea0108-4183-4293-859f-8db9dd876ffc",
   "metadata": {},
   "source": [
    "We can see that, since the decorator is actually changing the original function for a \n",
    "new one (called wrapped), what we actually see are the properties of this function \n",
    "instead of those from the original function."
   ]
  },
  {
   "cell_type": "markdown",
   "id": "8b141613-f0e7-4df9-9d28-db678e0a4531",
   "metadata": {},
   "source": [
    "If we apply a decorator like this one to multiple functions, all with different names, \n",
    "they will all end up being called wrapped, which is a major concern (for example, if \n",
    "we want to log or trace the function, this will make debugging even harder)."
   ]
  },
  {
   "cell_type": "markdown",
   "id": "7d71c1a9-9e5d-4b61-9f28-2178c5cc057e",
   "metadata": {},
   "source": [
    "Another problem is that if we placed docstrings with tests on these functions, they \n",
    "would be overridden by those of the decorator. As a result, the docstrings with the \n",
    "test we want will not run when we call our code with the doctest module (as we saw \n",
    "in Chapter 1, Introduction, Code Formatting, and Tools)"
   ]
  },
  {
   "cell_type": "markdown",
   "id": "8f63d415-018a-43e6-9417-b56c8966a779",
   "metadata": {},
   "source": [
    "The fix is simple, though. We just have to apply the wraps decorator in the internal \n",
    "function (wrapped), telling it that it is actually a wrapping function:"
   ]
  },
  {
   "cell_type": "code",
   "execution_count": 45,
   "id": "4d89ce02-23ea-4f1b-a652-53e22b226c94",
   "metadata": {},
   "outputs": [],
   "source": [
    "# decorator_wraps_2.py\n",
    "def trace_decorator(function):\n",
    "    @wraps(function)\n",
    "    def wrapped(*args, **kwargs):\n",
    "        logger.info(\"running %s\", function.__qualname__)\n",
    "        return function(*args, **kwargs)\n",
    "    return wrapped"
   ]
  },
  {
   "cell_type": "markdown",
   "id": "8349b50a-194e-4fa9-89fd-3c1d35af7481",
   "metadata": {},
   "source": [
    "Now, if we check the properties, we will obtain what we expected in the first place. \n",
    "Check help for the function, like so:"
   ]
  },
  {
   "cell_type": "code",
   "execution_count": null,
   "id": "d5523e05-b9e9-45d4-a300-fcf782c336bc",
   "metadata": {},
   "outputs": [],
   "source": [
    "from decorator_wraps_2 import process_account\n",
    "help(process_account)\n",
    "Help on function process_account in module decorator_wraps_2:\n",
    "\n",
    "process_account(account_id)\n",
    "    Process an account by Id."
   ]
  },
  {
   "cell_type": "markdown",
   "id": "a44cfc2b-9377-40df-9b6f-9a75ddf71f82",
   "metadata": {},
   "source": [
    "And verify that its qualified name is correct, like so:"
   ]
  },
  {
   "cell_type": "code",
   "execution_count": null,
   "id": "5fcb6d00-6b88-4ec8-ac27-4d25ed744c30",
   "metadata": {},
   "outputs": [],
   "source": [
    "process_account.__qualname__"
   ]
  },
  {
   "cell_type": "markdown",
   "id": "16584a73-e785-47a0-b67f-bb0843f830b6",
   "metadata": {},
   "source": [
    "Most importantly, we recovered the unit tests we might have had on the docstrings! \n",
    "By using the wraps decorator, we can also access the original, unmodified function \n",
    "under the __wrapped__ attribute. Although it should not be used in production, it \n",
    "might come in handy in some unit tests when we want to check the unmodified \n",
    "version of the function"
   ]
  },
  {
   "cell_type": "markdown",
   "id": "b9803a87-ff83-4ec6-9ed0-9377ee204d5e",
   "metadata": {},
   "source": [
    "In general, for simple decorators, the way we would use functools.wraps would \n",
    "typically follow the following general formula or structure:"
   ]
  },
  {
   "cell_type": "code",
   "execution_count": 48,
   "id": "97fd454e-5b23-4e3b-81c0-ce2043772c17",
   "metadata": {},
   "outputs": [],
   "source": [
    "def decorator(original_function):\n",
    "    @wraps(original_function)\n",
    "    def decorated_function(*args, **kwargs):\n",
    "        # modifications done by the decorator ...\n",
    "        return original_function(*args, **kwargs)\n",
    "    return decorated_function"
   ]
  },
  {
   "cell_type": "markdown",
   "id": "2636430c-a063-4936-9c17-64a9cd429477",
   "metadata": {},
   "source": [
    "Tips: Always use functools.wraps applied over the wrapped function, \n",
    "when creating a decorator, as shown in the preceding formula.\n"
   ]
  },
  {
   "cell_type": "markdown",
   "id": "378c5370-ed61-492c-9bf6-1320c1fd64ca",
   "metadata": {},
   "source": [
    "## Dealing with side effects in decorators\n",
    "In this section, we will learn that it is advisable to avoid side effects in the body of the \n",
    "decorator. There are cases where this might be acceptable, but the bottom line is that \n",
    "if in doubt, decide against it, for the reasons that are explained ahead. Everything \n",
    "that the decorator needs to do aside from the function that it's decorating should \n",
    "be placed in the innermost function definition, or there will be problems when it \n",
    "comes to importing. Nonetheless, sometimes these side effects are required (or even \n",
    "desired) to run at import time, and the obverse applies"
   ]
  },
  {
   "cell_type": "markdown",
   "id": "a4a23150-6b0f-4833-ad8b-fd56456b899a",
   "metadata": {},
   "source": [
    "We will see examples of both, and where each one applies. If in doubt, err on the \n",
    "side of caution, and delay all side effects until the very last moment, right after the \n",
    "wrapped function is going to be called."
   ]
  },
  {
   "cell_type": "markdown",
   "id": "d38ed299-d8b0-4881-9cbe-c5f59bfd948d",
   "metadata": {},
   "source": [
    "Next, we will see when it's not a good idea to place extra logic outside the wrapped\n",
    "function."
   ]
  },
  {
   "cell_type": "markdown",
   "id": "ba4c0264-67f0-44d5-b703-d8958fd475e5",
   "metadata": {},
   "source": [
    "## Incorrect handling of side effects in a decorator\n",
    "Let's imagine the case of a decorator that was created with the goal of logging when \n",
    "a function started running and then logging its running time:"
   ]
  },
  {
   "cell_type": "code",
   "execution_count": 49,
   "id": "577270f4-b94b-473f-96a1-c89ca123f681",
   "metadata": {},
   "outputs": [],
   "source": [
    "def traced_function_wrong(function):\n",
    "    logger.info(\"started execution of %s\", function)\n",
    "    start_time = time.time()\n",
    "    @wraps(function)\n",
    "    def wrapped(*args, **kwargs):\n",
    "        result = function(*args, **kwargs)\n",
    "        logger.info(\n",
    "            \"function %s took %.2fs\",\n",
    "            function,\n",
    "            time.time() - start_time\n",
    "        )\n",
    "        return result\n",
    "    return wrapped"
   ]
  },
  {
   "cell_type": "markdown",
   "id": "fc500663-7ff4-4760-905c-92f89e510a38",
   "metadata": {},
   "source": [
    "Now we will apply the decorator to a regular function, thinking that it will work \n",
    "just fine:"
   ]
  },
  {
   "cell_type": "code",
   "execution_count": null,
   "id": "0f2996dc-87bc-4bee-8e7a-1da9509e11c7",
   "metadata": {},
   "outputs": [],
   "source": [
    "@traced_function_wrong\n",
    "def process_with_delay(callback, delay=0):\n",
    "    time.sleep(delay)\n",
    "    return callback()"
   ]
  },
  {
   "cell_type": "markdown",
   "id": "f242d990-83e9-4414-a169-daf88dbad39b",
   "metadata": {},
   "source": [
    "This decorator has a subtle yet critical bug in it"
   ]
  },
  {
   "cell_type": "markdown",
   "id": "0b53f8e5-2386-4984-94c7-731f72cade4a",
   "metadata": {},
   "source": [
    "First, let's import the function, call it several times, and see what happens:"
   ]
  },
  {
   "cell_type": "code",
   "execution_count": null,
   "id": "d3bb958f-70a9-4df1-9a4e-7e39c29ad4bc",
   "metadata": {},
   "outputs": [],
   "source": [
    "from decorator_side_effects_1 import process_with_delay\n",
    "INFO:started execution of <function process_with_delay at 0x...>"
   ]
  },
  {
   "cell_type": "markdown",
   "id": "0030ef2a-0c39-442b-9fa4-3c36000832f0",
   "metadata": {},
   "source": [
    "Just by importing the function, we will notice that something's amiss. The logging \n",
    "line should not be there, because the function was not invoked."
   ]
  },
  {
   "cell_type": "markdown",
   "id": "3c18cab7-5bac-45d8-a92a-904740371f4b",
   "metadata": {},
   "source": [
    "Now, what happens if we run the function, and see how long it takes to run? \n",
    "Actually, we would expect that calling the same function multiple times will give \n",
    "similar results:"
   ]
  },
  {
   "cell_type": "code",
   "execution_count": null,
   "id": "70525eb0-1fb4-4f2b-8e11-18bcd9be42ab",
   "metadata": {},
   "outputs": [],
   "source": [
    "main()\n",
    "...\n",
    "INFO:function <function process_with_delay at 0x> took 8.67s\n",
    "main()\n",
    "...\n",
    "INFO:function <function process_with_delay at 0x> took 13.39s\n",
    "main()\n",
    "...\n",
    "INFO:function <function process_with_delay at 0x> took 17.01s"
   ]
  },
  {
   "cell_type": "markdown",
   "id": "7c5a553d-5a1d-4cda-9440-6bdedea4644f",
   "metadata": {},
   "source": [
    "Every time we run the same function, it takes increasingly longer! At this point, you \n",
    "have probably already noticed the (now obvious) error."
   ]
  },
  {
   "cell_type": "markdown",
   "id": "70d0cac7-c75a-4e6f-92df-1c96fcf4df9a",
   "metadata": {},
   "source": [
    "Remember the syntax for decorators. @traced_function_wrong actually means the \n",
    "following:"
   ]
  },
  {
   "cell_type": "code",
   "execution_count": null,
   "id": "acbc2ff7-82c5-45ce-9b0e-2b8f8825fdda",
   "metadata": {},
   "outputs": [],
   "source": [
    "process_with_delay = traced_function_wrong(process_with_delay)"
   ]
  },
  {
   "cell_type": "markdown",
   "id": "c758afe7-d98e-4a62-8090-4a756e01a526",
   "metadata": {},
   "source": [
    "And this will run when the module is imported. Therefore, the time that is set in the \n",
    "function will be the time the module was imported. Successive calls will compute the \n",
    "time difference from the running time until that original starting time. It will also log \n",
    "at the wrong moment, and not when the function is actually called."
   ]
  },
  {
   "cell_type": "markdown",
   "id": "318809d7-d565-424d-af09-bea6bfa0c16f",
   "metadata": {},
   "source": [
    "Luckily, the fix is also very simple—we just have to move the code inside the wrapped\n",
    "function in order to delay its execution:"
   ]
  },
  {
   "cell_type": "code",
   "execution_count": 57,
   "id": "63f5f188-6996-4b35-8536-6349997c3af0",
   "metadata": {},
   "outputs": [],
   "source": [
    "def traced_function(function):\n",
    "    @functools.wraps(function)\n",
    "    def wrapped(*args, **kwargs):\n",
    "        logger.info(\"started execution of %s\", function.__qualname__)\n",
    "        start_time = time.time()\n",
    "        result = function(*args, **kwargs)\n",
    "        logger.info(\n",
    "            \"function %s took %.2fs\",\n",
    "            function.__qualname__,\n",
    "            time.time() - start_time\n",
    "        )\n",
    "        return result\n",
    "    return wrapped"
   ]
  },
  {
   "cell_type": "markdown",
   "id": "e6539645-7552-4bf4-9dd2-e37626b9a0d0",
   "metadata": {},
   "source": [
    "With this new version, the previous problems are resolved.\n"
   ]
  },
  {
   "cell_type": "markdown",
   "id": "47b4f9d0-7d60-4216-a060-0150f8e9b949",
   "metadata": {},
   "source": [
    "If the actions of the decorator had been different, the results could have been much \n",
    "more disastrous. For instance, if it requires that you log events and send them to \n",
    "an external service, it will certainly fail unless the configuration has been run right \n",
    "before this has been imported, which we cannot guarantee. Even if we could, it \n",
    "would be bad practice. The same applies if the decorator has any other sort of side \n",
    "effect, such as reading from a file, parsing a configuration, and many more."
   ]
  },
  {
   "cell_type": "markdown",
   "id": "dd3de072-9503-47cb-a4d4-0e1233e0b96a",
   "metadata": {},
   "source": [
    "## Requiring decorators with side effects\n",
    "Sometimes, side effects on decorators are necessary, and we should not delay their \n",
    "execution until the last possible minute, because that's part of the mechanism that is \n",
    "required for them to work"
   ]
  },
  {
   "cell_type": "markdown",
   "id": "7c05f089-0ffe-4965-98d4-7db5c5ef9cb1",
   "metadata": {},
   "source": [
    "One common scenario for when we don't want to delay the side effect of decorators \n",
    "is when we need to register objects to a public registry that will be available in the \n",
    "module."
   ]
  },
  {
   "cell_type": "markdown",
   "id": "77b5f674-e525-4aec-a2ba-db641333a315",
   "metadata": {},
   "source": [
    "For instance, going back to our previous event system example, we now want to \n",
    "only make some events available in the module, but not all of them. In the hierarchy \n",
    "of events, we might want to have some intermediate classes that are not actual \n",
    "events we want to process on the system, but some of their derivative classes instead."
   ]
  },
  {
   "cell_type": "markdown",
   "id": "97a022d8-2dc2-4c99-b5f1-357f7a5b0fef",
   "metadata": {},
   "source": [
    "Instead of flagging each class based on whether it's going to be processed or not, \n",
    "we could explicitly register each class through a decorator"
   ]
  },
  {
   "cell_type": "markdown",
   "id": "bc2cf7f3-1372-4e4a-96c0-9283e4975151",
   "metadata": {},
   "source": [
    "In this case, we have a class for all events that relate to the activities of a user. \n",
    "However, this is just an intermediate table for the types of events we actually want, \n",
    "namely UserLoginEvent and UserLogoutEvent"
   ]
  },
  {
   "cell_type": "code",
   "execution_count": 58,
   "id": "64b036db-d820-441c-b5cd-c20f96b3ac5a",
   "metadata": {},
   "outputs": [],
   "source": [
    "EVENTS_REGISTRY = {}\n",
    "def register_event(event_cls):\n",
    "    \"\"\"Place the class for the event into the registry to make it     accessible in the module.\n",
    "    \"\"\"\n",
    "    EVENTS_REGISTRY[event_cls.__name__] = event_cls\n",
    "    return event_cls\n",
    "class Event:\n",
    "    \"\"\"A base event object\"\"\"\n",
    "class UserEvent:\n",
    "    TYPE = \"user\"\n",
    "@register_event\n",
    "class UserLoginEvent(UserEvent):\n",
    "    \"\"\"Represents the event of a user when it has just accessed the system.\"\"\"\n",
    "@register_event\n",
    "class UserLogoutEvent(UserEvent):\n",
    "    \"\"\"Event triggered right after a user abandoned the system.\"\"\""
   ]
  },
  {
   "cell_type": "markdown",
   "id": "dfdbb1cf-e5ec-41df-b8b0-031388c5f26a",
   "metadata": {},
   "source": [
    "When we look at the preceding code, it seems that EVENTS_REGISTRY is empty, but \n",
    "after importing something from this module, it will get populated with all of the \n",
    "classes that are under the register_event decorator:"
   ]
  },
  {
   "cell_type": "code",
   "execution_count": null,
   "id": "4dc74227-1e6d-47d2-8f1e-bb78d3f5e749",
   "metadata": {},
   "outputs": [],
   "source": [
    "from decorator_side_effects_2 import EVENTS_REGISTRY\n",
    "EVENTS_REGISTRY\n",
    "{'UserLoginEvent': decorator_side_effects_2.UserLoginEvent,\n",
    " 'UserLogoutEvent': decorator_side_effects_2.UserLogoutEvent}"
   ]
  },
  {
   "cell_type": "markdown",
   "id": "3f688397-5780-41b3-bbfe-8c7bd8b21ae1",
   "metadata": {},
   "source": [
    "This might seem like it's hard to read, or even misleading, because EVENTS_REGISTRY\n",
    "will have its final value at runtime, right after the module was imported, and we \n",
    "cannot easily predict its value by just looking at the code."
   ]
  },
  {
   "cell_type": "markdown",
   "id": "28ba4430-1562-4482-aabc-180a93f2b90a",
   "metadata": {},
   "source": [
    "While that is true, in some cases this pattern is justified. In fact, many web \n",
    "frameworks or well-known libraries use this to work and expose objects or make \n",
    "them available. That said, be aware of this risk, if you are to implement something \n",
    "similar in your own projects: most of the time, an alternative solution would be \n",
    "preferred"
   ]
  },
  {
   "cell_type": "markdown",
   "id": "590ef8c9-961a-4b50-89b3-bf66d1547a64",
   "metadata": {},
   "source": [
    "It is also true that in this case, the decorator is not changing the wrapped object or \n",
    "altering the way it works in any way. However, the important note here is that if \n",
    "we were to do some modifications and define an internal function that modifies the \n",
    "wrapped object, we would still probably want the code that registers the resulting \n",
    "object outside it."
   ]
  },
  {
   "cell_type": "markdown",
   "id": "503dbabd-da79-4559-97bd-9fb864e10e4d",
   "metadata": {},
   "source": [
    "Notice the use of the word outside. It does not necessarily mean before, it's just not \n",
    "part of the same closure; but it's in the outer scope, so it's not delayed until runtime"
   ]
  },
  {
   "cell_type": "markdown",
   "id": "ec2f5a22-c0a4-4323-a230-b33d57215590",
   "metadata": {},
   "source": [
    "## Creating decorators that will always work\n",
    "There are several different scenarios to which decorators might apply. It can also \n",
    "be the case that we need to use the same decorator for objects that fall into these \n",
    "different multiple scenarios, for instance, if we want to reuse our decorator and \n",
    "apply it to a function, a class, a method, or a static method"
   ]
  },
  {
   "cell_type": "markdown",
   "id": "a6d927f7-bfd2-4058-ae1c-a462ac0c0853",
   "metadata": {},
   "source": [
    "If we create the decorator, just thinking about supporting only the first type of object \n",
    "we want to decorate, we might notice that the same decorator does not work equally \n",
    "well on a different type of object. A typical example is where we create a decorator \n",
    "to be used on a function, and then we want to apply it to a method of a class, only \n",
    "to realize that it does not work. A similar scenario might occur if we designed our \n",
    "decorator for a method, and then we want it to also apply for static methods or \n",
    "class methods."
   ]
  },
  {
   "cell_type": "markdown",
   "id": "1d6c1db0-35fb-4dfd-b9c9-67b815f18ac6",
   "metadata": {},
   "source": [
    "When designing decorators, we typically think about reusing code, so we will want \n",
    "to use that decorator for functions and methods as well"
   ]
  },
  {
   "cell_type": "markdown",
   "id": "3157a5a0-4dd6-49fa-9023-1d40593668ec",
   "metadata": {},
   "source": [
    "Defining our decorators with the signature *args and **kwargs will make them \n",
    "work in all cases because it's the most generic kind of signature that we can \n",
    "have. However, sometimes we might want not to use this, and instead define the \n",
    "decorator-wrapping function according to the signature of the original function, \n",
    "mainly because of two reasons:"
   ]
  },
  {
   "cell_type": "markdown",
   "id": "a6844722-e295-4bfe-ba25-a95ba5bd681b",
   "metadata": {},
   "source": [
    "• It will be more readable since it resembles the original function.\n",
    "\n",
    "• It actually needs to do something with the arguments, so receiving *args\n",
    "and **kwargs wouldn't be convenient"
   ]
  },
  {
   "cell_type": "markdown",
   "id": "0e0468a5-cd41-4a7e-b9ea-e5821939809d",
   "metadata": {},
   "source": [
    "Consider the case in which we have many functions in our code base that require \n",
    "a particular object to be created from a parameter. For instance, we pass a string, \n",
    "and initialize a driver object with it, repeatedly. Then we think we can remove the \n",
    "duplication by using a decorator that will take care of converting this parameter \n",
    "accordingly."
   ]
  },
  {
   "cell_type": "markdown",
   "id": "8d0b469d-4daa-436a-987e-abf3a82f0c6e",
   "metadata": {},
   "source": [
    "In the next example, we pretend that DBDriver is an object that knows how to connect \n",
    "and run operations on a database, but it needs a connection string. The methods we \n",
    "have in our code are designed to receive a string with the information of the database \n",
    "and require us to create an instance of DBDriver always. The idea of the decorator is \n",
    "that it's going to take the place of this conversion automatically—the function will \n",
    "continue to receive a string, but the decorator will create a DBDriver and pass it to \n",
    "the function, so internally we can assume that we receive the object we need directly.\n"
   ]
  },
  {
   "cell_type": "markdown",
   "id": "8d28baa7-77fa-4f9b-b77d-a4312f58b040",
   "metadata": {},
   "source": [
    "An example of using this in a function is shown in the next listing:"
   ]
  },
  {
   "cell_type": "code",
   "execution_count": null,
   "id": "0d9e6c56-be23-4be9-b967-468ea7fb0345",
   "metadata": {},
   "outputs": [],
   "source": [
    "# src/decorator_universal_1.py\n",
    "from functools import wraps\n",
    "from log import logger\n",
    "class DBDriver:\n",
    "    def __init__(self, dbstring: str) -> None:\n",
    "        self.dbstring = dbstring\n",
    "    def execute(self, query: str) -> str:\n",
    "        return f\"query {query} at {self.dbstring}\"\n",
    "def inject_db_driver(function):\n",
    "    \"\"\"This decorator converts the parameter by creating a ``DBDriver``\n",
    "    instance from the database dsn string.\n",
    "    \"\"\"\n",
    "    @wraps(function)\n",
    "    def wrapped(dbstring):\n",
    "        return function(DBDriver(dbstring))\n",
    "    return wrapped\n",
    "@inject_db_driver\n",
    "def run_query(driver):\n",
    "    return driver.execute(\"test_function\")"
   ]
  },
  {
   "cell_type": "markdown",
   "id": "102661c1-445b-4e13-99c7-f1302722f138",
   "metadata": {},
   "source": [
    "It's easy to verify that if we pass a string to the function, we get the result done by an \n",
    "instance of DBDriver, so the decorator works as expected:"
   ]
  },
  {
   "cell_type": "code",
   "execution_count": null,
   "id": "dd4ca7bd-d525-427d-b35e-20f4f6f1b653",
   "metadata": {},
   "outputs": [],
   "source": [
    "run_query(\"test_OK\")\n",
    "'query test_function at test_OK'"
   ]
  },
  {
   "cell_type": "markdown",
   "id": "e6f77df4-1b80-4130-85da-3be03a5c0081",
   "metadata": {},
   "source": [
    "But now, we want to reuse this same decorator in a class method, where we find the \n",
    "same problem:"
   ]
  },
  {
   "cell_type": "code",
   "execution_count": null,
   "id": "c6a74714-0ac3-4b1a-a3a0-334b0184e5e2",
   "metadata": {},
   "outputs": [],
   "source": [
    "class DataHandler:\n",
    "    @inject_db_driver\n",
    "    def run_query(self, driver):\n",
    "        return driver.execute(self.__class__.__name__)"
   ]
  },
  {
   "cell_type": "markdown",
   "id": "a0ab636d-b6d6-46d5-9133-2768d5ae9658",
   "metadata": {},
   "source": [
    "We try to use this decorator, only to realize that it doesn't work:"
   ]
  },
  {
   "cell_type": "code",
   "execution_count": null,
   "id": "6a66c4f1-87e5-4c22-9077-c775ee1ffd4b",
   "metadata": {},
   "outputs": [],
   "source": [
    "DataHandler().run_query(\"test_fails\")\n",
    "Traceback (most recent call last):\n",
    "  ...\n",
    "TypeError: wrapped() takes 1 positional argument but 2 were given"
   ]
  },
  {
   "cell_type": "markdown",
   "id": "096321de-5878-407c-9b0a-524370583f37",
   "metadata": {},
   "source": [
    "What is the problem?"
   ]
  },
  {
   "cell_type": "markdown",
   "id": "871f0c48-cdfb-479f-8c74-365d0d2dc845",
   "metadata": {},
   "source": [
    "The method in the class is defined with an extra argument—self"
   ]
  },
  {
   "cell_type": "markdown",
   "id": "4abdd1e2-6899-4f82-9d9a-bda217d07f30",
   "metadata": {},
   "source": [
    "Methods are just a particular kind of function that receive self (the object they're \n",
    "defined upon) as the first parameter."
   ]
  },
  {
   "cell_type": "markdown",
   "id": "49926071-0704-4372-b749-807350e72150",
   "metadata": {},
   "source": [
    "Therefore, in this case, the decorator (designed to work with only one parameter, \n",
    "named dbstring) will interpret that self is said parameter, and call the method \n",
    "passing the string in the place of self, and nothing in the place of the second \n",
    "parameter, namely the string we are passing."
   ]
  },
  {
   "cell_type": "markdown",
   "id": "14c8098f-8c78-4ba7-8084-af913d3e3dff",
   "metadata": {},
   "source": [
    "To fix this issue, we need to create a decorator that will work equally for methods \n",
    "and functions, and we do so by defining this as a decorator object that also \n",
    "implements the protocol descriptor"
   ]
  },
  {
   "cell_type": "markdown",
   "id": "0962d14d-10ff-43c9-a0e4-f2095c8f4510",
   "metadata": {},
   "source": [
    "Descriptors are fully explained in Chapter 7, Generators, Iterators, and Asynchronous \n",
    "Programming, so for now, we can just take this as a recipe that will make the \n",
    "decorator work."
   ]
  },
  {
   "cell_type": "markdown",
   "id": "fdd71b9b-05e4-401e-a26b-7ddad00b652d",
   "metadata": {},
   "source": [
    "The solution is to implement the decorator as a class object and make this object \n",
    "a description, by implementing the __get__ method:"
   ]
  },
  {
   "cell_type": "code",
   "execution_count": 67,
   "id": "fb5732a6-dd90-4ebc-9ac3-f1d763105d16",
   "metadata": {},
   "outputs": [],
   "source": [
    "from functools import wraps\n",
    "from types import MethodType\n",
    "class inject_db_driver:\n",
    "    \"\"\"Convert a string to a DBDriver instance and pass this to the \n",
    "       wrapped function.\"\"\"\n",
    "    def __init__(self, function) -> None:\n",
    "        self.function = function\n",
    "        wraps(self.function)(self)\n",
    "    def __call__(self, dbstring):\n",
    "        return self.function(DBDriver(dbstring))\n",
    "    def __get__(self, instance, owner):\n",
    "        if instance is None:\n",
    "            return self\n",
    "        return self.__class__(MethodType(self.function, instance))"
   ]
  },
  {
   "cell_type": "markdown",
   "id": "601b6e2d-e180-4410-bf79-efb713250f8b",
   "metadata": {},
   "source": [
    "Details on descriptors will be explained in Chapter 6, Getting More Out of Our Objects \n",
    "with Descriptors, but for the purposes of this example, we can now say that what it \n",
    "does is actually rebind the callable it's decorating to a method, meaning that it will \n",
    "bind the function to the object, and then recreate the decorator with this new callable"
   ]
  },
  {
   "cell_type": "markdown",
   "id": "d176e546-6353-4615-8c20-528e64c61c45",
   "metadata": {},
   "source": [
    "For functions, it still works, because it won't call the __ get __ method at all."
   ]
  },
  {
   "cell_type": "markdown",
   "id": "fdf27ca6-5398-4b4c-919a-c344523b1053",
   "metadata": {},
   "source": [
    "## Decorators and clean code\n",
    "Now that we know more about decorators, how to write them, and avoiding \n",
    "common issues, it's time to take them to the next level and see how we can leverage \n",
    "what we have learned to achieve better software"
   ]
  },
  {
   "cell_type": "markdown",
   "id": "2dcc6e2b-c88f-432e-929a-1fad77820966",
   "metadata": {},
   "source": [
    "We have briefly touched on this subject throughout the previous sections, but \n",
    "those were closer-to-the-code examples, as the suggestions referred to how to make \n",
    "specific lines (or sections) of the code more readable."
   ]
  },
  {
   "cell_type": "markdown",
   "id": "78458da8-8701-4812-8cd8-33221117b4bc",
   "metadata": {},
   "source": [
    "The topics discussed from now relate to more general design principles. Some of \n",
    "these ideas we have already visited in previous chapters, but the outlook here is \n",
    "to understand how we use decorators for such purposes"
   ]
  },
  {
   "cell_type": "markdown",
   "id": "5688b404-8749-4b18-8ff7-f1c7c54dd62d",
   "metadata": {},
   "source": [
    "## Composition over inheritance\n",
    "We have already discussed briefly that in general, it's better to have composition\n",
    "rather than inheritance because the latter carries some problems of making \n",
    "components of the code more coupled"
   ]
  },
  {
   "cell_type": "markdown",
   "id": "577dd7bb-7793-4c6d-a6fe-c0c968805481",
   "metadata": {},
   "source": [
    "In the book Design Patterns: Elements of Reusable Object-Oriented Software (DESIG01), \n",
    "most of the ideas around the design pattern are based on the following idea:"
   ]
  },
  {
   "cell_type": "markdown",
   "id": "919625b6-58d4-4aeb-a6ad-a1394a17ce19",
   "metadata": {},
   "source": [
    "  __Favor composition over class inheritance__"
   ]
  },
  {
   "cell_type": "markdown",
   "id": "3e8aeb23-7ef1-4c80-96bf-8eb945a4ae78",
   "metadata": {},
   "source": [
    "In Chapter 2, Pythonic Code, I introduced the idea of using the magic method \n",
    "__ getattr __ to resolve attributes dynamically on objects. I also gave the example \n",
    "that this could be used to automatically resolve attributes based on a naming \n",
    "convention should this be required by an external framework, for example. Let's \n",
    "explore two different versions of solving this problem.\n"
   ]
  },
  {
   "cell_type": "markdown",
   "id": "92d350de-063a-4a5f-a60c-d44ce81bb111",
   "metadata": {},
   "source": [
    "For this example, let's assume we're interacting with a framework that has the \n",
    "naming convention of calling attributes with the prefix \"resolve_\" to resolve an \n",
    "attribute, but our domain objects only have those attributes without the \"resolve_\" \n",
    "prefix."
   ]
  },
  {
   "cell_type": "markdown",
   "id": "20d972ca-2134-4b55-964e-05197ce1d414",
   "metadata": {},
   "source": [
    "Clearly, we don't want to write a lot of repetitive methods named \"resolve_x\" for \n",
    "every attribute we have, so the first idea is to take advantage of the aforementioned \n",
    "  __ getattr __ magic method, and place it in a base class:"
   ]
  },
  {
   "cell_type": "code",
   "execution_count": 68,
   "id": "d8da792c-c2cf-4b03-86a9-97d79ac10f2c",
   "metadata": {},
   "outputs": [],
   "source": [
    "class BaseResolverMixin:\n",
    "    def __getattr__(self, attr: str):\n",
    "        if attr.startswith(\"resolve_\"):\n",
    "            *_, actual_attr = attr.partition(\"resolve_\")\n",
    "        else:\n",
    "            actual_attr = attr\n",
    "        try:\n",
    "            return self.__dict__[actual_attr]\n",
    "        except KeyError as e:\n",
    "            raise AttributeError from e\n",
    " \n",
    " \n",
    "@dataclass\n",
    "class Customer(BaseResolverMixin):\n",
    "    customer_id: str\n",
    "    name: str\n",
    "    address: str"
   ]
  },
  {
   "cell_type": "markdown",
   "id": "2a8c81b3-20fb-4a4c-906b-6afe0af600a8",
   "metadata": {},
   "source": [
    "This will do the trick, but can we do better?"
   ]
  },
  {
   "cell_type": "markdown",
   "id": "6daa882e-5835-45cc-ae5a-5f4203d4d168",
   "metadata": {},
   "source": [
    "We could devise a class decorator to set this method directly:"
   ]
  },
  {
   "cell_type": "code",
   "execution_count": 69,
   "id": "e5d44183-c4ce-45cc-b813-cdcbc9743081",
   "metadata": {},
   "outputs": [],
   "source": [
    "from dataclasses import dataclass\n",
    " \n",
    "def _resolver_method(self, attr):\n",
    "    \"\"\"The resolution method of attributes that will replace __getattr__.\"\"\"\n",
    "    if attr.startswith(\"resolve_\"):\n",
    "        *_, actual_attr = attr.partition(\"resolve_\")\n",
    "    else:\n",
    "        actual_attr = attr\n",
    "    try:\n",
    "        return self.__dict__[actual_attr]\n",
    "    except KeyError as e:\n",
    "        raise AttributeError from e\n",
    " \n",
    " \n",
    "def with_resolver(cls):\n",
    "    \"\"\"Set the custom resolver method to a class.\"\"\"\n",
    "    cls.__getattr__ = _resolver_method\n",
    "    return cls\n",
    " \n",
    " \n",
    "@dataclass\n",
    "@with_resolver\n",
    "class Customer:\n",
    "    customer_id: str\n",
    "    name: str\n",
    "    address: str"
   ]
  },
  {
   "cell_type": "markdown",
   "id": "8c9a1e9d-bc2a-489f-963f-421e56778c96",
   "metadata": {},
   "source": [
    "Both versions would comply with the following behavior:"
   ]
  },
  {
   "cell_type": "code",
   "execution_count": null,
   "id": "1e9894de-d9b5-4b5a-8980-8d4d559ad2aa",
   "metadata": {},
   "outputs": [],
   "source": [
    "customer = Customer(\"1\", \"name\", \"address\")\n",
    "customer.resolve_customer_id"
   ]
  },
  {
   "cell_type": "code",
   "execution_count": null,
   "id": "e2a04219-1db8-4938-bdd2-3bee3f303c70",
   "metadata": {},
   "outputs": [],
   "source": [
    "customer.resolve_name"
   ]
  },
  {
   "cell_type": "markdown",
   "id": "eb441286-9fa5-4684-bdff-5c3493a3dc62",
   "metadata": {},
   "source": [
    "First, we have the resolve method as a standalone function that respects the signature \n",
    "of how the original __ getattr __ would look like (that's why I even preserved self\n",
    "as the name of the first parameter, to be intentional about that function becoming a \n",
    "method)"
   ]
  },
  {
   "cell_type": "markdown",
   "id": "fdaba0b8-4e04-40ee-ade3-2cf48cc7acbc",
   "metadata": {},
   "source": [
    "The rest of the code seems rather simple. Our decorator only sets the method to the \n",
    "class it receives by parameter, and then we apply the decorator to our class without \n",
    "having to use inheritance anymore"
   ]
  },
  {
   "cell_type": "markdown",
   "id": "6f7b592b-83dc-43fc-ad5a-0439b6d9b919",
   "metadata": {},
   "source": [
    "How is this a little bit better than the previous example? For starters, we can argue \n",
    "the use of the decorator implies we're using composition (take a class, modify it, \n",
    "and return a new one) over inheritance, so our code is less coupled with the base \n",
    "class we had at the beginning."
   ]
  },
  {
   "cell_type": "markdown",
   "id": "af379cd5-1ceb-42a2-b87f-4c97daa130a1",
   "metadata": {},
   "source": [
    "Additionally, we can say that the use of inheritance (via a mixin class) in the first \n",
    "example was rather fictitious. We were not using inheritance to create a more \n",
    "specialized version of the class, only to take advantage of the __getattr__ method. \n",
    "This would be bad for two (complementary) reasons: first, inheritance is not the best \n",
    "way to reuse code. Good code is reused by having small, cohesive abstractions, not \n",
    "creating hierarchies. \n"
   ]
  },
  {
   "cell_type": "markdown",
   "id": "8bec5f3d-4b0c-48c6-8b90-4b59a2f29a86",
   "metadata": {},
   "source": [
    "Second, remember from previous chapters that creating a subclass should follow \n",
    "with the idea of specialization, the \"is a\" kind of relation. Think whether, from a \n",
    "conceptual point of view, a customer is indeed a BaseResolverMivin (and what is, by \n",
    "the way?)."
   ]
  },
  {
   "cell_type": "markdown",
   "id": "2ddd792b-4217-47f4-9b04-10cbbd0e6dc5",
   "metadata": {},
   "source": [
    "To shed some more light on this second point, imagine you have a hierarchy like \n",
    "this one:"
   ]
  },
  {
   "cell_type": "code",
   "execution_count": 72,
   "id": "7d7ce810-42bf-4ac3-b4a6-5b10adcf755c",
   "metadata": {},
   "outputs": [],
   "source": [
    "class Connection: pass\n",
    "class EncryptedConnection(Connection): pass"
   ]
  },
  {
   "cell_type": "markdown",
   "id": "be554d1e-a348-4849-9968-45a79b12879c",
   "metadata": {},
   "source": [
    "In this case, the use of inheritance is arguably correct, after all, an encrypted \n",
    "connection is a more specific kind of connection. But what would be a more specific \n",
    "kind of BaseResolverMixin? This is a mixin class, so it's expected to be mixed in \n",
    "the hierarchy along with other classes (using multiple inheritance). The use of this \n",
    "mix-in class is purely pragmatic, and for implementational purposes. Don't get me \n",
    "wrong, this is a pragmatic book, so you'll have to deal with mix-in classes in your \n",
    "professional experience, and it's perfectly fine to use them, but if we can avoid this \n",
    "purely implementational abstraction, and replace it with something that doesn't \n",
    "compromise our domain objects (in this case the Customer class), that's even better."
   ]
  },
  {
   "cell_type": "markdown",
   "id": "db6af732-42be-481f-9b0e-94381c266c0a",
   "metadata": {},
   "source": [
    "There's another exciting capability of the new design, which is extensibility. We \n",
    "have seen how decorators can be parametrized. Imagine the flexibility we could \n",
    "achieve in our design if we allowed the decorator to set any resolver function, not \n",
    "just the one we defined"
   ]
  },
  {
   "cell_type": "markdown",
   "id": "7c76386b-e49a-4f3d-ae02-fda15494b7c1",
   "metadata": {},
   "source": [
    "## The DRY principle with decorators\n",
    "We have seen how decorators allow us to abstract away certain logic into a separate \n",
    "component. The main advantage of this is that we can then apply the decorator \n",
    "multiple times to different objects in order to reuse code. This follows the Don't \n",
    "Repeat Yourself (DRY) principle since we define certain knowledge once and only \n",
    "once."
   ]
  },
  {
   "cell_type": "markdown",
   "id": "d2842bce-0b7e-4435-a499-82dc0f8a2122",
   "metadata": {},
   "source": [
    "The retry mechanism implemented in the previous sections is a good example of a \n",
    "decorator that can be applied multiple times to reuse code. Instead of making each \n",
    "particular function include its own retry logic, we create a decorator and apply \n",
    "it several times. This makes sense once we have made sure that the decorator can \n",
    "work with methods and functions equally."
   ]
  },
  {
   "cell_type": "markdown",
   "id": "b481d8e4-1904-4ba6-b14f-7e34ca47b58f",
   "metadata": {},
   "source": [
    "The class decorator that defined how events are to be represented also complies \n",
    "with the DRY principle in the sense that it defines one specific place for the logic for \n",
    "serializing an event, without needing to duplicate code scattered among different \n",
    "classes. Since we expect to reuse this decorator and apply it to many classes, its \n",
    "development (and complexity) pay off"
   ]
  },
  {
   "cell_type": "markdown",
   "id": "f9594001-3230-4b13-ba8d-7c27d1791c4b",
   "metadata": {},
   "source": [
    "This last remark is important to bear in mind when trying to use decorators in order \n",
    "to reuse code—we have to be absolutely sure that we will actually be saving code."
   ]
  },
  {
   "cell_type": "markdown",
   "id": "8504ebdf-94cf-4973-a3a2-be51e7e12ed8",
   "metadata": {},
   "source": [
    "Any decorator (especially if it is not carefully designed) adds another level of \n",
    "indirection to the code, and hence more complexity. Readers of the code might \n",
    "want to follow the path of the decorator to fully understand the logic of the function \n",
    "(although these considerations are addressed in the following section), so keep in \n",
    "mind that this complexity has to pay off. If there is not going to be too much reuse, \n",
    "then do not go for a decorator and opt for a simpler option (maybe just a separate \n",
    "function or another small class is enough)"
   ]
  },
  {
   "cell_type": "markdown",
   "id": "0479fd2b-2ae3-4643-b980-1c5661c55670",
   "metadata": {},
   "source": [
    "But how do we know what too much reuse is? Is there a rule to determine when \n",
    "to refactor existing code into a decorator? There is nothing specific to decorators in \n",
    "Python, but we could apply a general rule of thumb in software engineering (GLASS \n",
    "01) that states that a component should be tried out at least three times before \n",
    "considering creating a generic abstraction in the sort of a reusable component. From \n",
    "the same reference (GLASS 01) (I encourage all readers to read Facts and Fallacies of \n",
    "Software Engineering because it is a great reference) also comes the idea that creating \n",
    "reusable components is three times harder than creating simple ones."
   ]
  },
  {
   "cell_type": "markdown",
   "id": "4345c556-c666-4204-ba0d-751ee4f6c049",
   "metadata": {},
   "source": [
    "The bottom line is that reusing code through decorators is acceptable, but only \n",
    "when you take into account the following considerations:"
   ]
  },
  {
   "cell_type": "markdown",
   "id": "6788d278-d1e6-4706-b489-7a29532cab89",
   "metadata": {},
   "source": [
    "• Do not create the decorator in the first place from scratch. Wait until the \n",
    "pattern emerges and the abstraction for the decorator becomes clear, and \n",
    "then refactor.\n",
    "\n",
    "• Consider that the decorator has to be applied several times (at least three \n",
    "times) before implementing it.\n",
    "\n",
    "• Keep the code in the decorators to a minimum"
   ]
  },
  {
   "cell_type": "markdown",
   "id": "f2c6113d-88f0-48f5-84b2-d47440b2ce96",
   "metadata": {},
   "source": [
    "As we have revisited the DRY principle from the point of view of decorators, we \n",
    "can still discuss the separation of concerns applied to decorators, as explored in \n",
    "the next section."
   ]
  },
  {
   "cell_type": "markdown",
   "id": "3c7c0862-5ee3-4709-8787-e0d4f70cf32d",
   "metadata": {},
   "source": [
    "## Decorators and separation of concerns\n",
    "The last point in the previous list is so important that it deserves a section of its \n",
    "own. We have already explored the idea of reusing code and noticed that a key \n",
    "element of reusing code is having components that are cohesive. This means that \n",
    "they should have the minimum level of responsibility—do one thing, one thing only, \n",
    "and do it well. The smaller our components, the more reusable, and the more they \n",
    "can be applied in a different context without carrying extra behavior that will cause \n",
    "coupling and dependencies, which will make the software rigid.\n"
   ]
  },
  {
   "cell_type": "markdown",
   "id": "a4f4cdc6-8a85-4648-b006-663a14cfe283",
   "metadata": {},
   "source": [
    "To show you what this means, let's reprise one of the decorators that we used in \n",
    "a previous example. We created a decorator that traced the execution of certain \n",
    "functions with code similar to the following:"
   ]
  },
  {
   "cell_type": "code",
   "execution_count": 73,
   "id": "2fdee486-e4d5-4fec-85e5-a4190dad445f",
   "metadata": {},
   "outputs": [],
   "source": [
    "def traced_function(function):\n",
    "    @functools.wraps(function)\n",
    "    def wrapped(*args, **kwargs):\n",
    "        logger.info(\"started execution of %s\", function.__qualname__)\n",
    "        start_time = time.time()\n",
    "        result = function(*args, **kwargs)\n",
    "        logger.info(\n",
    "            \"function %s took %.2fs\",\n",
    "            function.__qualname__,\n",
    "            time.time() - start_time\n",
    "        )\n",
    "        return result\n",
    "    return wrapped"
   ]
  },
  {
   "cell_type": "markdown",
   "id": "2b55afd5-0b93-4b6f-b9bc-890d1d72333f",
   "metadata": {},
   "source": [
    "Now, this decorator, while it works, has a problem—it is doing more than one \n",
    "thing. It logs that a particular function was just invoked, and also logs how much \n",
    "time it took to run. Every time we use this decorator, we are carrying these two \n",
    "responsibilities, even if we only wanted one of them"
   ]
  },
  {
   "cell_type": "markdown",
   "id": "2febd16e-fda4-49c2-9b35-6a3c32f16104",
   "metadata": {},
   "source": [
    "This should be broken down into smaller decorators, each one with a more specific \n",
    "and limited responsibility:"
   ]
  },
  {
   "cell_type": "code",
   "execution_count": 74,
   "id": "6fd9e771-d67b-4a54-873e-7ce7cd030588",
   "metadata": {},
   "outputs": [],
   "source": [
    "def log_execution(function):\n",
    "    @wraps(function)\n",
    "    def wrapped(*args, **kwargs):\n",
    "        logger.info(\"started execution of %s\", function.__qualname__)\n",
    "        return function(*kwargs, **kwargs)\n",
    "    return wrapped\n",
    "def measure_time(function):\n",
    "    @wraps(function)\n",
    "    def wrapped(*args, **kwargs):\n",
    "        start_time = time.time()\n",
    "        result = function(*args, **kwargs)\n",
    "        logger.info(\n",
    "            \"function %s took %.2f\",\n",
    "            function.__qualname__,\n",
    "            time.time() - start_time,\n",
    "        )\n",
    "        return result\n",
    "    return wrapped"
   ]
  },
  {
   "cell_type": "markdown",
   "id": "ba0f397d-a583-44c3-ab6a-d22ccd2d9138",
   "metadata": {},
   "source": [
    "Notice that the same functionality that we had previously can be achieved by simply \n",
    "combining both of them:"
   ]
  },
  {
   "cell_type": "code",
   "execution_count": null,
   "id": "39d0486f-b97c-4dc6-9c56-ae66a621e06d",
   "metadata": {},
   "outputs": [],
   "source": [
    "@measure_time\n",
    "@log_execution\n",
    "def operation():\n",
    "    ...."
   ]
  },
  {
   "cell_type": "markdown",
   "id": "3ca3f61a-dbc6-464d-9691-c464c3e49ef9",
   "metadata": {},
   "source": [
    "Notice how the order in which the decorators are applied is also important"
   ]
  },
  {
   "cell_type": "markdown",
   "id": "dabe3be6-e5fc-4f9f-93bd-43b3ddee842b",
   "metadata": {},
   "source": [
    "Tips: Do not place more than one responsibility in a decorator. The \n",
    "single responsibility principle (SRP) applies to decorators as well"
   ]
  },
  {
   "cell_type": "markdown",
   "id": "73f9aa37-37ef-4b8d-b7c0-12cb0cfee948",
   "metadata": {},
   "source": [
    "Finally, we can analyze good decorators to get an idea of how they're used in \n",
    "practice. The next section starts wrapping up what we've learned in this chapter, \n",
    "by analyzing decorators"
   ]
  },
  {
   "cell_type": "markdown",
   "id": "f5e836b2-929a-4bf2-b340-e74fb04f8ffb",
   "metadata": {},
   "source": [
    "## Analysis of good decorators\n",
    "As a closing note for this chapter, let's review some examples of good decorators \n",
    "and how they are used both in Python itself, as well as in popular libraries. The \n",
    "idea is to get guidelines on how good decorators are created."
   ]
  },
  {
   "cell_type": "markdown",
   "id": "109485a9-4ecd-4758-833f-051cdccdaf5f",
   "metadata": {},
   "source": [
    "Before jumping into examples, let's first identify traits that good decorators should \n",
    "have:"
   ]
  },
  {
   "cell_type": "markdown",
   "id": "4cbdf283-903d-409a-91cc-2a1c1509c5a4",
   "metadata": {},
   "source": [
    "• Encapsulation, or separation of concerns: A good decorator should \n",
    "effectively separate different responsibilities between what it does and what \n",
    "it is decorating. It cannot be a leaky abstraction, meaning that a client of the \n",
    "decorator should only invoke it in black-box mode, without knowing how it \n",
    "is actually implementing its logic.\n",
    "    \n",
    "• Orthogonality: What the decorator does should be independent, and as \n",
    "decoupled as possible from the object it is decorating.\n",
    "\n",
    "• Reusability: It is desirable that the decorator can be applied to multiple \n",
    "types, and not that it just appears on one instance of one function, because \n",
    "that means that it could just have been a function instead. It has to be \n",
    "generic enough."
   ]
  },
  {
   "cell_type": "markdown",
   "id": "0f716401-8fcf-47eb-8f0f-d601fca1f3ea",
   "metadata": {},
   "source": [
    "A nice example of decorators can be found in the Celery project, where a task is \n",
    "defined by applying the decorator of the task from the application to a function:"
   ]
  },
  {
   "cell_type": "code",
   "execution_count": null,
   "id": "f7f2f20c-6adf-47f4-912d-c012cb6a7a2b",
   "metadata": {},
   "outputs": [],
   "source": [
    "@app.task\n",
    "def mytask():\n",
    "   ...."
   ]
  },
  {
   "cell_type": "markdown",
   "id": "18afcf22-f3c9-450f-801e-daf4773a3508",
   "metadata": {},
   "source": [
    "One of the reasons why this is a good decorator is because it is very good at \n",
    "something—encapsulation. The user of the library only needs to define the function \n",
    "body and the decorator will convert that into a task automatically. The @app.task\n",
    "decorator surely wraps a lot of logic and code, but none of that is relevant to the \n",
    "body of mytask(). It is complete encapsulation and separation of concerns—nobody \n",
    "will have to take a look at what that decorator does, so it is a correct abstraction that \n",
    "does not leak any details."
   ]
  },
  {
   "cell_type": "markdown",
   "id": "db8eb32f-5005-4a8c-90de-7c472f7ec303",
   "metadata": {},
   "source": [
    "Another common use of decorators is in web frameworks (Pyramid, Flask, and Sanic, \n",
    "just to name a few), on which the handlers for views are registered to the URLs \n",
    "through decorators:"
   ]
  },
  {
   "cell_type": "code",
   "execution_count": null,
   "id": "7b8ba0fa-141b-4298-83dc-f9c1f378b1f3",
   "metadata": {},
   "outputs": [],
   "source": [
    "@route(\"/\", method=[\"GET\"])\n",
    "def view_handler(request):\n",
    " ..."
   ]
  },
  {
   "cell_type": "markdown",
   "id": "47491212-283b-44ad-a3bb-4e5d099ff173",
   "metadata": {},
   "source": [
    "These sorts of decorators have the same considerations as before; they also provide \n",
    "total encapsulation because a user of the web framework rarely (if ever) needs to \n",
    "know what the @route decorator is doing. In this case, we know that the decorator is \n",
    "doing something more, such as registering these functions to a mapper to the URL, \n",
    "and also that it is changing the signature of the original function to provide us with a \n",
    "nicer interface that receives a request object with all the information already set."
   ]
  },
  {
   "cell_type": "markdown",
   "id": "ddedebec-8d6d-46a3-b85b-3c0a7cec10f2",
   "metadata": {},
   "source": [
    "The previous two examples are enough to make us notice something else about \n",
    "this use of decorators. They conform to an API. These libraries of frameworks \n",
    "are exposing their functionality to users through decorators, and it turns out that \n",
    "decorators are an excellent way of defining a clean programming interface"
   ]
  },
  {
   "cell_type": "markdown",
   "id": "27f8220d-be89-44db-beb7-238ecfa2826b",
   "metadata": {},
   "source": [
    "This is probably the best way we should think about decorators. Much like in the \n",
    "example of the class decorator that tells us how the attributes of the event are going \n",
    "to be handled, a good decorator should provide a clean interface so that users of \n",
    "the code know what to expect from the decorator, without needing to know how \n",
    "it works, or any of its details for that matter.\n"
   ]
  },
  {
   "cell_type": "markdown",
   "id": "bdc5a34e-f2ea-4d1b-9c6e-9998c4521230",
   "metadata": {},
   "source": [
    "# Summary\n",
    "Decorators are powerful tools in Python that can be applied to many things such \n",
    "as classes, methods, functions, generators, and many more. We have demonstrated \n",
    "how to create decorators in different ways, and for different purposes, and drew \n",
    "some conclusions along the way"
   ]
  },
  {
   "cell_type": "markdown",
   "id": "ddc66e85-930b-4b8d-b8c3-9cafca419d04",
   "metadata": {},
   "source": [
    "When creating a decorator for functions, try to make its signature match the original \n",
    "function being decorated. Instead of using the generic *args and **kwargs, making \n",
    "the signature match the original one will make it easier to read and maintain, and \n",
    "it will resemble the original function more closely, so it will be more familiar to \n",
    "readers of that code."
   ]
  },
  {
   "cell_type": "markdown",
   "id": "dca64df3-5d21-4159-8106-7de859c18595",
   "metadata": {},
   "source": [
    "Decorators are a very useful tool for reusing code and following the DRY principle. \n",
    "However, their usefulness comes at a cost, and if they are not used wisely, the \n",
    "complexity can do more harm than good. For that reason, we emphasize that \n",
    "decorators should be used when they are going to be applied multiple times \n",
    "(three or more times). In the same way as the DRY principle, we embrace the \n",
    "idea of separation of concerns, with the goal of keeping the decorators as small \n",
    "as possible."
   ]
  },
  {
   "cell_type": "markdown",
   "id": "2595ac26-4d35-4e68-bbfb-179f30d99770",
   "metadata": {},
   "source": [
    "Another good use of decorators is to create cleaner interfaces, for instance, \n",
    "simplifying the definition of a class by extracting part of its logic into a decorator. In \n",
    "this sense, decorators also help readability by providing the users with information \n",
    "about what that particular component will be doing, without needing to know how \n",
    "(encapsulation)"
   ]
  },
  {
   "cell_type": "markdown",
   "id": "7e34d4e0-01b2-47c3-ac15-dc580f79385c",
   "metadata": {},
   "source": [
    "In the next chapter, we will take a look at another advanced feature of Python—\n",
    "descriptors. In particular, we will see how with the help of descriptors, we can create \n",
    "even better decorators and solve some of the issues we encountered in this chapter."
   ]
  }
 ],
 "metadata": {
  "kernelspec": {
   "display_name": "Python 3",
   "language": "python",
   "name": "python3"
  },
  "language_info": {
   "codemirror_mode": {
    "name": "ipython",
    "version": 3
   },
   "file_extension": ".py",
   "mimetype": "text/x-python",
   "name": "python",
   "nbconvert_exporter": "python",
   "pygments_lexer": "ipython3",
   "version": "3.12.3"
  }
 },
 "nbformat": 4,
 "nbformat_minor": 5
}
