{
 "cells": [
  {
   "cell_type": "markdown",
   "id": "8e819f39-114e-4649-91dd-41ace33d4cb3",
   "metadata": {},
   "source": [
    "<div align=\"right\" style=\"font-size: 500%; font-weight: bold; margin-top: 80px; margin-right: 80px; color: black;\">\n",
    "    2\n",
    "</div>\n",
    "\n",
    "<div align=\"right\" style=\"font-size: 300%; font-weight: bold; margin-right: 80px; color: black;\">\n",
    "    Pythonic Code\n",
    "</div>\n",
    "\n"
   ]
  },
  {
   "cell_type": "markdown",
   "id": "12e7ccf3-2d6b-4ceb-8c23-959854b156c3",
   "metadata": {},
   "source": [
    "In this chapter, we will explore the way ideas are expressed in Python, with its own peculiarities. If you are familiar with the standard ways of accomplishing some tasks in programming (such as getting the last element of a list, iterating, and searching), or if you come from other programming languages (such as C, C++, and Java), then you will find that, in general, Python provides its own mechanism for most common tasks."
   ]
  },
  {
   "cell_type": "markdown",
   "id": "5e73c270-f2d4-46df-8a42-43ac07eb6002",
   "metadata": {},
   "source": [
    "In programming, an idiom is a particular way of writing code in order to perform a specific task. It is something common that repeats and follows the same structure every time. Some could even argue and call them a pattern, but be careful because they are not designed patterns (which we will explore later on). The main difference is that design patterns are high-level ideas, independent from the language (sort of), but they do not translate into code immediately. On the other hand, idioms are actually coded. It is the way things should be written when we want to perform a particular task."
   ]
  },
  {
   "cell_type": "markdown",
   "id": "00d7029b-7ddf-4083-9586-f838d3e809ff",
   "metadata": {},
   "source": [
    "As idioms are code, they are language dependent. Every language will have its idioms, which means the way things are done in that particular language (for example, how you would open and write a file in C, or C++). When the code follows these idioms, it is known as being idiomatic, which in Python is often referred to as Pythonic."
   ]
  },
  {
   "cell_type": "markdown",
   "id": "395f975c-3d8d-40ac-937e-c98469ed63ca",
   "metadata": {},
   "source": [
    "There are multiple reasons to follow these recommendations and write Pythonic code first (as we will see and analyze), since writing code in an idiomatic way usually performs better. It is also more compact and easier to understand. These are traits that we always want in our code so that it works effectively."
   ]
  },
  {
   "cell_type": "markdown",
   "id": "5d85b7e0-50b0-433e-80b0-c9ddba273ab0",
   "metadata": {},
   "source": [
    "The goals of this chapter are as follows:\r\n",
    "\r\n",
    "- To understand indices and slices, and correctly implement objects that can be indexed\r\n",
    "- To implement sequences and other iterables\r\n",
    "- To learn about good use cases for context managers, and how to write effective ones\r\n",
    "- To implement more idiomatic code through magic methods\r\n",
    "- To avoid common mistakes in Python that lead to undesired side effects\r\n",
    "\r\n",
    "We start by exploring the first item on the list (indexes and slices) in the next section.\r\n"
   ]
  },
  {
   "cell_type": "markdown",
   "id": "6837170e-4e18-4308-b85e-01db8b55abbe",
   "metadata": {},
   "source": [
    "Secondly, as introduced in the previous chapter, it is important that the entire development team can get used to the same patterns and structure of the code because this will help them focus on the true essence of the problem, and will help them avoid making mistakes."
   ]
  },
  {
   "cell_type": "markdown",
   "id": "43399415-ff74-424a-943d-5006df6b4ca1",
   "metadata": {},
   "source": [
    "<div style=\"font-size: 250%; font-weight: bold; margin-top: 40px; color: black;\">\n",
    "    Indexes and slices\n",
    "</div>"
   ]
  },
  {
   "cell_type": "markdown",
   "id": "65e0c3f2-f661-4e6d-9d60-13578f17321b",
   "metadata": {},
   "source": [
    "In Python, as in other languages, some data structures or types support accessing its elements by index. Another thing it has in common with most programming languages is that the first element is placed in the index number <code>0</code>. However, unlike those languages, when we want to access the elements in a different order than usual, Python provides extra features."
   ]
  },
  {
   "cell_type": "markdown",
   "id": "7559476d-0527-493a-960f-4ca10dfc6fd0",
   "metadata": {},
   "source": [
    "For example, how would you access the last element of an array in C? This is something I did the first time I tried Python. Thinking the same way as in C, I would get the element in the position of the length of the array minus one. In Python, this would work too, but we could also use a negative index number, which will start counting from the last element, as shown in the following commands:"
   ]
  },
  {
   "cell_type": "code",
   "execution_count": 1,
   "id": "af2a37ae",
   "metadata": {},
   "outputs": [
    {
     "data": {
      "text/plain": [
       "9"
      ]
     },
     "execution_count": 1,
     "metadata": {},
     "output_type": "execute_result"
    }
   ],
   "source": [
    "my_numbers = (4, 5, 3, 9)\n",
    "my_numbers[-1]"
   ]
  },
  {
   "cell_type": "code",
   "execution_count": 2,
   "id": "ef57d025-2d3e-4be8-943a-ff6c1989de88",
   "metadata": {},
   "outputs": [
    {
     "data": {
      "text/plain": [
       "5"
      ]
     },
     "execution_count": 2,
     "metadata": {},
     "output_type": "execute_result"
    }
   ],
   "source": [
    "my_numbers[-3]"
   ]
  },
  {
   "cell_type": "markdown",
   "id": "7a26a70a",
   "metadata": {},
   "source": [
    "This is an example of the preferred (Pythonic) way of doing things."
   ]
  },
  {
   "cell_type": "markdown",
   "id": "0597e60b",
   "metadata": {},
   "source": [
    "In addition to getting just one element, we can obtain many by using <code>slice</code>, as shown in the following commands:"
   ]
  },
  {
   "cell_type": "code",
   "execution_count": 3,
   "id": "669ad80b",
   "metadata": {},
   "outputs": [
    {
     "data": {
      "text/plain": [
       "(2, 3, 5)"
      ]
     },
     "execution_count": 3,
     "metadata": {},
     "output_type": "execute_result"
    }
   ],
   "source": [
    "my_numbers = (1, 1, 2, 3, 5, 8, 13, 21)\n",
    "\n",
    "my_numbers[2:5]\n"
   ]
  },
  {
   "cell_type": "markdown",
   "id": "da21708c",
   "metadata": {},
   "source": [
    "In this case, the syntax on the square brackets means that we get all of the elements on the tuple, starting from the index of the first number (inclusive), up to the index on the second one (not including it). Slices work this way in Python by excluding the end of the selected interval."
   ]
  },
  {
   "cell_type": "markdown",
   "id": "bf2bc261",
   "metadata": {},
   "source": [
    "You can exclude either one of the intervals, start or stop, and in that case, it will act from the beginning or end of the sequence, respectively, as shown in the following commands:"
   ]
  },
  {
   "cell_type": "code",
   "execution_count": 4,
   "id": "1ee2b5e7-cc2f-4677-a5cd-6a50b78261f5",
   "metadata": {
    "scrolled": true
   },
   "outputs": [
    {
     "data": {
      "text/plain": [
       "(1, 1, 2)"
      ]
     },
     "execution_count": 4,
     "metadata": {},
     "output_type": "execute_result"
    }
   ],
   "source": [
    "my_numbers[:3]"
   ]
  },
  {
   "cell_type": "code",
   "execution_count": 5,
   "id": "fff13eba-14ed-4c1b-a2d4-aba4441c9c04",
   "metadata": {},
   "outputs": [
    {
     "data": {
      "text/plain": [
       "(3, 5, 8, 13, 21)"
      ]
     },
     "execution_count": 5,
     "metadata": {},
     "output_type": "execute_result"
    }
   ],
   "source": [
    "my_numbers[3:]"
   ]
  },
  {
   "cell_type": "code",
   "execution_count": 6,
   "id": "6b1f811d-7428-416e-86ee-706bd1914987",
   "metadata": {},
   "outputs": [
    {
     "data": {
      "text/plain": [
       "(1, 1, 2, 3, 5, 8, 13, 21)"
      ]
     },
     "execution_count": 6,
     "metadata": {},
     "output_type": "execute_result"
    }
   ],
   "source": [
    "my_numbers[::]  # also my_numbers[:], returns a copy"
   ]
  },
  {
   "cell_type": "code",
   "execution_count": 7,
   "id": "cb024f97-a3e5-4598-a003-1ce79a3f5097",
   "metadata": {},
   "outputs": [
    {
     "data": {
      "text/plain": [
       "(1, 3, 8)"
      ]
     },
     "execution_count": 7,
     "metadata": {},
     "output_type": "execute_result"
    }
   ],
   "source": [
    "my_numbers[1:7:2]"
   ]
  },
  {
   "cell_type": "markdown",
   "id": "a92a30ae",
   "metadata": {},
   "source": [
    "In the first example, it will get everything up to the index in the position number `3`. In the second example, it will get all the numbers from the position `3` (inclusive), up to the end. In the second to last example, where both ends are excluded, it is actually creating a copy of the original tuple."
   ]
  },
  {
   "cell_type": "markdown",
   "id": "c8ed8552",
   "metadata": {},
   "source": [
    "The last example includes a third parameter, which is the step. This indicates how many elements to jump when iterating over the interval. In this case, it would mean getting the elements between the positions one and seven, jumping by two."
   ]
  },
  {
   "cell_type": "markdown",
   "id": "b7b3534f",
   "metadata": {},
   "source": [
    "In all of these cases, when we pass intervals to a sequence, what is actually happening is that we are passing `slice`. Note that `slice` is a built-in object in Python that you can build yourself and pass directly:"
   ]
  },
  {
   "cell_type": "code",
   "execution_count": 8,
   "id": "d50c9390-bb76-493f-9eb3-2e6e9dfd856c",
   "metadata": {},
   "outputs": [
    {
     "data": {
      "text/plain": [
       "(1, 3, 8)"
      ]
     },
     "execution_count": 8,
     "metadata": {},
     "output_type": "execute_result"
    }
   ],
   "source": [
    "interval = slice(1, 7, 2)\n",
    "my_numbers[interval]"
   ]
  },
  {
   "cell_type": "code",
   "execution_count": 9,
   "id": "2a6fb19a-2792-478c-8073-69ca6f743af5",
   "metadata": {},
   "outputs": [
    {
     "data": {
      "text/plain": [
       "True"
      ]
     },
     "execution_count": 9,
     "metadata": {},
     "output_type": "execute_result"
    }
   ],
   "source": [
    "interval = slice(None, 3)\n",
    "my_numbers[interval] == my_numbers[:3]"
   ]
  },
  {
   "cell_type": "markdown",
   "id": "1b50906a",
   "metadata": {},
   "source": [
    "Notice that when one of the elements is missing (start, stop, or step), it is considered to be `None`."
   ]
  },
  {
   "cell_type": "markdown",
   "id": "74440f5e-5c6c-4145-bde9-4b467a4d3b9a",
   "metadata": {},
   "source": [
    "<div style=\"border: 1px solid #ccc; padding: 10px; background-color: #f9f9f9; display: flex; align-items: center;\">\n",
    "    <div style=\"font-size: 24px; color: #555; padding-right: 10px;\">💡</div>\n",
    "    <div style=\"font-size: 14px;\">\n",
    "        <strong>Tip:</strong> You should always prefer to use this built-in syntax for slices, as opposed to manually trying to iterate the tuple, string, or list inside a <code>for</code> loop, excluding the elements by hand.\n",
    "    </div>\n",
    "</div>\n"
   ]
  },
  {
   "cell_type": "markdown",
   "id": "bbe84679-b9da-4c7e-9758-e2691ab6ac4a",
   "metadata": {},
   "source": [
    "<div style=\"font-size: 200%; font-weight: bold; margin-top: 30px; color: black;\">\n",
    "    Creating your own sequences\n",
    "</div>"
   ]
  },
  {
   "cell_type": "markdown",
   "id": "30735544-a73b-4b76-9753-c1bbe27203da",
   "metadata": {},
   "source": [
    "The functionality we just discussed works, thanks to a magic method (magic methods are those surrounded by double underscores that Python uses to reserve special behavior) called `__getitem__`. This is the method that is called when something like <code>myobject[key]</code> is called, passing the `key` (value inside the square brackets) as a parameter. A sequence, in particular, is an object that implements both `__getitem__` and `__len__`, and for this reason, it can be iterated over. Lists, tuples, and strings are examples of sequence objects in the standard library."
   ]
  },
  {
   "cell_type": "markdown",
   "id": "e854590a-ef87-476c-8795-9a75ead3e364",
   "metadata": {},
   "source": [
    "In this section, we care more about getting particular elements from an object by a key than building sequences or iterable objects, which is a topic explored in <i style=\"font-family: 'Times New Roman'; font-size: 16px;\"> Chapter 7, Generators, Iterators, and Asynchronous Programming. </i>"
   ]
  },
  {
   "cell_type": "markdown",
   "id": "855263f3-6fb7-435b-901f-ee5465c00e4e",
   "metadata": {},
   "source": [
    "If you are going to implement `__getitem__` in a custom class in your domain, you will have to take into account some considerations in order to follow a Pythonic approach."
   ]
  },
  {
   "cell_type": "markdown",
   "id": "edb26db4-b391-4f01-a415-116d6569b8b9",
   "metadata": {},
   "source": [
    "In the case that your class is a wrapper around a standard library object, you might as well delegate the behavior as much as possible to the underlying object. This means that if your class is actually a wrapper on the list, call all of the same methods on that list to make sure that it remains compatible. In the following listing, we can see an example of how an object wraps a list, and for the methods we are interested in, we just delegate to its corresponding version on the `list` object:"
   ]
  },
  {
   "cell_type": "code",
   "execution_count": null,
   "id": "e9de3f37",
   "metadata": {},
   "outputs": [],
   "source": [
    "from collections.abc import Sequence\n",
    "class Items(Sequence):\n",
    "    def __init__(self, *values):\n",
    "        self._values = list(values)\n",
    "    def __len__(self):\n",
    "        return len(self._values)\n",
    "    def __getitem__(self, item):\n",
    "        return self._values.__getitem__(item)"
   ]
  },
  {
   "cell_type": "markdown",
   "id": "17b602b5",
   "metadata": {},
   "source": [
    "To declare that our class is a sequence, it implements the `Sequence` interface from the `collections.abc` module (_https://docs.python.org/3/library/collections.abc.html_). For the classes you write that are intended to behave as standard types of objects (containers, mappings, and so on), it's a good idea to implement the interfaces from this module, because that reveals the intention of what that class is meant to be, and also because using the interfaces will force you to implement the required methods."
   ]
  },
  {
   "cell_type": "markdown",
   "id": "5a2f4b34",
   "metadata": {},
   "source": [
    "This example uses composition (because it contains an internal collaborator that is a list, rather than inheriting from the list class). Another way of doing it is through class inheritance, in which case we will have to extend the `collections.UserList` base class, with the considerations and caveats mentioned in the last part of this chapter."
   ]
  },
  {
   "cell_type": "markdown",
   "id": "5f0ab470",
   "metadata": {},
   "source": [
    "If, however, you are implementing your own sequence that is not a wrapper or does not rely on any built-in object underneath, then keep in mind the following points:\n",
    "\n",
    "- When indexing by a range, the result should be an instance of the same type of the class\n",
    "- In the range provided by <code>slice</code>, respect the semantics that Python uses, excluding the element at the end"
   ]
  },
  {
   "cell_type": "markdown",
   "id": "5110e897",
   "metadata": {},
   "source": [
    "The first point is a subtle error. Think about it—when you get a slice of a list, the result is a list; when you ask for a range in a tuple, the result is a tuple; and when you ask for a substring, the result is a string. It makes sense in each case that the result is of the same type as the original object. If you are creating, let's say, an object that represents an interval of dates, and you ask for a range on that interval, it would be a mistake to return a list or tuple, or something else. Instead, it should return a new instance of the same class with the new interval set. The best example of this is in the standard library, with the `range` function. If you call `range` with an interval, it will construct an iterable object that knows how to produce the values in the selected range. When you specify an interval for `range`, you get a new range (which makes sense), not a list:"
   ]
  },
  {
   "cell_type": "code",
   "execution_count": null,
   "id": "485d975b",
   "metadata": {},
   "outputs": [],
   "source": [
    "range(1, 100)[25:50]"
   ]
  },
  {
   "cell_type": "markdown",
   "id": "126e099f",
   "metadata": {},
   "source": [
    "The second rule is also about consistency—users of your code will find it more familiar and easier to use if it is consistent with Python itself. As Python developers, we are already used to the idea of how the slices work, how the `range` function works, and so on. Making an exception on a custom class will create confusion, which means that it will be harder to remember, and it might lead to bugs."
   ]
  },
  {
   "cell_type": "markdown",
   "id": "1bd928df",
   "metadata": {},
   "source": [
    "Now that we know about indices and slices, and how to create our own, in the next section, we'll take the same approach but for context managers. First, we'll see how context managers from the standard library work, and then we'll go to the next level and create our own."
   ]
  },
  {
   "cell_type": "markdown",
   "id": "55cf018d-e425-4248-af20-82753b3e9e18",
   "metadata": {},
   "source": [
    "<div style=\"font-size: 250%; font-weight: bold; margin-top: 40px; color: black;\">\n",
    "    Context managers\n",
    "</div>"
   ]
  },
  {
   "cell_type": "markdown",
   "id": "46e16956",
   "metadata": {},
   "source": [
    "Context managers are a distinctively useful feature that Python provides. The reason why they are so useful is that they correctly respond to a pattern. There are recurrent situations in which we want to run some code that has preconditions and postconditions, meaning that we want to run things before and after a certain main action, respectively. Context managers are great tools to use in those situations."
   ]
  },
  {
   "cell_type": "markdown",
   "id": "98f8a89a",
   "metadata": {},
   "source": [
    "Most of the time, we see context managers around resource management. For example, in situations when we open files, we want to make sure that they are closed after processing (so we do not leak file descriptors). Or, if we open a connection to a service (or even a socket), we also want to be sure to close it accordingly, or when dealing with temporary files, and so on."
   ]
  },
  {
   "cell_type": "markdown",
   "id": "a9afdef6",
   "metadata": {},
   "source": [
    "In all of these cases, you would normally have to remember to free all of the resources that were allocated and that is just thinking about the best case—but what about exceptions and error handling? Given the fact that handling all possible combinations and execution paths of our program makes it harder to debug, the most common way of addressing this issue is to put the cleanup code on a `finally` block so that we are sure we do not miss it. For example, a very simple case would look like the following:"
   ]
  },
  {
   "cell_type": "code",
   "execution_count": null,
   "id": "7191035c",
   "metadata": {},
   "outputs": [],
   "source": [
    "fd = open(filename)\n",
    "try:\n",
    "    process_file(fd)\n",
    "finally:\n",
    "    fd.close()"
   ]
  },
  {
   "cell_type": "markdown",
   "id": "82b91b4b",
   "metadata": {},
   "source": [
    "Nonetheless, there is a much more elegant and Pythonic way of achieving the same thing:"
   ]
  },
  {
   "cell_type": "code",
   "execution_count": null,
   "id": "feaca450",
   "metadata": {},
   "outputs": [],
   "source": [
    "with open(filename) as fd:\n",
    "    process_file(fd)\n"
   ]
  },
  {
   "cell_type": "markdown",
   "id": "2d384896",
   "metadata": {},
   "source": [
    "The `with` statement (PEP-343) enters the context manager. In this case, the `open` function implements the context manager protocol, which means that the file will be automatically closed when the block is finished, even if an exception occurred."
   ]
  },
  {
   "cell_type": "markdown",
   "id": "e922af3d",
   "metadata": {},
   "source": [
    "Context managers consist of two magic methods: `__enter__` and `__exit__`. On the first line of the context manager, the `with` statement will call the first method, `__enter__`, and whatever this method returns will be assigned to the variable labeled after `as`. This is optional—we don't really need to return anything specific on the `__enter__` method, and even if we do, there is still no strict reason to assign it to a variable if it is not required."
   ]
  },
  {
   "cell_type": "markdown",
   "id": "9ceabbba",
   "metadata": {},
   "source": [
    "After this line is executed, the code enters a new context, where any other Python code can be run. After the last statement on that block is finished, the context will be exited, meaning that Python will call the `__exit__` method of the original context manager object we first invoked."
   ]
  },
  {
   "cell_type": "markdown",
   "id": "6ea9658a",
   "metadata": {},
   "source": [
    "If there is an exception or error inside the context manager block, the `__exit__` method will still be called, which makes it convenient for safely managing the cleaning up of conditions. In fact, this method receives the exception that was triggered on the block in case we want to handle it in a custom fashion."
   ]
  },
  {
   "cell_type": "markdown",
   "id": "06b034bc",
   "metadata": {},
   "source": [
    "Despite the fact that context managers are very often found when dealing with resources (like the example we mentioned with files, connections, and so on), this is not the sole application they have. We can implement our own context managers in order to handle the particular logic we need."
   ]
  },
  {
   "cell_type": "markdown",
   "id": "752cc0af",
   "metadata": {},
   "source": [
    "Context managers are a good way of separating concerns and isolating parts of the code that should be kept independent, because if we mix them, then the logic will become harder to maintain."
   ]
  },
  {
   "cell_type": "markdown",
   "id": "5f68dc2a",
   "metadata": {},
   "source": [
    "As an example, consider a situation where we want to run a backup of our database with a script. The caveat is that the backup is offline, which means that we can only do it while the database is not running, and for this we have to stop it. After running the backup, we want to make sure that we start the process again, regardless of how the process of the backup itself went. "
   ]
  },
  {
   "cell_type": "markdown",
   "id": "71d75e05",
   "metadata": {},
   "source": [
    "Now, the first approach would be to create a huge monolithic function that tries to do everything in the same place, stop the service, perform the backup task, handle exceptions and all possible edge cases, and then try to restart the service again. You can imagine such a function, and for that reason, I will spare you the details, and instead come up directly with a possible way of tackling this issue with context managers:"
   ]
  },
  {
   "cell_type": "code",
   "execution_count": null,
   "id": "ccb78c39",
   "metadata": {},
   "outputs": [],
   "source": [
    "def stop_database():\n",
    "    run(\"systemctl stop postgresql.service\")\n",
    "    \n",
    "def start_database():\n",
    "    run(\"systemctl start postgresql.service\")\n",
    "    \n",
    "class DBHandler:\n",
    "    def __enter__(self):\n",
    "        stop_database()\n",
    "        return self\n",
    "        \n",
    "    def __exit__(self, exc_type, ex_value, ex_traceback):\n",
    "        start_database()\n",
    "        \n",
    "def db_backup():\n",
    "    run(\"pg_dump database\")\n",
    "    \n",
    "def main():\n",
    "    with DBHandler():\n",
    "        db_backup()\n"
   ]
  },
  {
   "cell_type": "markdown",
   "id": "e759677e",
   "metadata": {},
   "source": [
    "In this example, we don't need the result of the context manager inside the block, and that's why we can consider that, at least for this particular case, the return value of `__enter__` is irrelevant. This is something to take into consideration when designing context managers—what do we need once the block is started? As a general rule, it should be good practice (although not mandatory) to always return something on `__enter__`."
   ]
  },
  {
   "cell_type": "markdown",
   "id": "c1f20d73",
   "metadata": {},
   "source": [
    "In this block, we only run the task for the backup, independently from the maintenance tasks, as we saw previously. We also mentioned that even if the backup task has an error, `__exit__` will still be called."
   ]
  },
  {
   "cell_type": "markdown",
   "id": "f8f0ca79",
   "metadata": {},
   "source": [
    "Notice the signature of the `__exit__` method. It receives the values for the exception that was raised on the block. If there was no exception on the block, they are all none."
   ]
  },
  {
   "cell_type": "markdown",
   "id": "b3577401",
   "metadata": {},
   "source": [
    "The return value of `__exit__` is something to consider. Normally, we would want to leave the method as it is, without returning anything in particular. If this method returns `True`, it means that the exception that was potentially raised will not propagate to the caller and will stop there. Sometimes, this is the desired effect, maybe even depending on the type of exception that was raised, but in general, it is not a good idea to swallow the exception. Remember: errors should never pass silently."
   ]
  },
  {
   "cell_type": "markdown",
   "id": "020d4a4d",
   "metadata": {},
   "source": [
    "<div style=\"border: 1px solid #ccc; padding: 10px; background-color: #f9f9f9; display: flex; align-items: center;\">\n",
    "    <div style=\"font-size: 24px; color: #555; padding-right: 10px;\">💡</div>\n",
    "    <div style=\"font-size: 14px;\">\n",
    "        <strong>Tip:</strong> Keep in mind not to accidentally return <code>True</code> on <code>__exit__</code>. If you do, make sure that this is exactly what you want, and that there is a good reason for it.\n",
    "    </div>\n",
    "</div>\n"
   ]
  },
  {
   "cell_type": "markdown",
   "id": "abc99e44-07ff-41e4-bb85-e8029587214a",
   "metadata": {},
   "source": [
    "<div style=\"font-size: 200%; font-weight: bold; margin-top: 35px; color: black;\">\n",
    "    Implementing context managers\n",
    "</div>"
   ]
  },
  {
   "cell_type": "markdown",
   "id": "3645a142",
   "metadata": {},
   "source": [
    "In general, we can implement context managers like the one in the previous example. All we need is just a class that implements the `__enter__` and `__exit__` magic methods, and then that object will be able to support the context manager protocol. While this is the most common way for context managers to be implemented, it is not the only one."
   ]
  },
  {
   "cell_type": "markdown",
   "id": "da01db35",
   "metadata": {},
   "source": [
    "In this section, we will see not only different (sometimes more compact) ways of implementing context managers, but also how to take full advantage of them by using the standard library, in particular with the `contextlib` module."
   ]
  },
  {
   "cell_type": "markdown",
   "id": "2197db81",
   "metadata": {},
   "source": [
    "The `contextlib` module contains a lot of helper functions and objects to either implement context managers or use ones already provided that can help us write more compact code."
   ]
  },
  {
   "cell_type": "markdown",
   "id": "1ab69649",
   "metadata": {},
   "source": [
    "Let's start by looking at the `contextmanager` decorator."
   ]
  },
  {
   "cell_type": "markdown",
   "id": "ffb26a57",
   "metadata": {},
   "source": [
    "When the `contextlib.contextmanager` decorator is applied to a function, it converts the code on that function into a context manager. The function in question has to be a particular kind of function called a generator function, which will separate the statements into what is going to be on the `__enter__` and `__exit__` magic methods, respectively."
   ]
  },
  {
   "cell_type": "markdown",
   "id": "0980985b",
   "metadata": {},
   "source": [
    "If, at this point, you are not familiar with decorators and generators, this is not a problem because the examples we will be looking at will be self-contained, and the recipe or idiom can be applied and understood regardless. These topics are discussed in detail in<i style=\"font-family: 'Times New Roman'; font-size: 16px;\"> Chapter 7, Generators, Iterators, and Asynchronous Programming. </i>"
   ]
  },
  {
   "cell_type": "markdown",
   "id": "faf11201",
   "metadata": {},
   "source": [
    "The equivalent code of the previous example can be rewritten with the `contextmanager` decorator like this:"
   ]
  },
  {
   "cell_type": "code",
   "execution_count": null,
   "id": "23cbf346",
   "metadata": {},
   "outputs": [],
   "source": [
    "import contextlib\n",
    "@contextlib.contextmanager\n",
    "def db_handler():\n",
    "    try:\n",
    "        stop_database()\n",
    "        yield\n",
    "    finally:\n",
    "       start_database()\n",
    "with db_handler():\n",
    "    db_backup()"
   ]
  },
  {
   "cell_type": "markdown",
   "id": "c3a06446",
   "metadata": {},
   "source": [
    "Here, we define the `generator` function and apply the `@contextlib.contextmanager` decorator to it. The function contains a `yield` statement, which makes it a `generator` function. Again, details on generators are not relevant in this case. All we need to know is that when this decorator is applied, everything before the `yield` statement will be run as if it were part of the `__enter__` method. Then, the yielded value is going to be the result of the context manager evaluation (what `__enter__` would return), and what would be assigned to the variable if we chose to assign it like `as x`:—in this case, nothing is yielded (which means the yielded value will be none, implicitly), but if we wanted to, we could yield a statement that will become something we might want to use inside the context manager block."
   ]
  },
  {
   "cell_type": "markdown",
   "id": "76cba4f1",
   "metadata": {},
   "source": [
    "At that point, the `generator` function is suspended, and the context manager is entered, where, again, we run the backup code for our database. After this completes, the execution resumes, so we can consider that every line that comes after the `yield` statement will be part of the `__exit__` logic."
   ]
  },
  {
   "cell_type": "markdown",
   "id": "59ce904a",
   "metadata": {},
   "source": [
    "Writing context managers like this has the advantage that it is easier to refactor existing functions, reuse code, and in general is a good idea when we need a context manager that doesn't belong to any particular object (otherwise, you'd be creating a \"fake\" class for no real purpose, in the object-oriented sense). "
   ]
  },
  {
   "cell_type": "markdown",
   "id": "ac30ce66",
   "metadata": {},
   "source": [
    "Adding the extra magic methods would make another object of our domain more coupled, with more responsibilities, and supporting something that it probably shouldn't. When we just need a context manager function, without preserving many states, and completely isolated and independent from the rest of our classes, this is probably a good way to go."
   ]
  },
  {
   "cell_type": "markdown",
   "id": "3030d23a",
   "metadata": {},
   "source": [
    "There are, however, more ways in which we can implement context manager, and once again, the answer is in the `contextlib` package from the standard library."
   ]
  },
  {
   "cell_type": "markdown",
   "id": "a19d9786",
   "metadata": {},
   "source": [
    "Another helper we could use is `contextlib.ContextDecorator`. This is a base class that provides the logic for applying a decorator to a function that will make it run inside the context manager. The logic for the context manager itself has to be provided by implementing the aforementioned magic methods. The result is a class that works as a decorator for functions, or that can be mixed into the class hierarchy of other classes to make them behave as context managers."
   ]
  },
  {
   "cell_type": "markdown",
   "id": "bf231d6f",
   "metadata": {},
   "source": [
    "In order to use it, we have to extend this class and implement the logic on the required methods:"
   ]
  },
  {
   "cell_type": "code",
   "execution_count": null,
   "id": "fcb90914",
   "metadata": {},
   "outputs": [],
   "source": [
    "class dbhandler_decorator(contextlib.ContextDecorator):\n",
    "    def __enter__(self):\n",
    "        stop_database()\n",
    "        return self\n",
    "    def __exit__(self, ext_type, ex_value, ex_traceback):\n",
    "        start_database()\n",
    "@dbhandler_decorator()\n",
    "def offline_backup():\n",
    "    run(\"pg_dump database\")"
   ]
  },
  {
   "cell_type": "markdown",
   "id": "d48839cc",
   "metadata": {},
   "source": [
    "Do you notice something different from the previous examples? There is no `with` statement. We just have to call the function, and `offline_backup()` will automatically run inside a context manager. This is the logic that the base class provides to use it as a decorator that wraps the original function so that it runs inside a context manager."
   ]
  },
  {
   "cell_type": "markdown",
   "id": "a654012f",
   "metadata": {},
   "source": [
    "The only downside of this approach is that by the way the objects work, they are completely independent (which is a good trait)—the decorator doesn't know anything about the function that is decorating, and vice versa. This, however good, means that the `offline_backup` function cannot access the decorator object, should this be needed. However, nothing is stopping us from still calling this decorator inside the function to access the object. "
   ]
  },
  {
   "cell_type": "markdown",
   "id": "6d1aa349",
   "metadata": {},
   "source": [
    "This can be done in the following form:"
   ]
  },
  {
   "cell_type": "code",
   "execution_count": null,
   "id": "5cf51c79",
   "metadata": {},
   "outputs": [],
   "source": [
    "def offline_backup():\n",
    "    with dbhandler_decorator() as handler: ..."
   ]
  },
  {
   "cell_type": "markdown",
   "id": "9e67f2ae",
   "metadata": {},
   "source": [
    "Being a decorator, this also has the advantage that the logic is defined only once, and we can reuse it as many times as we want by simply applying the decorators to other functions that require the same invariant logic."
   ]
  },
  {
   "cell_type": "markdown",
   "id": "2b871c35",
   "metadata": {},
   "source": [
    "Let's explore one last feature of `contextlib`, to see what we can expect from context managers and get an idea of the sort of thing we could use them for."
   ]
  },
  {
   "cell_type": "markdown",
   "id": "120f7033",
   "metadata": {},
   "source": [
    "In this library, we can find `contextlib.suppress`, which is a utility to avoid certain exceptions in situations where we know it is safe to ignore them. It's similar to running that same code on a `try/except` block and passing an exception or just logging it, but the difference is that calling the `suppress` method makes it more explicit that those exceptions are controlled as part of our logic."
   ]
  },
  {
   "cell_type": "markdown",
   "id": "cf9b1585",
   "metadata": {},
   "source": [
    "For example, consider the following code:"
   ]
  },
  {
   "cell_type": "code",
   "execution_count": null,
   "id": "96419f1e",
   "metadata": {},
   "outputs": [],
   "source": [
    "import contextlib\n",
    "with contextlib.suppress(DataConversionException):\n",
    "    parse_data(input_json_or_dict)"
   ]
  },
  {
   "cell_type": "markdown",
   "id": "213d6e16",
   "metadata": {},
   "source": [
    "Here, the presence of the exception means that the input data is already in the expected format, so there is no need for conversion, hence making it safe to ignore it."
   ]
  },
  {
   "cell_type": "markdown",
   "id": "e019b8cf",
   "metadata": {},
   "source": [
    "Context managers are quite a peculiar feature that differentiates Python. Therefore, using context managers can be considered idiomatic. In the next section, we explore another interesting trait of Python that will help us write more concise code; comprehensions and assignment expressions."
   ]
  },
  {
   "cell_type": "markdown",
   "id": "121c4d50-34ad-4d06-957e-347e588db229",
   "metadata": {},
   "source": [
    "<div style=\"font-size: 250%; font-weight: bold; margin-top: 40px; color: black;\">\n",
    "    Comprehensions and assignment expressions\n",
    "</div>"
   ]
  },
  {
   "cell_type": "markdown",
   "id": "c0f76660",
   "metadata": {},
   "source": [
    "We will see comprehension expressions many times throughout the book. This is because they're usually a more concise way of writing code, and in general, code written this way tends to be easier to read. I say in general, because sometimes if we need to do some transformations on the data we're collecting, using a comprehension might lead to some more complicated code. In these cases, writing a simple `for` loop should be preferred instead. "
   ]
  },
  {
   "cell_type": "markdown",
   "id": "df22c95f",
   "metadata": {},
   "source": [
    "There is, however, one last resort we could apply to try to salvage the situation: assignment expressions. In this section, we discuss these alternatives."
   ]
  },
  {
   "cell_type": "markdown",
   "id": "9c6c0f02",
   "metadata": {},
   "source": [
    "The use of comprehensions is recommended to create data structures in a single instruction, instead of multiple operations. For example, if we wanted to create a list with calculations over some numbers in it, instead of writing it like this:"
   ]
  },
  {
   "cell_type": "code",
   "execution_count": null,
   "id": "71153a36",
   "metadata": {},
   "outputs": [],
   "source": [
    "numbers = []  \n",
    "for i in range(10):  \n",
    "    numbers.append(run_calculation(i))"
   ]
  },
  {
   "cell_type": "markdown",
   "id": "b3a54baf",
   "metadata": {},
   "source": [
    "We would create the list directly:"
   ]
  },
  {
   "cell_type": "code",
   "execution_count": null,
   "id": "ca32291f",
   "metadata": {},
   "outputs": [],
   "source": [
    "numbers = [run_calculation(i) for i in range(10)]"
   ]
  },
  {
   "cell_type": "markdown",
   "id": "bc69e7dd",
   "metadata": {},
   "source": [
    "Code written in this form usually performs better because it uses a single Python operation, instead of calling `list.append` repeatedly. If you are curious about the internals or differences between different versions of the code, you can check out the `dis` module, and call it with these examples."
   ]
  },
  {
   "cell_type": "markdown",
   "id": "b57e84d8",
   "metadata": {},
   "source": [
    "Let's see the example of a function that will take some strings that represent resources on a cloud computing environment (for example ARNs), and returns the set with the account IDs found on them. Something like this would be the most naive way of writing such a function:"
   ]
  },
  {
   "cell_type": "code",
   "execution_count": null,
   "id": "aa3050a8",
   "metadata": {},
   "outputs": [],
   "source": [
    "from typing import Iterable, Set\n",
    "def collect_account_ids_from_arns(arns: Iterable[str]) -> Set[str]:\n",
    "    \"\"\"Given several ARNs in the form\n",
    "        arn:partition:service:region:account-id:resource-id\n",
    "    Collect the unique account IDs found on those strings, and return them.\n",
    "    \"\"\"\n",
    "    collected_account_ids = set()\n",
    "    for arn in arns:\n",
    "        matched = re.match(ARN_REGEX, arn)\n",
    "        if matched is not None:\n",
    "            account_id = matched.groupdict()[\"account_id\"]\n",
    "            collected_account_ids.add(account_id)\n",
    "    return collected_account_ids"
   ]
  },
  {
   "cell_type": "markdown",
   "id": "5deb3fb0",
   "metadata": {},
   "source": [
    "Clearly the code has many lines, and it's doing something relatively simple. A reader of this code might get confused by these multiple statements, and perhaps inadvertently make a mistake when working with that code. If we could simplify it, that would be better. We can achieve the same functionality in fewer lines by using a few comprehension expressions in a way that resembles functional programming:"
   ]
  },
  {
   "cell_type": "code",
   "execution_count": null,
   "id": "842c9177",
   "metadata": {},
   "outputs": [],
   "source": [
    "def collect_account_ids_from_arns(arns):\n",
    "    matched_arns = filter(None, (re.match(ARN_REGEX, arn) for arn in arns))\n",
    "    return {m.groupdict()[\"account_id\"] for m in matched_arns}"
   ]
  },
  {
   "cell_type": "markdown",
   "id": "c3728421",
   "metadata": {},
   "source": [
    "The first line of the function seems similar to applying `map` and `filter`: first, we apply the result of trying to match the regular expression to all the strings provided, and then we filter those that aren't `None`. The result is an iterator that we will later use to extract the account ID in a set comprehension expression."
   ]
  },
  {
   "cell_type": "markdown",
   "id": "38874bde",
   "metadata": {},
   "source": [
    "The previous function should be more maintainable than our first example, but still requires two statements. Before Python 3.8, it wasn't possible to achieve a more compact version. But with the introduction of assignment expressions in PEP-572 (_https://www.python.org/dev/peps/pep-0572/_), we can rewrite this in a single statement:"
   ]
  },
  {
   "cell_type": "code",
   "execution_count": null,
   "id": "7fc6a3dc",
   "metadata": {},
   "outputs": [],
   "source": [
    "def collect_account_ids_from_arns(arns: Iterable[str]) -> Set[str]:\n",
    "    return {\n",
    "        matched.groupdict()[\"account_id\"]\n",
    "        for arn in arns\n",
    "        if (matched := re.match(ARN_REGEX, arn)) is not None\n",
    "    }"
   ]
  },
  {
   "cell_type": "markdown",
   "id": "0d7b4a62",
   "metadata": {},
   "source": [
    "Note the syntax on the third line inside the comprehension. This sets a temporary identifier inside the scope, which is the result of applying the regular expression to the string, and it can be reused in more parts within the same scope."
   ]
  },
  {
   "cell_type": "markdown",
   "id": "9e17ae17",
   "metadata": {},
   "source": [
    "In this particular example, it's arguable if the third example is better than the second one (but there should be no doubts that both of them are better than the first one!). I believe this last example to be more expressive because it has fewer indirections in the code, and everything that the reader needs to know on how the values are being collected belongs to the same scope."
   ]
  },
  {
   "cell_type": "markdown",
   "id": "cece7e83",
   "metadata": {},
   "source": [
    "Keep in mind that a more compact code does not always mean better code. If to write a one-liner, we have to create a convoluted expression, then it's not worth it, and we would be better off with the naive approach. This is related to the <i style=\"font-family: 'Times New Roman'; font-size: 16px;\"> keep it simple </i> principle that we'll discuss in the next chapter."
   ]
  },
  {
   "cell_type": "markdown",
   "id": "f8938cd3",
   "metadata": {},
   "source": [
    "<div style=\"border: 1px solid #ccc; padding: 10px; background-color: #f9f9f9; display: flex; align-items: center;\">\n",
    "    <div style=\"font-size: 24px; color: #555; padding-right: 10px;\">💡</div>\n",
    "    <div style=\"font-size: 14px;\">\n",
    "        <strong>Tip:</strong> Take into consideration the readability of the comprehension expressions, and don't force your code to be a one-liner, if this one won't be actually easier to understand.\n",
    "    </div>\n",
    "</div>\n"
   ]
  },
  {
   "cell_type": "markdown",
   "id": "4c0e8586",
   "metadata": {},
   "source": [
    "Another good reason for using assignment expressions in general (not just in comprehensions) is the performance considerations. If we have to use a function as part of our transformation logic, we don't want to call that more than is necessary. Assigning the result of the function to a temporary identifier (as it's done by assignment expressions in new scopes) would be a good optimization technique that, at the same time, keeps the code more readable."
   ]
  },
  {
   "cell_type": "markdown",
   "id": "6e013e4e",
   "metadata": {},
   "source": [
    "<div style=\"border: 1px solid #ccc; padding: 10px; background-color: #f9f9f9; display: flex; align-items: center;\">\n",
    "    <div style=\"font-size: 24px; color: #555; padding-right: 10px;\">💡</div>\n",
    "    <div style=\"font-size: 14px;\">\n",
    "        <strong>Tip:</strong> Evaluate the performance improvements that can be made by using assignment expressions.\n",
    "    </div>\n",
    "</div>\n"
   ]
  },
  {
   "cell_type": "markdown",
   "id": "313688a8",
   "metadata": {},
   "source": [
    "In the next section, we'll review another idiomatic feature of Python: `properties`. Moreover, we'll discuss the different ways of exposing or hiding data in Python objects."
   ]
  },
  {
   "cell_type": "markdown",
   "id": "6cef03e3-eee6-4cf3-9721-9e48dd9a3c5b",
   "metadata": {},
   "source": [
    "<div style=\"font-size: 250%; font-weight: bold; margin-top: 40px; color: black;\">\n",
    "    Properties, attributes, and different types of methods for objects\n",
    "</div>"
   ]
  },
  {
   "cell_type": "markdown",
   "id": "820b7b26",
   "metadata": {},
   "source": [
    "All of the properties and functions of an object are `public` in Python, which is different from other languages where properties can be `public`, `private`, or `protected`. That is, there is no point in preventing caller objects from invoking any attributes an object has. This is another difference compared to other programming languages in which you can mark some attributes as `private` or `protected`."
   ]
  },
  {
   "cell_type": "markdown",
   "id": "b68b65da",
   "metadata": {},
   "source": [
    "There is no strict enforcement, but there are some conventions. An attribute that starts with an underscore is meant to be `private` to that object, and we expect that no external agent calls it (but again, nothing is preventing this)."
   ]
  },
  {
   "cell_type": "markdown",
   "id": "b84ef82d",
   "metadata": {},
   "source": [
    "Before jumping into the details of `properties`, it's worth mentioning some traits of underscores in Python, understanding the convention, and the scope of attributes."
   ]
  },
  {
   "cell_type": "markdown",
   "id": "f6734be0-15ba-4548-a736-e1669506f844",
   "metadata": {},
   "source": [
    "<div style=\"font-size: 200%; font-weight: bold; margin-top: 35px; color: black;\">\n",
    "    Underscores in Python\n",
    "</div>"
   ]
  },
  {
   "cell_type": "markdown",
   "id": "02d94d18",
   "metadata": {},
   "source": [
    "There are some conventions and implementation details that make use of underscores in Python, which is an interesting topic that's worthy of analysis."
   ]
  },
  {
   "cell_type": "markdown",
   "id": "e96562a8",
   "metadata": {},
   "source": [
    "Like we mentioned previously, by default, all attributes of an object are `public`. Consider the following example to illustrate this:"
   ]
  },
  {
   "cell_type": "code",
   "execution_count": null,
   "id": "642d4b1a-4082-4d61-970a-0254e6145ea0",
   "metadata": {},
   "outputs": [],
   "source": [
    "class Connector:\n",
    "     def __init__(self, source):\n",
    "         self.source = source\n",
    "         self._timeout = 60"
   ]
  },
  {
   "cell_type": "code",
   "execution_count": null,
   "id": "0ffe9b49-2c07-4481-a2df-31e83dcf01d4",
   "metadata": {},
   "outputs": [],
   "source": [
    "conn = Connector(\"postgresql://localhost\")\n",
    "conn.source"
   ]
  },
  {
   "cell_type": "code",
   "execution_count": null,
   "id": "b8d87a22-f62d-4eaf-84d3-563582ccffe6",
   "metadata": {},
   "outputs": [],
   "source": [
    "conn._timeout"
   ]
  },
  {
   "cell_type": "code",
   "execution_count": null,
   "id": "dafd5c69-b86c-434b-a2d0-10f8edd6fc02",
   "metadata": {},
   "outputs": [],
   "source": [
    "conn.__dict__"
   ]
  },
  {
   "cell_type": "markdown",
   "id": "13940fb5",
   "metadata": {},
   "source": [
    "Here, a `Connector` object is created with `source`, and it starts with two attributes—the aforementioned `source` and `timeout`. The former is `public` and the latter `private`. However, as we can see from the following lines when we create an object like this, we can actually access both of them."
   ]
  },
  {
   "cell_type": "markdown",
   "id": "0b9c6076",
   "metadata": {},
   "source": [
    "The interpretation of this code is that `_timeout` should be accessed only within `connector` itself and never from a caller. This means that you should organize the code in a way so that you can safely refactor the timeout at all of the times it's needed, relying on the fact that it's not being called from outside the object (only internally), hence preserving the same interface as before. Complying with these rules makes the code easier to maintain and more robust because we don't have to worry about ripple effects when refactoring the code if we maintain the interface of the object. The same principle applies to methods as well."
   ]
  },
  {
   "cell_type": "markdown",
   "id": "024285b3",
   "metadata": {},
   "source": [
    "<div style=\"border: 1px solid #ccc; padding: 10px; background-color: #f9f9f9; display: flex; align-items: center;\">\n",
    "    <div style=\"font-size: 24px; color: #555; padding-right: 10px;\">💡</div>\n",
    "    <div style=\"font-size: 14px;\">\n",
    "        <strong>Tip:</strong> Classes should only expose those attributes and methods that are relevant to an external caller object, namely, entailing its interface. Everything that is not strictly part of an object's interface should be kept prefixed with a single underscore.\n",
    "    </div>\n",
    "</div>\n"
   ]
  },
  {
   "cell_type": "markdown",
   "id": "50ecb9f3",
   "metadata": {},
   "source": [
    "Attributes that start with an underscore must be respected as `private` and not be called externally. On the other hand, as an exception to this rule, we could say that in unit tests, it might be allowed to access internal attributes if this makes things easier to test (but note that adhering to this pragmatic approach still suffers from the maintainability cost when you decide to refactor the main class). However, keep in mind the following recommendation:"
   ]
  },
  {
   "cell_type": "markdown",
   "id": "2c944451",
   "metadata": {},
   "source": [
    "<div style=\"border: 1px solid #ccc; padding: 10px; background-color: #f9f9f9; display: flex; align-items: center;\">\n",
    "    <div style=\"font-size: 24px; color: #555; padding-right: 10px;\">💡</div>\n",
    "    <div style=\"font-size: 14px;\">\n",
    "        <strong>Tip:</strong> Using too many internal methods and attributes could be a sign that the class has too many tasks and doesn't comply with the single responsibility principle. This could indicate that you need to extract some of its responsibilities into more collaborating classes.\n",
    "    </div>\n",
    "</div>\n"
   ]
  },
  {
   "cell_type": "markdown",
   "id": "384a5e3d",
   "metadata": {},
   "source": [
    "Using a single underscore as prefix is the Pythonic way of clearly delimiting the interface of an object. There is, however, a common misconception that some attributes and methods can be actually made `private`. This is, again, a misconception. Let's imagine that now the `timeout` attribute is defined with a leading double underscore instead:"
   ]
  },
  {
   "cell_type": "code",
   "execution_count": null,
   "id": "3f204a04-ce85-469e-9a8c-eb851d75527d",
   "metadata": {},
   "outputs": [],
   "source": [
    "class Connector:\n",
    "    def __init__(self, source):\n",
    "        self.source = source\n",
    "        self.__timeout = 60\n",
    "\n",
    "    def connect(self):\n",
    "        print(\"connecting with {0}s\".format(self.__timeout))\n",
    "        # ..."
   ]
  },
  {
   "cell_type": "code",
   "execution_count": null,
   "id": "cc73c994-dc7c-4cad-b179-4bbf97339e73",
   "metadata": {},
   "outputs": [],
   "source": [
    "conn = Connector(\"postgresql://localhost\")\n",
    "conn.connect()"
   ]
  },
  {
   "cell_type": "code",
   "execution_count": null,
   "id": "0ebce8c0-d0cb-4f22-b04e-f30544be4b72",
   "metadata": {},
   "outputs": [],
   "source": [
    "conn.__timeout"
   ]
  },
  {
   "cell_type": "markdown",
   "id": "278227cc",
   "metadata": {},
   "source": [
    "Some developers use this method to hide some attributes, thinking, like in this example, that `timeout` is now `private` and that no other object can modify it. Now, take a look at the exception that is raised when trying to access `__timeout`. It's `AttributeError`, saying that it doesn't exist. It doesn't say something like \"this is private\" or \"this can't be accessed\", and so on. It says it does not exist. This should give us a clue that, in fact, something different is happening and that this behavior is instead just a side effect, but not the real effect we want."
   ]
  },
  {
   "cell_type": "markdown",
   "id": "0673ab67",
   "metadata": {},
   "source": [
    "What's actually happening is that with the double underscores, Python creates a different name for the attribute (this is called name mangling). What it does is create the attribute with the following name instead: `\"_<class-name>__<attribute-name>\"`. In this case, an attribute named `'_Connector__timeout'` will be created, and this attribute can be accessed (and modified) as follows:"
   ]
  },
  {
   "cell_type": "code",
   "execution_count": null,
   "id": "52b39432",
   "metadata": {},
   "outputs": [],
   "source": [
    ">>> \n",
    "{'source': 'postgresql://localhost', '_Connector__timeout': 60}\n",
    ">>> \n",
    "60\n",
    ">>> \n",
    ">>> \n",
    "connecting with 30s\n"
   ]
  },
  {
   "cell_type": "code",
   "execution_count": null,
   "id": "1d7007b2-f298-43c6-894d-c6c70896ea71",
   "metadata": {},
   "outputs": [],
   "source": [
    "vars(conn)"
   ]
  },
  {
   "cell_type": "code",
   "execution_count": null,
   "id": "bb8143ec-3c3a-4cee-80a0-5fd7e82f1314",
   "metadata": {},
   "outputs": [],
   "source": [
    "conn.connect()"
   ]
  },
  {
   "cell_type": "code",
   "execution_count": null,
   "id": "c95d9e13-4cd5-4e91-aaba-67a3354d33e5",
   "metadata": {},
   "outputs": [],
   "source": [
    "conn._Connector__timeout = 30\n",
    "conn.connect()"
   ]
  },
  {
   "cell_type": "markdown",
   "id": "0948d915",
   "metadata": {},
   "source": [
    "Notice the side effect that we mentioned earlier—the attribute still exists, only with a different name, and for that reason, the `AttributeError` was raised on our first attempt to access it."
   ]
  },
  {
   "cell_type": "markdown",
   "id": "dad802ad",
   "metadata": {},
   "source": [
    "The idea of the double underscore in Python is completely different. It was created as a means to override different methods of a class that is going to be extended several times, without the risk of having collisions with the method names. Even that is a too far-fetched use case as to justify the use of this mechanism."
   ]
  },
  {
   "cell_type": "markdown",
   "id": "fcf15837",
   "metadata": {},
   "source": [
    "Double underscores are a non-Pythonic approach. If you need to define attributes as `private`, use a single underscore, and respect the Pythonic convention that it is a `private` attribute."
   ]
  },
  {
   "cell_type": "markdown",
   "id": "98399167",
   "metadata": {},
   "source": [
    "<div style=\"border: 1px solid #ccc; padding: 10px; background-color: #f9f9f9; display: flex; align-items: center;\">\n",
    "    <div style=\"font-size: 24px; color: #555; padding-right: 10px;\">💡</div>\n",
    "    <div style=\"font-size: 14px;\">\n",
    "        <strong>Tip:</strong> Do not define attributes with leading double underscores.<br><br>\n",
    "By the same token, do not define your own \"dunder\" methods (methods whose names are surrounded by double underscores)\n",
    "    </div>\n",
    "</div>\n"
   ]
  },
  {
   "cell_type": "markdown",
   "id": "01f3e3b8",
   "metadata": {},
   "source": [
    "Let's now explore the opposite case, that is, when we do want to access some attributes of an object that are intended to be `public`. Typically, we'd use `properties` for this, which we will explore in the next section."
   ]
  },
  {
   "cell_type": "markdown",
   "id": "3c0d5e09-0a31-46b8-a23b-22bb1658fc3c",
   "metadata": {},
   "source": [
    "<div style=\"font-size: 200%; font-weight: bold; margin-top: 35px; color: black;\">\n",
    "    Properties\n",
    "</div>"
   ]
  },
  {
   "cell_type": "markdown",
   "id": "61e76a93",
   "metadata": {},
   "source": [
    "Typically, in object-oriented design, we create objects to represent an abstraction over an entity of the domain problem. In this sense, objects can encapsulate behavior or data. And more often than not, the accuracy of the data determines if an object can be created or not. That is to say, some entities can only exist for certain values of the data, whereas incorrect values shouldn't be allowed. "
   ]
  },
  {
   "cell_type": "markdown",
   "id": "51528385",
   "metadata": {},
   "source": [
    "This is why we create validation methods, typically to be used in the `setter` operations. However, in Python, sometimes we can encapsulate these `setter` and `getter` methods more compactly by using `properties`."
   ]
  },
  {
   "cell_type": "markdown",
   "id": "6cd48be6",
   "metadata": {},
   "source": [
    "Consider the example of a geographical system that needs to deal with coordinates. There is only a certain range of values for which latitude and longitude make sense. Outside of those values, a coordinate cannot exist. We can create an object to represent a coordinate, but in doing so we must ensure that the values for latitude are at all times within the acceptable ranges. And for this we can use `properties`:"
   ]
  },
  {
   "cell_type": "code",
   "execution_count": null,
   "id": "7119e838",
   "metadata": {},
   "outputs": [],
   "source": [
    "class Coordinate:\n",
    "    def __init__(self, lat: float, long: float) -> None:\n",
    "        self._latitude = self._longitude = None\n",
    "        self.latitude = lat\n",
    "        self.longitude = long\n",
    "    @property\n",
    "    def latitude(self) -> float:\n",
    "        return self._latitude\n",
    "    @latitude.setter\n",
    "    def latitude(self, lat_value: float) -> None:\n",
    "        if lat_value not in range(-90, 90 + 1):\n",
    "            raise ValueError(f\"{lat_value} is an invalid value for latitude\")\n",
    "        self._latitude = lat_value\n",
    "    @property\n",
    "    def longitude(self) -> float:\n",
    "        return self._longitude\n",
    "    @longitude.setter\n",
    "    def longitude(self, long_value: float) -> None:\n",
    "        if long_value not in range(-180, 180 + 1):\n",
    "            raise ValueError(f\"{long_value} is an invalid value for longitude\")\n",
    "        self._longitude = long_value"
   ]
  },
  {
   "cell_type": "markdown",
   "id": "16b853cb",
   "metadata": {},
   "source": [
    "Here, we're using a property to define the latitude and longitude. In doing so, we establish that retrieving any of these attributes will return the internal value held in the `private` variables. More importantly, when any user wants to modify values for any of these `properties` in the following form:"
   ]
  },
  {
   "cell_type": "code",
   "execution_count": null,
   "id": "dbf788e1",
   "metadata": {},
   "outputs": [],
   "source": [
    "coordinate.latitude = <new-latitude-value>  # similar for longitude"
   ]
  },
  {
   "cell_type": "markdown",
   "id": "ba309ec8",
   "metadata": {},
   "source": [
    "The validation method that's declared with the `@latitude.setter` decorator will be automatically (and transparently) invoked, and it will pass the value on the right-hand-side of the statement (`<new-latitude-value>`) as the parameter (named `lat_value` in the preceding code)."
   ]
  },
  {
   "cell_type": "markdown",
   "id": "17559afb",
   "metadata": {},
   "source": [
    "<div style=\"border: 1px solid #ccc; padding: 10px; background-color: #f9f9f9; display: flex; align-items: center;\">\n",
    "    <div style=\"font-size: 24px; color: #555; padding-right: 10px;\">💡</div>\n",
    "    <div style=\"font-size: 14px;\">\n",
    "        <strong>Tip:</strong> Don't write custom <code>get_*</code> and <code>set_*</code> methods for all attributes on your objects. Most of the time, leaving them as regular attributes is just enough. If you need to modify the logic for when an attribute is retrieved or modified, then use <code>properties</code>.\n",
    "    </div>\n",
    "</div>\n"
   ]
  },
  {
   "cell_type": "markdown",
   "id": "f03862ce",
   "metadata": {},
   "source": [
    "We have seen the case for when an object needs to hold values, and how `properties` help us to manage their internal data in a consistent and transparent way, but sometimes, we might also need to do some computations based on the state of the object and its internal data. Most of the time, properties are a good choice for this."
   ]
  },
  {
   "cell_type": "markdown",
   "id": "7c92fa25",
   "metadata": {},
   "source": [
    "For example, if you have an object that needs to return a value in a particular format, or data type, a property can be used to do this computation. In the previous example, if we decided that we wanted to return the coordinates with a precision of up to four decimal places (regardless of how many decimal places the original number was provided with), we can make the computation for rounding this in the `@property` method that reads the value."
   ]
  },
  {
   "cell_type": "markdown",
   "id": "6197cdf2",
   "metadata": {},
   "source": [
    "You might find that properties are a good way to achieve command and query separation (`CC08`). The command and query separation principle states that a method of an object should either answer to something or do something, but not both. If a method is doing something, and at the same time it returns a status answering a question of how that operation went, then it's doing more than one thing, clearly violating the principle that says that functions should do one thing, and one thing only."
   ]
  },
  {
   "cell_type": "markdown",
   "id": "b7946e45",
   "metadata": {},
   "source": [
    "Depending on the name of the method, this can create even more confusion, making it harder for readers to understand what the actual intention of the code is. For example, if a method is called `set_email`, and we use it as `if self.set_email(\"a@j.com\"): ...`, what is that code doing? Is it setting the email to `a@j.com`? Is it checking if the email is already set to that value? Both (setting and then checking if the status is correct)?"
   ]
  },
  {
   "cell_type": "markdown",
   "id": "b518d47d",
   "metadata": {},
   "source": [
    "With `properties`, we can avoid this kind of confusion. The `@property` decorator is the query that will answer to something, and `@<property_name>.setter` is the command that will do something."
   ]
  },
  {
   "cell_type": "markdown",
   "id": "d4de3699",
   "metadata": {},
   "source": [
    "Another piece of good advice derived from this example is as follows—don't do more than one thing in a method. If you want to assign something and then check the value, break that down into two or more statements."
   ]
  },
  {
   "cell_type": "markdown",
   "id": "42c46f56",
   "metadata": {},
   "source": [
    "To illustrate what this means, using the previous example, we would have one `setter` or getter method, to set the email of the user, and then another property to simply ask for the email. This is because, in general, any time we ask an object about its current state, it should return it without side effects (without changing its internal representation). Perhaps the only exception I can think of to this rule would be in the case of a lazy property: something we want to precompute only once, and then use the computed value. For the rest of the cases, try to make properties idempotent, and then methods that are allowed to change the internal representation of the object, but don't mix both."
   ]
  },
  {
   "cell_type": "markdown",
   "id": "7cd3dc26",
   "metadata": {},
   "source": [
    "<div style=\"border: 1px solid #ccc; padding: 10px; background-color: #f9f9f9; display: flex; align-items: center;\">\n",
    "    <div style=\"font-size: 24px; color: #555; padding-right: 10px;\">💡</div>\n",
    "    <div style=\"font-size: 14px;\">\n",
    "        <strong>Tip:</strong> Methods should do one thing only. If you have to run an action and then check for the status, do that in separate methods that are called by different statements.\n",
    "    </div>\n",
    "</div>\n"
   ]
  },
  {
   "cell_type": "markdown",
   "id": "8230f5ef-34d9-4500-abeb-80c920a82993",
   "metadata": {},
   "source": [
    "<div style=\"font-size: 200%; font-weight: bold; margin-top: 35px; color: black;\">\n",
    "    Creating classes with a more compact syntax\n",
    "</div>"
   ]
  },
  {
   "cell_type": "markdown",
   "id": "e4ed0a0e",
   "metadata": {},
   "source": [
    "Continuing with the idea that sometimes, we need objects to hold values, there's a common boilerplate in Python when it comes to the initialization of objects, which is to declare in the `__init__` method all attributes that the object will have, and then set that to internal variables, typically in the following form:"
   ]
  },
  {
   "cell_type": "code",
   "execution_count": null,
   "id": "d4b2b372",
   "metadata": {},
   "outputs": [],
   "source": [
    "def __init__(self, x, y, … ):\n",
    "    self.x = x\n",
    "    self.y = y\n",
    "      \n"
   ]
  },
  {
   "cell_type": "markdown",
   "id": "bd98ed50",
   "metadata": {},
   "source": [
    "Since Python 3.7, we can simplify this by using the `dataclasses` module. This has been introduced by PEP-557. We have seen this module in the previous chapter, in the context of using annotations on the code, and here we'll review it briefly in terms of how it helps us write more compact code."
   ]
  },
  {
   "cell_type": "markdown",
   "id": "0959635e",
   "metadata": {},
   "source": [
    "This module provides a `@dataclass` decorator, which, when applied to a class, it'll take all the class attributes with annotations, and treat them as instance attributes, as if they were declared in the initialization method. When using this decorator, it will automatically generate the `__init__` method on the class, so we don't have to."
   ]
  },
  {
   "cell_type": "markdown",
   "id": "4b0a9400",
   "metadata": {},
   "source": [
    "Additionally, this module provides a `field` object that will help us define particular traits for some of the attributes. For example, if one of the attributes we need needs to be mutable (such as a `list`), we'll see later in the chapter (in the section for avoiding caveats in Python) that we cannot pass this default empty list in the `__init__` method, and that instead we should pass `None`, and set it to a default list inside `__init__`, if `None` was provided. "
   ]
  },
  {
   "cell_type": "markdown",
   "id": "32421a65",
   "metadata": {},
   "source": [
    "When using the `field` object, what we would do instead is to use the `default_factory` argument, and provide the `list` class to it. This argument is meant to be used with a callable that takes no arguments, and will be called to construct the object, when nothing is provided for the value of that attribute."
   ]
  },
  {
   "cell_type": "markdown",
   "id": "a59aeaa5",
   "metadata": {},
   "source": [
    "Because there's no `__init__` method to be implemented, what happens if we need to run validations? Or if we want to have some attributes computed or derived from previous ones? To answer the latter, we can rely on `properties`, as we have just explored in the previous section. As per the former, the data classes allow us to have a `__post_init__` method that will be called automatically by `__init__`, so this would be a good place to write our logic for post-initialization."
   ]
  },
  {
   "cell_type": "markdown",
   "id": "c4758608",
   "metadata": {},
   "source": [
    "To put all of this into practice, let's consider the example of modeling a node for an R-Trie data structure (where R stands for radix, which means it is an indexed tree over some base R). The details of this data structure, and the algorithms associated with it, are beyond the scope of this book, but for the purposes of the example, I'll mention that is a data structure designed to answer queries over text or strings (such as prefixes, and finding similar or related words). In a very basic form, this data structure contains a value (that holds a character, and it can be its integer representation, for instance), and then an array or length R with references to the next nodes (it's a recursive data structure, in the same sense as a `linked list` or a `tree` for example). The idea is that each position of the array defines implicitly a reference to the next node. For example, imagine the value `0` is mapped to the character `'a'`, then if the next node contains a value different than `None` in its `0` position, then this means there's a reference for `'a'`, and that points to another R-Trie node."
   ]
  },
  {
   "cell_type": "markdown",
   "id": "4ce8517e",
   "metadata": {},
   "source": [
    "Graphically, the data structure might look something like this:"
   ]
  },
  {
   "cell_type": "markdown",
   "id": "50fbd504-dc0b-472e-b1c5-742ec05d3233",
   "metadata": {},
   "source": [
    "<div style=\"text-align: center;\">\n",
    "<img src=\"data:image/png;base64,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\" />\n",
    "</div>"
   ]
  },
  {
   "cell_type": "markdown",
   "id": "52cc3351-1ac9-4ca5-8e51-66dd8d944366",
   "metadata": {},
   "source": [
    "<figure style=\"text-align: center;\">\n",
    "    <figcaption style=\"font-size: 0.9em; color: black;\">Figure 2.1: Generic structure for an R-Trie node</figcaption>\n",
    "</figure>\n"
   ]
  },
  {
   "cell_type": "markdown",
   "id": "cdb8db63",
   "metadata": {},
   "source": [
    "And we could write a code block like the following one to represent it. In the following code, the attribute named `next_` contains a trailing underscore, just as a way to differentiate it from the built-in `next` function. We can argue that in this case, there's no collision, but if we needed to use the `next()` function within the `RTrieNode` class, that could be problematic (and those are usually hard-to-catch subtle errors):"
   ]
  },
  {
   "cell_type": "code",
   "execution_count": 5,
   "id": "ce5f5cf2",
   "metadata": {},
   "outputs": [],
   "source": [
    "from typing import List\n",
    "from dataclasses import dataclass, field\n",
    "R = 26\n",
    "@dataclass\n",
    "class RTrieNode:\n",
    "    size = R\n",
    "    value: int\n",
    "    next_: List[\"RTrieNode\"] = field(\n",
    "        default_factory=lambda: [None] * R)\n",
    " \n",
    "    def __post_init__(self):\n",
    "        if len(self.next_) != self.size:\n",
    "            raise ValueError(f\"Invalid length provided for next list\")\n"
   ]
  },
  {
   "cell_type": "markdown",
   "id": "cae1073a",
   "metadata": {},
   "source": [
    "The preceding example contains several different combinations. First, we define an R-Trie with `R=26` to represent the characters in the English alphabet (this is not important to understand the code itself, but it gives more context). The idea is that if we want to store a word, we create a node for each letter, starting with the first one. When there's a link to the next character, we store it in the position of the `next_` array corresponding to that character, another node for that one, and so on."
   ]
  },
  {
   "cell_type": "markdown",
   "id": "7d1f1d59",
   "metadata": {},
   "source": [
    "Note the first attribute in the class: `size`. This one doesn't have an annotation, so it's a regular class attribute (shared for all node objects), and not something that belongs exclusively to the object. Alternatively, we could have defined this by setting `field(init=False)`, but this form is more compact. However, if we wanted to annotate the variable, but not consider it as part of `__init__`, then this syntax is the only viable alternative."
   ]
  },
  {
   "cell_type": "markdown",
   "id": "09706d2e",
   "metadata": {},
   "source": [
    "Then follow two other attributes, both of which have annotations, but with different considerations. The first one, `value`, is an integer, but it doesn't have a default argument, so when we create a new node, we must always provide a value as a first parameter. The second one is a mutable argument (a `list` of itself), and it does have a default factory: in this case a `lambda` function that will create a new list of size R, initialized with `None` on all slots. Note that if we had used `field(default_factory=list)` for this, we would still have constructed a new list for each object on creation, but this loses control over the length of that list. And finally, we wanted to validate that we don't create nodes that have a list of next nodes with the wrong length, so this is validated in the `__post_init__` method. Any attempt to create such a list will be prevented with a `ValueError` at initialization time."
   ]
  },
  {
   "cell_type": "markdown",
   "id": "c0ae08cf",
   "metadata": {},
   "source": [
    "<div style=\"border: 1px solid #ccc; padding: 10px; background-color: #f9f9f9; display: flex; align-items: center;\">\n",
    "    <div style=\"font-size: 24px; color: #555; padding-right: 10px;\">💡</div>\n",
    "    <div style=\"font-size: 14px;\">\n",
    "        <strong>Tip:</strong> Data classes provide a more compact way of writing classes, without the boilerplate of having to set all variables with the same name in the <code>__init__</code> method.\n",
    "    </div>\n",
    "</div>\n"
   ]
  },
  {
   "cell_type": "markdown",
   "id": "25c6bbe5",
   "metadata": {},
   "source": [
    "When you have objects that don't do many complex validations or transformations on the data, consider this alternative. Keep in mind this last point. Annotations are great, but they don't enforce data conversion. This means that for example, if you declare an attribute that needs to be a `float`, or an `integer`, then you must do this conversion in the `__init__` method. Writing this as a data class won't do it, and it might hide subtle errors. This is for cases when validations aren't strictly required and type casts are possible. For example, it's perfectly fine to define an object that can be created from multiple other types, like converting a `float` from a numeric `string` (after all, this leverages Python's dynamic typing nature), provided this is correctly converted to the required data type within the `__init__` method."
   ]
  },
  {
   "cell_type": "markdown",
   "id": "9ee84eb6",
   "metadata": {},
   "source": [
    "Probably a good use case for data classes would be all those places when we need to use objects as data containers or wrappers, namely situations on which we used named tuples or simple namespaces. Consider data classes as another alternative to named tuples or namespaces when you're evaluating options in your code."
   ]
  },
  {
   "cell_type": "markdown",
   "id": "25f5e450-6ea7-4079-a9bc-46ae19d140e6",
   "metadata": {},
   "source": [
    "<div style=\"font-size: 200%; font-weight: bold; margin-top: 35px; color: black;\">\n",
    "    Iterable objects\n",
    "</div>"
   ]
  },
  {
   "cell_type": "markdown",
   "id": "7e0f0101",
   "metadata": {},
   "source": [
    "In Python, we have objects that can be iterated by default. For example, lists, tuples, sets, and dictionaries can not only hold data in the structure we want, but also be iterated over a `for` loop to get those values repeatedly."
   ]
  },
  {
   "cell_type": "markdown",
   "id": "85fc4652",
   "metadata": {},
   "source": [
    "However, the built-in `iterable` objects are not the only kind that we can have in a `for` loop. We could also create our own `iterable`, with the logic we define for iteration."
   ]
  },
  {
   "cell_type": "markdown",
   "id": "b09d83d4",
   "metadata": {},
   "source": [
    "In order to achieve this, we rely, once again, on magic methods."
   ]
  },
  {
   "cell_type": "markdown",
   "id": "e610182a",
   "metadata": {},
   "source": [
    "Iteration works in Python by its own protocol (namely the `iterator` protocol). When you try to iterate an object in the form `for e in myobject:...`, what Python checks at a very high level are the following two things, in order:\n",
    "\n",
    "- If the object contains one of the iterator methods— `__next__` or `__iter__`\n",
    "- If the object is a sequence and has `__len__` and `__getitem__`"
   ]
  },
  {
   "cell_type": "markdown",
   "id": "ec3311fc",
   "metadata": {},
   "source": [
    "Therefore, as a fallback mechanism, sequences can be iterated, and so there are two ways of customizing our objects to be able to work on `for` loops."
   ]
  },
  {
   "cell_type": "markdown",
   "id": "4542390e-b954-43fe-9a8d-92263b172980",
   "metadata": {},
   "source": [
    "<div style=\"font-size: 150%; font-weight: bold; margin-top: 20px; color: black;\">\n",
    "    Creating iterable objects\n",
    "</div>"
   ]
  },
  {
   "cell_type": "markdown",
   "id": "26c1b888",
   "metadata": {},
   "source": [
    "When we try to iterate an object, Python will call the `iter()` function over it. One of the first things this function checks for is the presence of the `__iter__` method on that object, which, if present, will be executed."
   ]
  },
  {
   "cell_type": "markdown",
   "id": "c8f46378",
   "metadata": {},
   "source": [
    "The following code creates an object that allows iterating over a range of dates, producing one day at a time on every round of the loop:"
   ]
  },
  {
   "cell_type": "code",
   "execution_count": 2,
   "id": "ace2b601",
   "metadata": {},
   "outputs": [],
   "source": [
    "from datetime import timedelta\n",
    "class DateRangeIterable:\n",
    "    \"\"\"An iterable that contains its own iterator object.\"\"\"\n",
    "    def __init__(self, start_date, end_date):\n",
    "        self.start_date = start_date\n",
    "        self.end_date = end_date\n",
    "        self._present_day = start_date\n",
    "    def __iter__(self):\n",
    "        return self\n",
    "    def __next__(self):\n",
    "        if self._present_day >= self.end_date:\n",
    "            raise StopIteration()\n",
    "        today = self._present_day\n",
    "        self._present_day += timedelta(days=1)\n",
    "        return today\n"
   ]
  },
  {
   "cell_type": "markdown",
   "id": "40da4e3b",
   "metadata": {},
   "source": [
    "This object is designed to be created with a pair of dates, and when iterated, it will produce each day in the interval of specified dates, which is shown in the following code:"
   ]
  },
  {
   "cell_type": "code",
   "execution_count": 3,
   "id": "afa8634e-663a-4145-be94-6de5b6657ef9",
   "metadata": {},
   "outputs": [],
   "source": [
    "from datetime import date"
   ]
  },
  {
   "cell_type": "code",
   "execution_count": 9,
   "id": "dc3a8288",
   "metadata": {},
   "outputs": [
    {
     "name": "stdout",
     "output_type": "stream",
     "text": [
      "2018-01-01\n",
      "2018-01-02\n",
      "2018-01-03\n",
      "2018-01-04\n"
     ]
    }
   ],
   "source": [
    "for day in DateRangeIterable(date(2018, 1, 1), date(2018, 1, 5)):\n",
    "     print(day)"
   ]
  },
  {
   "cell_type": "markdown",
   "id": "0b550db6",
   "metadata": {},
   "source": [
    "Here, the `for` loop is starting a new iteration over our object. At this point, Python will call the `iter()` function on it, which, in turn, will call the `__iter__` magic method. On this method, it is defined to return `self`, indicating that the object is an `iterable` itself, so at that point every step of the loop will call the `next()` function on that object, which delegates to the `__next__` method. In this method, we decide how to produce the elements and return one at a time. When there is nothing else to produce, we have to signal this to Python by raising the `StopIteration` exception."
   ]
  },
  {
   "cell_type": "markdown",
   "id": "cb1da5c4",
   "metadata": {},
   "source": [
    "This means that what is actually happening is similar to Python calling `next()` every time on our object until there is a `StopIteration` exception, on which it knows it has to stop the `for` loop:"
   ]
  },
  {
   "cell_type": "code",
   "execution_count": 6,
   "id": "40e1a077-f8e2-4263-89eb-73d88659eb08",
   "metadata": {},
   "outputs": [],
   "source": [
    "r = DateRangeIterable(date(2018, 1, 1), date(2018, 1, 5))"
   ]
  },
  {
   "cell_type": "code",
   "execution_count": 7,
   "id": "e15560ea-9ebf-4bde-8293-15a4c84410ea",
   "metadata": {},
   "outputs": [
    {
     "data": {
      "text/plain": [
       "datetime.date(2018, 1, 1)"
      ]
     },
     "execution_count": 7,
     "metadata": {},
     "output_type": "execute_result"
    }
   ],
   "source": [
    "next(r)"
   ]
  },
  {
   "cell_type": "code",
   "execution_count": 8,
   "id": "8de8ca24-252c-4835-97e9-3ad485a896df",
   "metadata": {},
   "outputs": [
    {
     "data": {
      "text/plain": [
       "datetime.date(2018, 1, 2)"
      ]
     },
     "execution_count": 8,
     "metadata": {},
     "output_type": "execute_result"
    }
   ],
   "source": [
    "next(r)"
   ]
  },
  {
   "cell_type": "code",
   "execution_count": 9,
   "id": "6a415c75-9241-432c-8e7e-185f55eee0dd",
   "metadata": {},
   "outputs": [
    {
     "data": {
      "text/plain": [
       "datetime.date(2018, 1, 3)"
      ]
     },
     "execution_count": 9,
     "metadata": {},
     "output_type": "execute_result"
    }
   ],
   "source": [
    "next(r)"
   ]
  },
  {
   "cell_type": "code",
   "execution_count": 10,
   "id": "48507383-f78e-4406-bc88-2fe39b9b2791",
   "metadata": {},
   "outputs": [
    {
     "data": {
      "text/plain": [
       "datetime.date(2018, 1, 4)"
      ]
     },
     "execution_count": 10,
     "metadata": {},
     "output_type": "execute_result"
    }
   ],
   "source": [
    "next(r)"
   ]
  },
  {
   "cell_type": "code",
   "execution_count": 11,
   "id": "f55a5bd5-cafd-4f2d-942c-e76e089a5371",
   "metadata": {},
   "outputs": [
    {
     "ename": "StopIteration",
     "evalue": "",
     "output_type": "error",
     "traceback": [
      "\u001b[1;31m---------------------------------------------------------------------------\u001b[0m",
      "\u001b[1;31mStopIteration\u001b[0m                             Traceback (most recent call last)",
      "Cell \u001b[1;32mIn[11], line 1\u001b[0m\n\u001b[1;32m----> 1\u001b[0m \u001b[38;5;28mnext\u001b[39m(r)\n",
      "Cell \u001b[1;32mIn[2], line 12\u001b[0m, in \u001b[0;36mDateRangeIterable.__next__\u001b[1;34m(self)\u001b[0m\n\u001b[0;32m     10\u001b[0m \u001b[38;5;28;01mdef\u001b[39;00m \u001b[38;5;21m__next__\u001b[39m(\u001b[38;5;28mself\u001b[39m):\n\u001b[0;32m     11\u001b[0m     \u001b[38;5;28;01mif\u001b[39;00m \u001b[38;5;28mself\u001b[39m\u001b[38;5;241m.\u001b[39m_present_day \u001b[38;5;241m>\u001b[39m\u001b[38;5;241m=\u001b[39m \u001b[38;5;28mself\u001b[39m\u001b[38;5;241m.\u001b[39mend_date:\n\u001b[1;32m---> 12\u001b[0m         \u001b[38;5;28;01mraise\u001b[39;00m \u001b[38;5;167;01mStopIteration\u001b[39;00m()\n\u001b[0;32m     13\u001b[0m     today \u001b[38;5;241m=\u001b[39m \u001b[38;5;28mself\u001b[39m\u001b[38;5;241m.\u001b[39m_present_day\n\u001b[0;32m     14\u001b[0m     \u001b[38;5;28mself\u001b[39m\u001b[38;5;241m.\u001b[39m_present_day \u001b[38;5;241m+\u001b[39m\u001b[38;5;241m=\u001b[39m timedelta(days\u001b[38;5;241m=\u001b[39m\u001b[38;5;241m1\u001b[39m)\n",
      "\u001b[1;31mStopIteration\u001b[0m: "
     ]
    }
   ],
   "source": [
    "next(r)"
   ]
  },
  {
   "cell_type": "markdown",
   "id": "4fa54f37",
   "metadata": {},
   "source": [
    "This example works, but it has a small problem—once exhausted, the `iterable` will continue to be empty, hence raising `StopIteration`. This means that if we use this on two or more consecutive `for` loops, only the first one will work, while the second one will be empty:"
   ]
  },
  {
   "cell_type": "code",
   "execution_count": 12,
   "id": "a63a3356-629a-4be7-9dba-5db82233175d",
   "metadata": {},
   "outputs": [],
   "source": [
    "r1 = DateRangeIterable(date(2018, 1, 1), date(2018, 1, 5))"
   ]
  },
  {
   "cell_type": "code",
   "execution_count": 13,
   "id": "47f9028d-3617-4d37-bb4a-4a49049ca147",
   "metadata": {},
   "outputs": [
    {
     "data": {
      "text/plain": [
       "'2018-01-01, 2018-01-02, 2018-01-03, 2018-01-04'"
      ]
     },
     "execution_count": 13,
     "metadata": {},
     "output_type": "execute_result"
    }
   ],
   "source": [
    "\", \".join(map(str, r1))"
   ]
  },
  {
   "cell_type": "code",
   "execution_count": 14,
   "id": "a930f5b3-de4d-4123-a27f-56fda9b8112c",
   "metadata": {},
   "outputs": [
    {
     "ename": "ValueError",
     "evalue": "max() arg is an empty sequence",
     "output_type": "error",
     "traceback": [
      "\u001b[1;31m---------------------------------------------------------------------------\u001b[0m",
      "\u001b[1;31mValueError\u001b[0m                                Traceback (most recent call last)",
      "Cell \u001b[1;32mIn[14], line 1\u001b[0m\n\u001b[1;32m----> 1\u001b[0m \u001b[38;5;28mmax\u001b[39m(r1)\n",
      "\u001b[1;31mValueError\u001b[0m: max() arg is an empty sequence"
     ]
    }
   ],
   "source": [
    "max(r1)"
   ]
  },
  {
   "cell_type": "markdown",
   "id": "604fb52a",
   "metadata": {},
   "source": [
    "This is because of the way the iteration protocol works—an `iterable` constructs an iterator, and this one is the one being iterated over. In our example, `__iter__` just returned `self`, but we can make it create a new iterator every time it is called. One way of fixing this would be to create new instances of `DateRangeIterable`, which is not a terrible issue, but we can make `__iter__` use a generator (which are iterator objects), which is being created every time:"
   ]
  },
  {
   "cell_type": "code",
   "execution_count": 10,
   "id": "b9825e42",
   "metadata": {},
   "outputs": [],
   "source": [
    "class DateRangeContainerIterable:\n",
    "    def __init__(self, start_date, end_date):\n",
    "        self.start_date = start_date\n",
    "        self.end_date = end_date\n",
    "    def __iter__(self):\n",
    "        current_day = self.start_date\n",
    "        while current_day < self.end_date:\n",
    "            yield current_day\n",
    "            current_day += timedelta(days=1)\n"
   ]
  },
  {
   "cell_type": "markdown",
   "id": "4178e372",
   "metadata": {},
   "source": [
    "And this time it works:"
   ]
  },
  {
   "cell_type": "code",
   "execution_count": 11,
   "id": "f540d949-20e4-4a7e-8c20-166f0a276e52",
   "metadata": {},
   "outputs": [],
   "source": [
    "r1 = DateRangeContainerIterable(date(2018, 1, 1), date(2018, 1, 5))"
   ]
  },
  {
   "cell_type": "code",
   "execution_count": 12,
   "id": "c4c474e6-c528-4c16-8ff3-ac1b013afe60",
   "metadata": {},
   "outputs": [
    {
     "data": {
      "text/plain": [
       "'2018-01-01, 2018-01-02, 2018-01-03, 2018-01-04'"
      ]
     },
     "execution_count": 12,
     "metadata": {},
     "output_type": "execute_result"
    }
   ],
   "source": [
    "\", \".join(map(str, r1))"
   ]
  },
  {
   "cell_type": "code",
   "execution_count": 14,
   "id": "89f303c1",
   "metadata": {},
   "outputs": [
    {
     "data": {
      "text/plain": [
       "datetime.date(2018, 1, 4)"
      ]
     },
     "execution_count": 14,
     "metadata": {},
     "output_type": "execute_result"
    }
   ],
   "source": [
    "max(r1)"
   ]
  },
  {
   "cell_type": "markdown",
   "id": "4f868ad0",
   "metadata": {},
   "source": [
    "The difference is that each `for` loop is calling `__iter__` again, and each one of those is creating the generator again."
   ]
  },
  {
   "cell_type": "markdown",
   "id": "8689b23e",
   "metadata": {},
   "source": [
    "This is called a container `iterable`."
   ]
  },
  {
   "cell_type": "markdown",
   "id": "6ed77303",
   "metadata": {},
   "source": [
    "<div style=\"border: 1px solid #ccc; padding: 10px; background-color: #f9f9f9; display: flex; align-items: center;\">\n",
    "    <div style=\"font-size: 24px; color: #555; padding-right: 10px;\">💡</div>\n",
    "    <div style=\"font-size: 14px;\">\n",
    "        <strong>Tip:</strong> In general, it is a good idea to work with container iterables when dealing with generators.\n",
    "    </div>\n",
    "</div>\n"
   ]
  },
  {
   "cell_type": "markdown",
   "id": "987a25ef",
   "metadata": {},
   "source": [
    "Details on generators will be explained in more detail in <i style=\"font-family: 'Times New Roman'; font-size: 16px;\"> Chapter 7, Generators, Iterators, and Asynchronous Programming.</i>"
   ]
  },
  {
   "cell_type": "markdown",
   "id": "78bf70f8-f850-473a-be17-64da6acbd390",
   "metadata": {},
   "source": [
    "<div style=\"font-size: 150%; font-weight: bold; margin-top: 20px; color: black;\">\n",
    "    Creating sequences\n",
    "</div>"
   ]
  },
  {
   "cell_type": "markdown",
   "id": "92f11f50",
   "metadata": {},
   "source": [
    "Maybe our object does not define the `__iter__()` method, but we still want to be able to iterate over it. If `__iter__` is not defined on the object, the `iter()` function will look for the presence of `__getitem__`, and if this is not found, it will raise `TypeError`."
   ]
  },
  {
   "cell_type": "markdown",
   "id": "d98d366f",
   "metadata": {},
   "source": [
    "A sequence is an object that implements `__len__` and `__getitem__` and expects to be able to get the elements it contains, one at a time, in order, starting at zero as the first index. This means that you should be careful in the logic so that you correctly implement `__getitem__` to expect this type of index, or the iteration will not work."
   ]
  },
  {
   "cell_type": "markdown",
   "id": "ccaaedee",
   "metadata": {},
   "source": [
    "The example from the previous section had the advantage that it uses less memory. This means that it is only holding one date at a time and knows how to produce the days one by one. However, it has the drawback that if we want to get the nth element, we have no way to do so but iterate n-times until we reach it. This is a typical trade-off in computer science between memory and CPU usage."
   ]
  },
  {
   "cell_type": "markdown",
   "id": "4afa36b9",
   "metadata": {},
   "source": [
    "The implementation with an `iterable` will use less memory, but it takes up to <i style=\"font-family: 'Times New Roman'; font-size: 16px;\"> O(n) </i> to get an element, whereas implementing a sequence will use more memory (because we have to hold everything at once), but supports indexing in constant time,<i style=\"font-family: 'Times New Roman'; font-size: 16px;\"> O(1) </i>."
   ]
  },
  {
   "cell_type": "markdown",
   "id": "95fa4740",
   "metadata": {},
   "source": [
    "The preceding notation (for example, <i style=\"font-family: 'Times New Roman'; font-size: 16px;\"> O(n) </i>) is called asymptotic notation (or \"big-O\" notation) and it describes the order of complexity of the algorithm. At a very high level, this means how many operations the algorithm needs to perform as a function of the size of the input <i style=\"font-family: 'Times New Roman'; font-size: 16px;\"> (n) </i>. For more information on this, you can check out (ALGO01) listed at the end of the chapter, which contains a detailed study of asymptotic notation."
   ]
  },
  {
   "cell_type": "markdown",
   "id": "c1b3e793",
   "metadata": {},
   "source": [
    "This is what the new implementation might look like:"
   ]
  },
  {
   "cell_type": "code",
   "execution_count": null,
   "id": "98b2385f",
   "metadata": {},
   "outputs": [],
   "source": [
    "class DateRangeSequence:\n",
    "    def __init__(self, start_date, end_date):\n",
    "        self.start_date = start_date\n",
    "        self.end_date = end_date\n",
    "        self._range = self._create_range()\n",
    "    def _create_range(self):\n",
    "        days = []\n",
    "        current_day = self.start_date\n",
    "        while current_day < self.end_date:\n",
    "            days.append(current_day)\n",
    "            current_day += timedelta(days=1)\n",
    "        return days\n",
    "    def __getitem__(self, day_no):\n",
    "        return self._range[day_no]\n",
    "    def __len__(self):\n",
    "        return len(self._range)\n"
   ]
  },
  {
   "cell_type": "markdown",
   "id": "4b566a27",
   "metadata": {},
   "source": [
    "Here is how the object behaves:"
   ]
  },
  {
   "cell_type": "code",
   "execution_count": null,
   "id": "b19a7947-3130-4275-b7f6-4879ada835e3",
   "metadata": {},
   "outputs": [],
   "source": [
    "s1 = DateRangeSequence(date(2018, 1, 1), date(2018, 1, 5))"
   ]
  },
  {
   "cell_type": "code",
   "execution_count": null,
   "id": "0e5812c7-e6f1-4845-b499-f5947724aaa7",
   "metadata": {},
   "outputs": [],
   "source": [
    "for day in s1:\n",
    "    print(day)"
   ]
  },
  {
   "cell_type": "code",
   "execution_count": null,
   "id": "7262e25a-ef16-48ae-8a91-2f70995bb205",
   "metadata": {},
   "outputs": [],
   "source": [
    "s1[0]"
   ]
  },
  {
   "cell_type": "code",
   "execution_count": null,
   "id": "1f8f0ce1-b885-4817-85b9-41b865b1bfe6",
   "metadata": {},
   "outputs": [],
   "source": [
    "s1[3]"
   ]
  },
  {
   "cell_type": "code",
   "execution_count": null,
   "id": "eb4db746",
   "metadata": {},
   "outputs": [],
   "source": [
    "s1[-1]"
   ]
  },
  {
   "cell_type": "markdown",
   "id": "2928b314",
   "metadata": {},
   "source": [
    "In the preceding code, we can see that negative indices also work. This is because the `DateRangeSequence` object delegates all of the operations to its wrapped object (a `list`), which is the best way to maintain compatibility and a consistent behavior."
   ]
  },
  {
   "cell_type": "markdown",
   "id": "6003203c",
   "metadata": {},
   "source": [
    "<div style=\"border: 1px solid #ccc; padding: 10px; background-color: #f9f9f9; display: flex; align-items: center;\">\n",
    "    <div style=\"font-size: 24px; color: #555; padding-right: 10px;\">💡</div>\n",
    "    <div style=\"font-size: 14px;\">\n",
    "        <strong>Tip:</strong> Evaluate the trade-off between memory and CPU usage when deciding which one of the two possible implementations to use. In general, the iteration is preferable (and generators even more), but keep in mind the requirements of every case.\n",
    "    </div>\n",
    "</div>\n"
   ]
  },
  {
   "cell_type": "markdown",
   "id": "88071586-44fb-410b-8660-732933af1bb7",
   "metadata": {},
   "source": [
    "<div style=\"font-size: 200%; font-weight: bold; margin-top: 35px; color: black;\">\n",
    "    Container objects\n",
    "</div>"
   ]
  },
  {
   "cell_type": "markdown",
   "id": "5b3ee832",
   "metadata": {},
   "source": [
    "Containers are objects that implement a `__contains__` method (that usually returns a `Boolean` value). This method is called in the presence of the `in` keyword of Python."
   ]
  },
  {
   "cell_type": "markdown",
   "id": "1606c97a",
   "metadata": {},
   "source": [
    "Something like the following:"
   ]
  },
  {
   "cell_type": "code",
   "execution_count": null,
   "id": "a800cfdd-aad6-4b8b-86a6-764d27e38dc1",
   "metadata": {},
   "outputs": [],
   "source": [
    "element in container\n"
   ]
  },
  {
   "cell_type": "markdown",
   "id": "04bfab6c",
   "metadata": {},
   "source": [
    "When used in Python, becomes this:"
   ]
  },
  {
   "cell_type": "code",
   "execution_count": null,
   "id": "399a3bed",
   "metadata": {},
   "outputs": [],
   "source": [
    "container.__contains__(element)\n"
   ]
  },
  {
   "cell_type": "markdown",
   "id": "e72b570e",
   "metadata": {},
   "source": [
    "You can imagine how much more readable (and Pythonic!) the code can be when this method is properly implemented."
   ]
  },
  {
   "cell_type": "markdown",
   "id": "e1cfe424",
   "metadata": {},
   "source": [
    "Let's say we have to mark some points on a map of a game that has two-dimensional coordinates. We might expect to find a function like the following:"
   ]
  },
  {
   "cell_type": "code",
   "execution_count": null,
   "id": "d247a72b",
   "metadata": {},
   "outputs": [],
   "source": [
    "def mark_coordinate(grid, coord):\n",
    "    if 0 <= coord.x < grid.width and 0 <= coord.y < grid.height:\n",
    "        grid[coord] = MARKED\n"
   ]
  },
  {
   "cell_type": "markdown",
   "id": "37b64bf7",
   "metadata": {},
   "source": [
    "Now, the part that checks the condition of the first `if` statement seems convoluted; it doesn't reveal the intention of the code, it's not expressive, and worst of all it calls for code duplication (every part of the code where we need to check the boundaries before proceeding will have to repeat that `if` statement)."
   ]
  },
  {
   "cell_type": "markdown",
   "id": "eb07d9b2",
   "metadata": {},
   "source": [
    "What if the map itself (called `grid` on the code) could answer this question? Even better, what if the map could delegate this action to an even smaller (and hence more cohesive) object?"
   ]
  },
  {
   "cell_type": "markdown",
   "id": "b2f53cde-c777-4722-aa47-34822a5bac53",
   "metadata": {},
   "source": [
    "We could solve this problem in a more elegant way with object-oriented design and with the help of a magic method. In this case, we can create a new abstraction to represent the limits of the grid, which can be made an object in itself. <i style=\"font-family: 'Times New Roman'; font-size: 16px;\"> Figure 2.2 </i> helps illustrate the point:"
   ]
  },
  {
   "cell_type": "markdown",
   "id": "eb4bc1cb-be80-4b90-a785-bf1b0f41d8ea",
   "metadata": {},
   "source": [
    "<div style=\"text-align: center;\">\n",
    "<img src=\"data:image/png;base64,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\" />\n",
    "</div>"
   ]
  },
  {
   "cell_type": "markdown",
   "id": "c5d86c1c-75bb-47ac-b1e8-ee09c7178a1f",
   "metadata": {},
   "source": [
    "<figure style=\"text-align: center;\">\n",
    "    <figcaption style=\"font-size: 0.9em; color: black;\">Figure 2.2: An example using composition, distributing responsibilities in different classes, and using the container magic method</figcaption>\n",
    "</figure>\n"
   ]
  },
  {
   "cell_type": "markdown",
   "id": "17431905",
   "metadata": {},
   "source": [
    "Parenthetically, I'll mention that it's true that in general, class names refer to nouns, and they're usually singular. So, it might sound strange to have a class named `Boundaries`, but if we think about it, perhaps for this particular case, it makes sense to say that we have an object representing all the boundaries of a grid, especially because of the way it's being used (in this case, we're using it to validate if a particular coordinate is within those boundaries)."
   ]
  },
  {
   "cell_type": "markdown",
   "id": "34595eda",
   "metadata": {},
   "source": [
    "With this design, we can ask the `map` if it contains a coordinate, and the `map` itself can have information about its limit and pass the query down to its internal collaborator:"
   ]
  },
  {
   "cell_type": "code",
   "execution_count": null,
   "id": "ab4be50f",
   "metadata": {},
   "outputs": [],
   "source": [
    "class Boundaries:\n",
    "    def __init__(self, width, height):\n",
    "        self.width = width\n",
    "        self.height = height\n",
    "    def __contains__(self, coord):\n",
    "        x, y = coord\n",
    "        return 0 <= x < self.width and 0 <= y < self.height\n",
    "class Grid:\n",
    "    def __init__(self, width, height):\n",
    "        self.width = width\n",
    "        self.height = height\n",
    "        self.limits = Boundaries(width, height)\n",
    "    def __contains__(self, coord):\n",
    "        return coord in self.limits\n"
   ]
  },
  {
   "cell_type": "markdown",
   "id": "5417f8ac",
   "metadata": {},
   "source": [
    "This code alone is a much better implementation. First, it is doing a simple composition and it's using delegation to solve the problem. Both objects are really cohesive, having the minimal possible logic; the methods are short, and the logic speaks for itself—`coord in self.limits` is pretty much a declaration of the problem to solve, expressing the intention of the code."
   ]
  },
  {
   "cell_type": "markdown",
   "id": "02929e23",
   "metadata": {},
   "source": [
    "From the outside, we can also see the benefits. It's almost as if Python is solving the problem for us:"
   ]
  },
  {
   "cell_type": "code",
   "execution_count": null,
   "id": "88779dd8",
   "metadata": {},
   "outputs": [],
   "source": [
    "def mark_coordinate(grid, coord):\n",
    "    if coord in grid:\n",
    "        grid[coord] = MARKED\n"
   ]
  },
  {
   "cell_type": "markdown",
   "id": "1019457e-38d6-49cb-af62-60c16b4c946a",
   "metadata": {},
   "source": [
    "<div style=\"font-size: 200%; font-weight: bold; margin-top: 35px; color: black;\">\n",
    "    Dynamic attributes for objects\n",
    "</div>"
   ]
  },
  {
   "cell_type": "markdown",
   "id": "35cef8fb",
   "metadata": {},
   "source": [
    "It is possible to control the way attributes are obtained from objects by means of the `__getattr__` magic method. When we call something like `<myobject>.<myattribute>`, Python will look for `<myattribute>` in the dictionary of the object, calling `__getattribute__` on it. If this is not found (namely, the object does not have the attribute we are looking for), then the extra method, `__getattr__`, is called, passing the name of the attribute (myattribute) as a parameter. "
   ]
  },
  {
   "cell_type": "markdown",
   "id": "5a48bef4",
   "metadata": {},
   "source": [
    "By receiving this value, we can control the way things should be returned to our objects. We can even create new attributes, and so on."
   ]
  },
  {
   "cell_type": "markdown",
   "id": "37dc4a90",
   "metadata": {},
   "source": [
    "In the following listing, the `__getattr__` method is demonstrated:"
   ]
  },
  {
   "cell_type": "code",
   "execution_count": 15,
   "id": "06ef0ec9",
   "metadata": {},
   "outputs": [],
   "source": [
    "class DynamicAttributes:\n",
    "    def __init__(self, attribute):\n",
    "        self.attribute = attribute\n",
    "    def __getattr__(self, attr):\n",
    "        if attr.startswith(\"fallback_\"):\n",
    "            name = attr.replace(\"fallback_\", \"\")\n",
    "            return f\"[fallback resolved] {name}\"\n",
    "        raise AttributeError(\n",
    "            f\"{self.__class__.__name__} has no attribute {attr}\"\n",
    "        )\n"
   ]
  },
  {
   "cell_type": "markdown",
   "id": "0bf4b665",
   "metadata": {},
   "source": [
    "Here are some calls to an object of this class:"
   ]
  },
  {
   "cell_type": "code",
   "execution_count": 17,
   "id": "2c302461-2d06-40d0-828b-fff2bfb713b3",
   "metadata": {},
   "outputs": [
    {
     "data": {
      "text/plain": [
       "'value'"
      ]
     },
     "execution_count": 17,
     "metadata": {},
     "output_type": "execute_result"
    }
   ],
   "source": [
    "dyn = DynamicAttributes(\"value\")\n",
    "dyn.attribute"
   ]
  },
  {
   "cell_type": "code",
   "execution_count": 18,
   "id": "b2d762a8-600f-43dc-a4a9-ea2d42172dea",
   "metadata": {},
   "outputs": [
    {
     "data": {
      "text/plain": [
       "'[fallback resolved] test'"
      ]
     },
     "execution_count": 18,
     "metadata": {},
     "output_type": "execute_result"
    }
   ],
   "source": [
    "dyn.fallback_test"
   ]
  },
  {
   "cell_type": "code",
   "execution_count": 19,
   "id": "76e56a2b-5cbc-4b4e-af20-61c7f4887c21",
   "metadata": {},
   "outputs": [
    {
     "data": {
      "text/plain": [
       "'new value'"
      ]
     },
     "execution_count": 19,
     "metadata": {},
     "output_type": "execute_result"
    }
   ],
   "source": [
    "dyn.__dict__[\"fallback_new\"] = \"new value\"\n",
    "dyn.fallback_new"
   ]
  },
  {
   "cell_type": "code",
   "execution_count": 20,
   "id": "82e06639-9361-428d-9352-e48593d0d0fb",
   "metadata": {},
   "outputs": [
    {
     "data": {
      "text/plain": [
       "'default'"
      ]
     },
     "execution_count": 20,
     "metadata": {},
     "output_type": "execute_result"
    }
   ],
   "source": [
    "getattr(dyn, \"something\", \"default\")"
   ]
  },
  {
   "cell_type": "markdown",
   "id": "a735cc8e",
   "metadata": {},
   "source": [
    "The first call is straightforward—we just request an attribute that the object has and get its value as a result. The second is where this method takes action because the object does not have anything called `fallback_test`, so `__getattr__` will run with that value. Inside that method, we placed the code that returns a string, and what we get is the result of that transformation."
   ]
  },
  {
   "cell_type": "markdown",
   "id": "ceff38a5",
   "metadata": {},
   "source": [
    "The third example is interesting because a new attribute named `fallback_new` is created (actually, this call would be the same as running `dyn.fallback_new = \"new value\"`), so when we request that attribute, notice that the logic we put in `__getattr__` does not apply, simply because that code is never called."
   ]
  },
  {
   "cell_type": "markdown",
   "id": "5f060a85",
   "metadata": {},
   "source": [
    "Now, the last example is the most interesting one. There is a subtle detail here that makes a huge difference. Take another look at the code in the `__getattr__` method. Notice the exception it raises when the value is not retrievable, `AttributeError`. This is not only for consistency (as well as the message in the exception), but also required by the built-in `getattr()` function. Had this exception been any other, it would raise, and the default value would not be returned."
   ]
  },
  {
   "cell_type": "markdown",
   "id": "e1f83c58",
   "metadata": {},
   "source": [
    "<div style=\"border: 1px solid #ccc; padding: 10px; background-color: #f9f9f9; display: flex; align-items: center;\">\n",
    "    <div style=\"font-size: 24px; color: #555; padding-right: 10px;\">💡</div>\n",
    "    <div style=\"font-size: 14px;\">\n",
    "        <strong>Tip:</strong> Be careful when implementing a method so dynamic as <code>__getattr__</code>, and use it with caution. When implementing <code>__getattr__</code>, raise <code>AttributeError</code>.\n",
    "    </div>\n",
    "</div>\n"
   ]
  },
  {
   "cell_type": "markdown",
   "id": "6a0de4bd",
   "metadata": {},
   "source": [
    "The `__getattr__` magic method is useful in many situations. It can be used to create a proxy to another object. For example, if you're creating a wrapper object on top of another one by means of composition, and you want to delegate most of the methods to the wrapped object, instead of copying and defining all of those methods, you can implement `__getattr__` that will internally call the same method on the wrapped object."
   ]
  },
  {
   "cell_type": "markdown",
   "id": "633f2628",
   "metadata": {},
   "source": [
    "Another example is when you know you need attributes that are dynamically computed. I've used it on a past project working with `GraphQL` (_https://graphql.org/_) with `Graphene` (_https://graphene-python.org/_). The way the library worked was by using resolver methods. Basically, every method named `resolve_X` was used when property `X` was requested. Since there were already domain objects that could resolve each property `X` in the class of the `Graphene` object, `__getattr__` was implemented to know where to get each property from, without having to write a massive boilerplate code."
   ]
  },
  {
   "cell_type": "markdown",
   "id": "e188bdd1",
   "metadata": {},
   "source": [
    "Use the `__getattr__` magic method when you see an opportunity to avoid lots of duplicated code and boilerplate, but don't abuse this method, as it'll render the code harder to understand and reason about. Keep in mind that having attributes that aren't explicitly declared and just appear dynamically will make the code harder to understand. When using this method, you're always weighing code compactness versus maintainability."
   ]
  },
  {
   "cell_type": "markdown",
   "id": "d1567a13-6123-4ec7-8d58-d2684910d0f1",
   "metadata": {},
   "source": [
    "<div style=\"font-size: 200%; font-weight: bold; margin-top: 35px; color: black;\">\n",
    "    Callable objects\n",
    "</div>"
   ]
  },
  {
   "cell_type": "markdown",
   "id": "b2811322",
   "metadata": {},
   "source": [
    "It is possible (and often convenient) to define objects that can act as functions. One of the most common applications for this is to create better decorators, but it's not limited to that."
   ]
  },
  {
   "cell_type": "markdown",
   "id": "0649e0bf",
   "metadata": {},
   "source": [
    "The magic method `__call__` will be called when we try to execute our object as if it were a regular function. Every argument passed to it will be passed along to the `__call__` method."
   ]
  },
  {
   "cell_type": "markdown",
   "id": "33627bc4",
   "metadata": {},
   "source": [
    "The main advantage of implementing functions this way, through objects, is that objects have states, so we can save and maintain information across calls. This means that using a `callable` object might be a more convenient way of implementing functions if we need to maintain an internal state across different calls. Examples of this can be functions we would like to implement with memoization, or internal caches."
   ]
  },
  {
   "cell_type": "markdown",
   "id": "3f8ffdbe",
   "metadata": {},
   "source": [
    "When we have an object, a statement like this, `object(*args, **kwargs)`, is translated in Python to `object.__call__(*args, **kwargs)`."
   ]
  },
  {
   "cell_type": "markdown",
   "id": "59055d1d",
   "metadata": {},
   "source": [
    "This method is useful when we want to create callable objects that will work as parametrized functions, or in some cases, functions with memory."
   ]
  },
  {
   "cell_type": "markdown",
   "id": "6e627216",
   "metadata": {},
   "source": [
    "The following listing uses this method to construct an object that, when called with a parameter, returns the number of times it has been called with the very same value:"
   ]
  },
  {
   "cell_type": "code",
   "execution_count": null,
   "id": "64cee22a",
   "metadata": {},
   "outputs": [],
   "source": [
    "from collections import defaultdict\n",
    "class CallCount:\n",
    "    def __init__(self):\n",
    "        self._counts = defaultdict(int)\n",
    "    def __call__(self, argument):\n",
    "        self._counts[argument] += 1\n",
    "        return self._counts[argument]\n"
   ]
  },
  {
   "cell_type": "markdown",
   "id": "9b289824",
   "metadata": {},
   "source": [
    "Some examples of this class in action are as follows:"
   ]
  },
  {
   "cell_type": "code",
   "execution_count": null,
   "id": "d89789ea-e15d-4a5b-a421-77ff5a0d98f3",
   "metadata": {},
   "outputs": [],
   "source": [
    "cc = CallCount()\n",
    "cc(1)"
   ]
  },
  {
   "cell_type": "code",
   "execution_count": null,
   "id": "e5e1172b-1489-40d6-8954-8f0e8a38d4cb",
   "metadata": {},
   "outputs": [],
   "source": [
    "cc(2)"
   ]
  },
  {
   "cell_type": "code",
   "execution_count": null,
   "id": "ca933800-604b-456c-a4a9-1719b139ff6d",
   "metadata": {},
   "outputs": [],
   "source": [
    "cc(1)"
   ]
  },
  {
   "cell_type": "code",
   "execution_count": null,
   "id": "f023ec9d-7a1f-4b58-946b-1294b2db0afa",
   "metadata": {},
   "outputs": [],
   "source": [
    "cc(1)"
   ]
  },
  {
   "cell_type": "code",
   "execution_count": null,
   "id": "b36223a6-916a-4cde-8dc2-b0b0c191d918",
   "metadata": {},
   "outputs": [],
   "source": [
    "cc(\"something\")"
   ]
  },
  {
   "cell_type": "code",
   "execution_count": null,
   "id": "25a185aa",
   "metadata": {},
   "outputs": [],
   "source": [
    "callable(cc)"
   ]
  },
  {
   "cell_type": "markdown",
   "id": "7c3db918",
   "metadata": {},
   "source": [
    "Later in this book, we will find out that this method comes in handy when creating decorators."
   ]
  },
  {
   "cell_type": "markdown",
   "id": "0c5bbfb1-3195-4a50-9ce8-2cbae06acdad",
   "metadata": {},
   "source": [
    "<div style=\"font-size: 200%; font-weight: bold; margin-top: 35px; color: black;\">\n",
    "    Summary of magic methods\n",
    "</div>"
   ]
  },
  {
   "cell_type": "markdown",
   "id": "eacc12f2",
   "metadata": {},
   "source": [
    "We can summarize the concepts we described in the previous sections in the form of a cheat sheet like the one presented as follows. For each action in Python, the magic method involved is presented, along with the concept that it represents:"
   ]
  },
  {
   "cell_type": "markdown",
   "id": "5af02cf0-663a-4e4c-bee1-50dad9236bb7",
   "metadata": {},
   "source": [
    "<table style=\"width:100%; border-collapse: collapse; text-align: center;\">\n",
    "  <tr>\n",
    "    <th style=\"border: 1px solid black; padding: 8px;\">Statement</th>\n",
    "    <th style=\"border: 1px solid black; padding: 8px;\">Magic method</th>\n",
    "    <th style=\"border: 1px solid black; padding: 8px;\">Behavior</th>\n",
    "  </tr>\n",
    "  <tr>\n",
    "    <td style=\"border: 1px solid black; padding: 8px;\">\n",
    "      obj[key]<br>\n",
    "      obj[i:j]<br>\n",
    "      obj[i:j:k]\n",
    "    </td>\n",
    "    <td style=\"border: 1px solid black; padding: 8px;\">__getitem__(key)</td>\n",
    "    <td style=\"border: 1px solid black; padding: 8px;\">Subscriptable object</td>\n",
    "  </tr>\n",
    "  <tr>\n",
    "    <td style=\"border: 1px solid black; padding: 8px;\">with obj: ...</td>\n",
    "    <td style=\"border: 1px solid black; padding: 8px;\">__enter__ / __exit__</td>\n",
    "    <td style=\"border: 1px solid black; padding: 8px;\">Context manager</td>\n",
    "  </tr>\n",
    "  <tr>\n",
    "    <td style=\"border: 1px solid black; padding: 8px;\">\n",
    "        for i in obj: \n",
    "        ...</td>\n",
    "    <td style=\"border: 1px solid black; padding: 8px;\">\n",
    "      __iter__ / __next__<br>\n",
    "      __len__ / __getitem__\n",
    "    </td>\n",
    "    <td style=\"border: 1px solid black; padding: 8px;\">\n",
    "      Iterable object<br>\n",
    "      Sequence\n",
    "    </td>\n",
    "  </tr>\n",
    "  <tr>\n",
    "    <td style=\"border: 1px solid black; padding: 8px;\">obj.&lt;attribute&gt;</td>\n",
    "    <td style=\"border: 1px solid black; padding: 8px;\">__getattr__</td>\n",
    "    <td style=\"border: 1px solid black; padding: 8px;\">Dynamic attribute retrieval</td>\n",
    "  </tr>\n",
    "  <tr>\n",
    "    <td style=\"border: 1px solid black; padding: 8px;\">obj(*args, **kwargs)</td>\n",
    "    <td style=\"border: 1px solid black; padding: 8px;\">__call__(*args, **kwargs)</td>\n",
    "    <td style=\"border: 1px solid black; padding: 8px;\">Callable object</td>\n",
    "  </tr>\n",
    "</table>"
   ]
  },
  {
   "cell_type": "markdown",
   "id": "908e7f6e",
   "metadata": {},
   "source": [
    "<figure style=\"text-align: center;\">\n",
    "    <figcaption style=\"font-size: 0.9em; color: black;\">Table 2.1: Magic methods and their behavior in Python</figcaption>\n",
    "</figure>\n"
   ]
  },
  {
   "cell_type": "markdown",
   "id": "c5778762",
   "metadata": {},
   "source": [
    "The best way to implement these methods correctly (and to know the set of methods that need to be implemented together) is to declare our class to implement the corresponding class following the abstract base classes defined in the `collections.abc` module (_https://docs.python.org/3/library/collections.abc.html#collections-abstract-base-classes_). These interfaces provide the methods that need to be implemented, so it'll make it easier for you to define the class correctly, and it'll also take care of creating the type correctly (something that works well when the `isinstance()` function is called on your object)."
   ]
  },
  {
   "cell_type": "markdown",
   "id": "2391bb77",
   "metadata": {},
   "source": [
    "We have seen the main features of Python with respect to its peculiar syntax. With the features we have learned (context managers, callable objects, creating our own sequences, and suchlike), we are now able to write code that will blend well with Python's reserved words (for example, we can use the with statements `with` our own context managers, or the `in` operator with a container of our own.)"
   ]
  },
  {
   "cell_type": "markdown",
   "id": "73e410f5",
   "metadata": {},
   "source": [
    "With practice and experience, you'll become more fluent with these features of Python, until it becomes second nature for you to wrap the logic you're writing behind abstractions with nice and small interfaces. Give it enough time, and the reverse effect will take place: Python will start programming you. That is, you'll naturally think of having small, clean interfaces in your programs, so even when you're creating software in a different language, you'll try to use these concepts. For example, if you find yourself programming in, let's say, Java or C (or even Bash), you might identify a scenario where a context manager might be useful. Now the language itself might not support this out of the box, but that might not stop you from writing your own abstraction that provides similar guarantees. And that's a good thing. It means you have internalized good concepts beyond a specific language, and you can apply them in different situations."
   ]
  },
  {
   "cell_type": "markdown",
   "id": "49bd325a",
   "metadata": {},
   "source": [
    "All programming languages have their caveats, and Python is no exception, so in order to have a more complete understanding of Python, we'll review some of them in the next section."
   ]
  },
  {
   "cell_type": "markdown",
   "id": "4131ad6d-a462-4756-81a9-db38734c9144",
   "metadata": {},
   "source": [
    "<div style=\"font-size: 250%; font-weight: bold; margin-top: 40px; color: black;\">\n",
    "    Caveats in Python\n",
    "</div>"
   ]
  },
  {
   "cell_type": "markdown",
   "id": "23beb147",
   "metadata": {},
   "source": [
    "Besides understanding the main features of the language, being able to write idiomatic code is also about being aware of the potential problems of some idioms, and how to avoid them. In this section, we will explore common issues that might cause you long debugging sessions if they catch you off guard."
   ]
  },
  {
   "cell_type": "markdown",
   "id": "6e72889f",
   "metadata": {},
   "source": [
    "Most of the points discussed in this section are things to avoid entirely, and I will dare to say that there is almost no possible scenario that justifies the presence of the anti-pattern (or idiom, in this case). Therefore, if you find this on the code base you are working on, feel free to refactor it in the way that is suggested. If you find these traits while doing a code review, this is a clear indication that something needs to change."
   ]
  },
  {
   "cell_type": "markdown",
   "id": "cc2c6522-d23b-4919-81b1-8316177b7672",
   "metadata": {},
   "source": [
    "<div style=\"font-size: 200%; font-weight: bold; margin-top: 35px; color: black;\">\n",
    "    Mutable default arguments\n",
    "</div>"
   ]
  },
  {
   "cell_type": "markdown",
   "id": "0aaab665",
   "metadata": {},
   "source": [
    "Simply put, don't use mutable objects as the default arguments of functions. If you use mutable objects as default arguments, you will get results that are not the expected ones."
   ]
  },
  {
   "cell_type": "markdown",
   "id": "c74cc4de",
   "metadata": {},
   "source": [
    "Consider the following erroneous function definition:"
   ]
  },
  {
   "cell_type": "code",
   "execution_count": 21,
   "id": "fbccc07b",
   "metadata": {},
   "outputs": [],
   "source": [
    "def wrong_user_display(user_metadata: dict = {\"name\": \"John\", \"age\": 30}):\n",
    "    name = user_metadata.pop(\"name\")\n",
    "    age = user_metadata.pop(\"age\")\n",
    "    return f\"{name} ({age})\"\n"
   ]
  },
  {
   "cell_type": "markdown",
   "id": "389b3cc6",
   "metadata": {},
   "source": [
    "This has two problems, actually. Besides the default mutable argument, the body of the function is mutating a mutable object, and hence creating a side effect. But the main problem is the default argument for `user_metadata`."
   ]
  },
  {
   "cell_type": "markdown",
   "id": "9a9ef2d2",
   "metadata": {},
   "source": [
    "This will actually only work the first time it is called without arguments. For the second time, we call it without explicitly passing something to `user_metadata`. It will fail with a `KeyError`, like so:"
   ]
  },
  {
   "cell_type": "code",
   "execution_count": 22,
   "id": "8dac506a-56b2-45fc-902b-5c2e39ba42cb",
   "metadata": {},
   "outputs": [
    {
     "data": {
      "text/plain": [
       "'John (30)'"
      ]
     },
     "execution_count": 22,
     "metadata": {},
     "output_type": "execute_result"
    }
   ],
   "source": [
    "wrong_user_display()"
   ]
  },
  {
   "cell_type": "code",
   "execution_count": 24,
   "id": "9e399d29-b496-4d3f-bce0-05da5eeca19d",
   "metadata": {},
   "outputs": [
    {
     "data": {
      "text/plain": [
       "'Jane (25)'"
      ]
     },
     "execution_count": 24,
     "metadata": {},
     "output_type": "execute_result"
    }
   ],
   "source": [
    "wrong_user_display({\"name\": \"Jane\", \"age\": 25})"
   ]
  },
  {
   "cell_type": "code",
   "execution_count": 23,
   "id": "db73051e",
   "metadata": {},
   "outputs": [
    {
     "ename": "KeyError",
     "evalue": "'name'",
     "output_type": "error",
     "traceback": [
      "\u001b[1;31m---------------------------------------------------------------------------\u001b[0m",
      "\u001b[1;31mKeyError\u001b[0m                                  Traceback (most recent call last)",
      "Cell \u001b[1;32mIn[23], line 1\u001b[0m\n\u001b[1;32m----> 1\u001b[0m wrong_user_display()\n",
      "Cell \u001b[1;32mIn[21], line 2\u001b[0m, in \u001b[0;36mwrong_user_display\u001b[1;34m(user_metadata)\u001b[0m\n\u001b[0;32m      1\u001b[0m \u001b[38;5;28;01mdef\u001b[39;00m \u001b[38;5;21mwrong_user_display\u001b[39m(user_metadata: \u001b[38;5;28mdict\u001b[39m \u001b[38;5;241m=\u001b[39m {\u001b[38;5;124m\"\u001b[39m\u001b[38;5;124mname\u001b[39m\u001b[38;5;124m\"\u001b[39m: \u001b[38;5;124m\"\u001b[39m\u001b[38;5;124mJohn\u001b[39m\u001b[38;5;124m\"\u001b[39m, \u001b[38;5;124m\"\u001b[39m\u001b[38;5;124mage\u001b[39m\u001b[38;5;124m\"\u001b[39m: \u001b[38;5;241m30\u001b[39m}):\n\u001b[1;32m----> 2\u001b[0m     name \u001b[38;5;241m=\u001b[39m user_metadata\u001b[38;5;241m.\u001b[39mpop(\u001b[38;5;124m\"\u001b[39m\u001b[38;5;124mname\u001b[39m\u001b[38;5;124m\"\u001b[39m)\n\u001b[0;32m      3\u001b[0m     age \u001b[38;5;241m=\u001b[39m user_metadata\u001b[38;5;241m.\u001b[39mpop(\u001b[38;5;124m\"\u001b[39m\u001b[38;5;124mage\u001b[39m\u001b[38;5;124m\"\u001b[39m)\n\u001b[0;32m      4\u001b[0m     \u001b[38;5;28;01mreturn\u001b[39;00m \u001b[38;5;124mf\u001b[39m\u001b[38;5;124m\"\u001b[39m\u001b[38;5;132;01m{\u001b[39;00mname\u001b[38;5;132;01m}\u001b[39;00m\u001b[38;5;124m (\u001b[39m\u001b[38;5;132;01m{\u001b[39;00mage\u001b[38;5;132;01m}\u001b[39;00m\u001b[38;5;124m)\u001b[39m\u001b[38;5;124m\"\u001b[39m\n",
      "\u001b[1;31mKeyError\u001b[0m: 'name'"
     ]
    }
   ],
   "source": [
    "wrong_user_display()"
   ]
  },
  {
   "cell_type": "markdown",
   "id": "65e89ff4",
   "metadata": {},
   "source": [
    "The explanation is simple—by assigning the dictionary with the default data to `user_metadata` on the definition of the function, this dictionary is actually created once and the `user_metadata` variable points to it. When the Python interpreter parses the file, it'll read the function, and find a statement in the signature that creates the dictionary and assigns it to the parameter. From that point on, the dictionary is created only once, and it's the same for the entire life of the program."
   ]
  },
  {
   "cell_type": "markdown",
   "id": "6d4c077d",
   "metadata": {},
   "source": [
    "Then, the body of the function modifies this object, which remains alive in memory so long as the program is running. When we pass a value to it, this will take the place of the default argument we just created. When we don't want this object, it is called again, and it has been modified since the previous run; the next time we run it, will not contain the keys since they were removed on the previous call."
   ]
  },
  {
   "cell_type": "markdown",
   "id": "556def8d",
   "metadata": {},
   "source": [
    "The fix is also simple—we need to use `None` as a default sentinel value and assign the default on the body of the function. Because each function has its own scope and life cycle, `user_metadata` will be assigned to the dictionary every time `None` appears:"
   ]
  },
  {
   "cell_type": "code",
   "execution_count": null,
   "id": "141316dc",
   "metadata": {},
   "outputs": [],
   "source": [
    "def user_display(user_metadata: dict = None):\n",
    "    user_metadata = user_metadata or {\"name\": \"John\", \"age\": 30}\n",
    "    name = user_metadata.pop(\"name\")\n",
    "    age = user_metadata.pop(\"age\")\n",
    "    return f\"{name} ({age})\"\n"
   ]
  },
  {
   "cell_type": "markdown",
   "id": "579ccd5e",
   "metadata": {},
   "source": [
    "Let's conclude the section by understanding the quirks of extending built-in types."
   ]
  },
  {
   "cell_type": "markdown",
   "id": "d2d8ab1e-7655-4cff-865b-d28c130b2f11",
   "metadata": {},
   "source": [
    "<div style=\"font-size: 200%; font-weight: bold; margin-top: 35px; color: black;\">\n",
    "    Extending built-in types\n",
    "</div>"
   ]
  },
  {
   "cell_type": "markdown",
   "id": "1e1450cc",
   "metadata": {},
   "source": [
    "The correct way of extending built-in types such as lists, strings, and dictionaries is by means of the `collections` module."
   ]
  },
  {
   "cell_type": "markdown",
   "id": "63f12353",
   "metadata": {},
   "source": [
    "If you create a class that directly extends `dict`, for example, you will obtain results that are probably not what you are expecting. The reason for this is that in CPython (a C optimization), the methods of the class don't call each other (as they should), so if you override one of them, this will not be reflected by the rest, resulting in unexpected outcomes. For example, you might want to override `__getitem__`, and then when you iterate the object with a `for` loop, you will notice that the logic you have put on that method is not applied."
   ]
  },
  {
   "cell_type": "markdown",
   "id": "477c6f41",
   "metadata": {},
   "source": [
    "This is all solved by using `collections.UserDict`, for example, which provides a transparent interface to actual dictionaries, and is more robust."
   ]
  },
  {
   "cell_type": "markdown",
   "id": "741d2f19",
   "metadata": {},
   "source": [
    "Let's say we want a list that was originally created from numbers to convert the values to strings, adding a prefix. The first approach might look like it solves the problem, but it is erroneous:"
   ]
  },
  {
   "cell_type": "code",
   "execution_count": null,
   "id": "f22b816f",
   "metadata": {},
   "outputs": [],
   "source": [
    "class BadList(list):\n",
    "    def __getitem__(self, index):\n",
    "        value = super().__getitem__(index)\n",
    "        if index % 2 == 0:\n",
    "            prefix = \"even\"\n",
    "        else:\n",
    "            prefix = \"odd\"\n",
    "        return f\"[{prefix}] {value}\"\n"
   ]
  },
  {
   "cell_type": "markdown",
   "id": "7c5f29c8",
   "metadata": {},
   "source": [
    "At first sight, it looks like the object behaves as we want it to. But then, if we try to iterate it (after all, it is a `list`), we find that we don't get what we wanted:"
   ]
  },
  {
   "cell_type": "code",
   "execution_count": null,
   "id": "51e5ac25-4ff5-40f0-8759-b63a017092c8",
   "metadata": {},
   "outputs": [],
   "source": [
    "bl = BadList((0, 1, 2, 3, 4, 5))\n",
    "bl[0]"
   ]
  },
  {
   "cell_type": "code",
   "execution_count": null,
   "id": "8edfa62e-0ab2-4b50-b714-6f5396122611",
   "metadata": {},
   "outputs": [],
   "source": [
    "bl[1]"
   ]
  },
  {
   "cell_type": "code",
   "execution_count": null,
   "id": "216f884f-cf6a-4028-a7bc-89e2f828a67a",
   "metadata": {},
   "outputs": [],
   "source": [
    "\"\".join(bl)"
   ]
  },
  {
   "cell_type": "markdown",
   "id": "cde64ea4",
   "metadata": {},
   "source": [
    "The `join` function will try to iterate (run a `for` loop over) the `list` but expects values of the `string` type. We would expect this to work because we modified the `__getitem__` method so that it always returns a `string`. However, based on the result, we can conclude that our modified version of `__getitem__` is not being called."
   ]
  },
  {
   "cell_type": "markdown",
   "id": "d77c4d40",
   "metadata": {},
   "source": [
    "This issue is actually an implementation detail of CPython, while in other platforms such as PyPy this doesn't happen (see the differences between PyPy and CPython in the references at the end of this chapter)."
   ]
  },
  {
   "cell_type": "markdown",
   "id": "8e530cf1",
   "metadata": {},
   "source": [
    "Regardless of this, we should write code that is portable and compatible with all implementations, so we will fix it by extending not from `list`, but `UserList`:"
   ]
  },
  {
   "cell_type": "code",
   "execution_count": null,
   "id": "ed97e411",
   "metadata": {},
   "outputs": [],
   "source": [
    "from collections import UserList\n",
    "class GoodList(UserList):\n",
    "    def __getitem__(self, index):\n",
    "        value = super().__getitem__(index)\n",
    "        if index % 2 == 0:\n",
    "            prefix = \"even\"\n",
    "        else:\n",
    "            prefix = \"odd\"\n",
    "        return f\"[{prefix}] {value}\"\n"
   ]
  },
  {
   "cell_type": "markdown",
   "id": "0b91dd9b",
   "metadata": {},
   "source": [
    "And now things look much better:"
   ]
  },
  {
   "cell_type": "code",
   "execution_count": null,
   "id": "66c1b7af-b5b5-4b37-86d6-b2cdc5173eba",
   "metadata": {},
   "outputs": [],
   "source": [
    "gl = GoodList((0, 1, 2))"
   ]
  },
  {
   "cell_type": "code",
   "execution_count": null,
   "id": "bcc24a1d-11a8-4cd7-815b-b23286c693c4",
   "metadata": {},
   "outputs": [],
   "source": [
    "gl[0]"
   ]
  },
  {
   "cell_type": "code",
   "execution_count": null,
   "id": "067eff45-3818-41d6-92d0-fe906a9a740e",
   "metadata": {},
   "outputs": [],
   "source": [
    "gl[1]"
   ]
  },
  {
   "cell_type": "code",
   "execution_count": null,
   "id": "4ea39e13",
   "metadata": {},
   "outputs": [],
   "source": [
    "\"; \".join(gl)"
   ]
  },
  {
   "cell_type": "markdown",
   "id": "b0c5bb0b",
   "metadata": {},
   "source": [
    "<div style=\"border: 1px solid #ccc; padding: 10px; background-color: #f9f9f9; display: flex; align-items: center;\">\n",
    "    <div style=\"font-size: 24px; color: #555; padding-right: 10px;\">💡</div>\n",
    "    <div style=\"font-size: 14px;\">\n",
    "        <strong>Tip:</strong> Don't extend directly from <code>dict</code>; use <code>collections.UserDict</code> instead. For lists, use <code>collections.UserList</code>, and for strings, use <code>collections.UserString</code>.\n",
    "    </div>\n",
    "</div>\n"
   ]
  },
  {
   "cell_type": "markdown",
   "id": "be8a85f2",
   "metadata": {},
   "source": [
    "At this point, we know all the main concepts of Python. Not only how to write idiomatic code that blends well with Python itself, but also to avoid certain pitfalls. The next section is complementary."
   ]
  },
  {
   "cell_type": "markdown",
   "id": "4bc5ea65",
   "metadata": {},
   "source": [
    "Before finishing the chapter, I wanted to give a quick introduction to asynchronous programming, because while it is not strictly related to clean code per se, asynchronous code has become more and more popular, following up with the idea that, in order to work effectively with code, we must be able to read it and understand it, because being able to read asynchronous code is important."
   ]
  },
  {
   "cell_type": "markdown",
   "id": "64680de1-0246-493f-bce9-b4f6517d0632",
   "metadata": {},
   "source": [
    "<div style=\"font-size: 250%; font-weight: bold; margin-top: 40px; color: black;\">\n",
    "    A brief introduction to asynchronous code\n",
    "</div>"
   ]
  },
  {
   "cell_type": "markdown",
   "id": "ec611923",
   "metadata": {},
   "source": [
    "Asynchronous programming is not related to clean code. Therefore, the features of Python described in this section won't make the code base easier to maintain. This section introduces the syntax in Python to work with coroutines, because it might be of use for the reader, and examples with coroutines might appear later in the book."
   ]
  },
  {
   "cell_type": "markdown",
   "id": "de4e8747",
   "metadata": {},
   "source": [
    "The idea behind asynchronous programming is to have parts in our code that are able to suspend so that other parts of our code can run. Typically, when we are running I/O operations, we would very much like to keep that code running, and use the CPU on something else during that time."
   ]
  },
  {
   "cell_type": "markdown",
   "id": "fae7bf83",
   "metadata": {},
   "source": [
    "This changes the programming model. Instead of us making calls synchronously, we would write our code in a way that is being called by an event loop, which is in charge of scheduling the coroutines for running all of them in the same process and thread."
   ]
  },
  {
   "cell_type": "markdown",
   "id": "25bc9000",
   "metadata": {},
   "source": [
    "The idea is that we create a series of coroutines, and they're added to the event loop. When the event loop starts, it'll pick among the coroutines it has, and schedule them to run. At some point, when one of our coroutines needs to do an I/O operation, we can trigger it and signal the event loop back to take control again, and then schedule another coroutine whilst this operation was kept running. At some point, the event loop will resume our coroutine from the last point it got stopped at, and will continue from there. Keep in mind that the advantage of asynchronous programming is to not block on I/O operations. This means the code can jump to something else while an I/O operation is in place and then come back at it, but it doesn't mean that there are multiple processes running simultaneously. The execution model is still single-threaded."
   ]
  },
  {
   "cell_type": "markdown",
   "id": "f934c44f",
   "metadata": {},
   "source": [
    "In order to achieve this in Python, there were (and still are) lots of frameworks available. But in older versions of Python, there wasn't a specific syntax that allowed this, so the way the frameworks worked was a bit complicated, or non-obvious at first glance. Starting with Python 3.5, specific syntax for declaring coroutines was added to the language, and that changed the way we write asynchronous code in Python. Slightly prior to that, a default event loop module, `asyncio`, was introduced in the standard library. With these two milestones of Python, making asynchronous programming is much better."
   ]
  },
  {
   "cell_type": "markdown",
   "id": "a7dcbe2b",
   "metadata": {},
   "source": [
    "While this section uses `asyncio` as the module for asynchronous processing, this is not the only one. You can write asynchronous code using any library (there are plenty of them available outside the standard library, such as `trio` (_https://github.com/python-trio/trio_) and `curio` (_https://github.com/dabeaz/curio_) to name just a couple). The syntax that Python provides for writing coroutines can be considered an API. As long as the library you choose complies with that API, you should be able to use it, without having to change how your coroutines were declared."
   ]
  },
  {
   "cell_type": "markdown",
   "id": "67c0fac8",
   "metadata": {},
   "source": [
    "The syntactic differences compared with asynchronous programming are that coroutines are like functions, but they're defined with `async def` before their name. When inside a coroutine and we want to call another one (which can be ours, or defined in a third-party library), we would typically use the `await` keyword before its invocation. When `await` is called, this signals the event loop to take back control. At this point, the event loop will resume its execution, and the coroutine will be left there waiting for its non-blocking operation to continue, and in the meantime, another part of the code will run (another coroutine will be called by the event loop). At some point, the event loop will call our original coroutine again, and this one will resume from the point where it left off (right after the line with the `await` statement)."
   ]
  },
  {
   "cell_type": "markdown",
   "id": "779ebbc9",
   "metadata": {},
   "source": [
    "A typical coroutine we might define in our code has the following structure:"
   ]
  },
  {
   "cell_type": "code",
   "execution_count": null,
   "id": "898b58d9",
   "metadata": {},
   "outputs": [],
   "source": [
    "async def mycoro(*args, **kwargs):\n",
    "    # … logic\n",
    "    await third_party.coroutine(…)\n",
    "    # … more of our logic\n"
   ]
  },
  {
   "cell_type": "markdown",
   "id": "e82eab38",
   "metadata": {},
   "source": [
    "As mentioned before, there's new syntax for defining coroutines. One difference that this syntax introduces is that as opposed to regular functions, when we call this definition, it will not run the code within it. Instead, it will create a coroutine object. This object will be included in the event loop, and at some point, must be awaited (otherwise the code inside the definition will never run):"
   ]
  },
  {
   "cell_type": "code",
   "execution_count": null,
   "id": "2d714f09",
   "metadata": {},
   "outputs": [],
   "source": [
    "result = await mycoro(…)   #  doing result = mycoro() would be erroneous\n"
   ]
  },
  {
   "cell_type": "markdown",
   "id": "a67ea50a",
   "metadata": {},
   "source": [
    "<div style=\"border: 1px solid #ccc; padding: 10px; background-color: #f9f9f9; display: flex; align-items: center;\">\n",
    "    <div style=\"font-size: 24px; color: #555; padding-right: 10px;\">💡</div>\n",
    "    <div style=\"font-size: 14px;\">\n",
    "        <strong>Tip:</strong> Don't forget to await your coroutines, or their code will never be run. Pay attention to the warnings given by <code>asyncio</code>.\n",
    "    </div>\n",
    "</div>\n"
   ]
  },
  {
   "cell_type": "markdown",
   "id": "a4d4ded5",
   "metadata": {},
   "source": [
    "As mentioned, there are several libraries for asynchronous programming in Python, with event loops that can run coroutines like the preceding one defined. In particular, for `asyncio`, there's a built-in function to run a coroutine until its completion:"
   ]
  },
  {
   "cell_type": "code",
   "execution_count": null,
   "id": "3c6a9397",
   "metadata": {},
   "outputs": [],
   "source": [
    "import asyncio\n",
    "asyncio.run(mycoro(…))\n"
   ]
  },
  {
   "cell_type": "markdown",
   "id": "efb83417",
   "metadata": {},
   "source": [
    "The details of how coroutines work in Python are beyond the scope of this book, but this introduction should get the reader more familiar with the syntax. That said, coroutines are technically implemented on top of generators, which we will explore in detail in <i style=\"font-family: 'Times New Roman'; font-size: 16px;\"> Chapter 7, Generators, Iterators, and Asynchronous Programming. </i>"
   ]
  },
  {
   "cell_type": "markdown",
   "id": "54587efb-95ce-44d3-b50c-a05f41499c6d",
   "metadata": {},
   "source": [
    "<div style=\"font-size: 250%; font-weight: bold; margin-top: 40px; color: black;\">\n",
    "    Summary\n",
    "</div>"
   ]
  },
  {
   "cell_type": "markdown",
   "id": "9c124e19",
   "metadata": {},
   "source": [
    "In this chapter, we have explored the main features of Python, with the goal of understanding its most distinctive features, those that make Python a peculiar language compared to the rest. Along this path, we have explored different methods of Python, protocols, and their internal mechanics."
   ]
  },
  {
   "cell_type": "markdown",
   "id": "ad36771f",
   "metadata": {},
   "source": [
    "As opposed to the previous chapter, this one is more Python-focused. A key takeaway of the topics of this book is that clean code goes beyond following the formatting rules (which, of course, are essential to a good code base). They are a necessary condition, but not sufficient. Over the next few chapters, we will see ideas and principles that relate more to the code, with the goal of achieving a better design and implementation of our software solution."
   ]
  },
  {
   "cell_type": "markdown",
   "id": "5c3af422",
   "metadata": {},
   "source": [
    "With the concepts and the ideas of this chapter, we explored the core of Python: its protocols and magic methods. It should be clear by now that the best way of having Pythonic, idiomatic code is not only by following the formatting conventions, but also by taking full advantage of all the features Python has to offer. This means that you can write more maintainable code by using a particular magic method, a context manager, or writing more concise statements by using comprehensions and assignment expressions."
   ]
  },
  {
   "cell_type": "markdown",
   "id": "691ddd60",
   "metadata": {},
   "source": [
    "We also got acquainted with asynchronous programming, and now we should feel comfortable reading asynchronous code in Python. This is important because asynchronous programming is becoming increasingly popular, and it'll be useful for future topics, explored later in the book."
   ]
  },
  {
   "cell_type": "markdown",
   "id": "fb9e18c9",
   "metadata": {},
   "source": [
    "In the next chapter, we will put these concepts into action, relating general concepts of software engineering with the way they can be written in Python."
   ]
  },
  {
   "cell_type": "markdown",
   "id": "13c55810-608c-4465-91bc-1f2794a41235",
   "metadata": {},
   "source": [
    "<div style=\"font-size: 260%; font-weight: bold; margin-top: 40px; color: black;\">\n",
    "    References\n",
    "</div>"
   ]
  },
  {
   "cell_type": "markdown",
   "id": "14551030-4af0-4733-98df-9358e2c91c5e",
   "metadata": {},
   "source": [
    "The reader will find more information about some of the topics that we have covered in this chapter in the following references. The decision of how indices work in Python is based on (EWD831), which analyzes several alternatives for ranges in math and programming languages:"
   ]
  },
  {
   "cell_type": "markdown",
   "id": "58e35761-9fe7-4850-92cc-c3ed54fe4c63",
   "metadata": {},
   "source": [
    "- <i style=\"font-family: 'Times New Roman'; font-size: 16px;\"> EWD831: Why numbering should start at zero (https://www.cs.utexas.edu/users/EWD/transcriptions/EWD08xx/EWD831.html_) </i>\n",
    "- <i style=\"font-family: 'Times New Roman'; font-size: 16px;\"> PEP-343: The \"with\" statement (https://www.python.org/dev/peps/pep-0343/) </i>\n",
    "- <i style=\"font-family: 'Times New Roman'; font-size: 16px;\"> CC08: The book written by Robert C. Martin entitled Clean Code: A Handbook of Agile Software Craftsmanship </i>\n",
    "- <i style=\"font-family: 'Times New Roman'; font-size: 16px;\"> The iter() function: https://docs.python.org/3/library/functions.html#iter </i>\n",
    "- <i style=\"font-family: 'Times New Roman'; font-size: 16px;\"> Differences between PyPy and CPython: https://pypy.readthedocs.io/en/latest/cpython_differences.html#subclasses-of-built-in-types </i>\n",
    "- <i style=\"font-family: 'Times New Roman'; font-size: 16px;\"> The Art of Enbugging: http://media.pragprog.com/articles/jan_03_enbug.pdf </i>\n",
    "- <i style=\"font-family: 'Times New Roman'; font-size: 16px;\"> ALGO01: The book written by Thomas H. Cormen, Charles E. Leiserson, Ronald L. Rivest, and Clifford Stein entitled Introduction to Algorithms, 3rd Edition (The MIT Press) </i>"
   ]
  }
 ],
 "metadata": {
  "kernelspec": {
   "display_name": "Python 3 (ipykernel)",
   "language": "python",
   "name": "python3"
  },
  "language_info": {
   "codemirror_mode": {
    "name": "ipython",
    "version": 3
   },
   "file_extension": ".py",
   "mimetype": "text/x-python",
   "name": "python",
   "nbconvert_exporter": "python",
   "pygments_lexer": "ipython3",
   "version": "3.11.7"
  }
 },
 "nbformat": 4,
 "nbformat_minor": 5
}
