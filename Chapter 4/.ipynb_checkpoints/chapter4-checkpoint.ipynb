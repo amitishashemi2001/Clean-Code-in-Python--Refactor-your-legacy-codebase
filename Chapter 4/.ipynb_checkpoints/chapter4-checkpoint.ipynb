{
 "cells": [
  {
   "cell_type": "markdown",
   "metadata": {},
   "source": [
    "# <h1 dir='rtl'>اصول SOLID</h1> #"
   ]
  },
  {
   "cell_type": "markdown",
   "metadata": {},
   "source": [
    "<div dir='rtl'>در این فصل، ما به بررسی اصول طراحی تمیز در پایتون ادامه می‌دهیم. به طور خاص، اصول SOLID را مرور می‌کنیم و نحوه پیاده‌سازی آنها به روش پایتونیک را یاد می‌گیریم. این اصول مجموعه‌ای از روش‌های مناسب برای دستیابی به نرم‌افزار با کیفیت بهتر ارائه می‌دهند. اگر با مفهوم SOLID آشنا نیستید، توضیح آن به شرح زیر است:</div>\n",
    "\n",
    "<br>\n",
    "\n",
    "<div dir='rtl'><strong>S:</strong> اصل مسئولیت‌پذیری واحد (Single Responsibility Principle - SRP)</div>\n",
    "<div dir='rtl'><strong>O:</strong> اصل باز/بسته بودن (Open/Closed Principle - OCP)</div>\n",
    "<div dir='rtl'><strong>L:</strong> اصل جایگزینی لیسکوف (Liskov's Substitution Principle - LSP)</div>\n",
    "<div dir='rtl'><strong>I:</strong> اصل تفکیک رابط (Interface Segregation Principle - ISP)</div>\n",
    "<div dir='rtl'><strong>D:</strong> اصل معکوس‌سازی وابستگی (Dependency Inversion Principle - DIP)</div>\n",
    "\n",
    "\n",
    "<h4 dir='rtl'>اهداف این فصل:</h4>\n",
    "<ul dir='rtl'>\n",
    "  <li dir='rtl'>آشنایی با اصول SOLID برای طراحی نرم‌افزار</li>\n",
    "  <li dir='rtl'>طراحی اجزای نرم‌افزاری که اصل مسئولیت‌پذیری واحد را رعایت می‌کنند.</li>\n",
    "  <li dir='rtl'>دستیابی به کدی که نگهداری آن از طریق اصل باز/بسته بودن آسان‌تر است.</li>\n",
    "  <li dir='rtl'>ایجاد سلسله‌مراتب مناسب کلاس‌ها در طراحی شی‌گرا با رعایت اصل جایگزینی لیسکوف.</li>\n",
    "  <li dir='rtl'>طراحی با استفاده از اصول تفکیک رابط و معکوس‌سازی وابستگی.</li>\n",
    "</ul>"
   ]
  },
  {
   "cell_type": "markdown",
   "metadata": {},
   "source": [
    "### <h2 dir='rtl'>اصل مسئولیت‌پذیری واحد (Single Responsibility Principle - SRP)</h2> ###"
   ]
  },
  {
   "cell_type": "markdown",
   "metadata": {},
   "source": [
    "<div dir='rtl'>این اصل بیان می‌کند که یک مؤلفه نرم‌افزاری (معمولاً یک کلاس) باید فقط یک مسئولیت داشته باشد. اگر یک کلاس فقط یک مسئولیت داشته باشد، فقط یک دلیل برای تغییر آن وجود خواهد داشت.</div>\n",
    "<br>\n",
    "<div dir='rtl'>در صورتی که لازم باشد یک کلاس به دلایل مختلف تغییر کند، این به معنای طراحی نادرست انتزاع است و نشان‌دهنده این است که کلاس مسئولیت‌های زیادی دارد. در این موارد، حداقل یک انتزاع گم شده است و باید اشیاء بیشتری برای پوشش این مسئولیت‌های اضافی ایجاد شوند.</div>\n",
    "<br>\n",
    "<div dir='rtl'>این اصل به ما کمک می‌کند انتزاع‌هایی منسجم‌تر بسازیم—یعنی اشیایی که فقط یک کار را انجام می‌دهند و آن را به خوبی انجام می‌دهند. این رویکرد از فلسفه یونیکس پیروی می‌کند. آنچه که باید در همه موارد از آن اجتناب کنیم، داشتن اشیایی با مسئولیت‌های متعدد است (که اغلب \"اشیاء خدا\" نامیده می‌شوند، زیرا بیش از حد دانا و توانا هستند). این اشیاء رفتارهای مختلف (عمدتاً نامرتبط) را در خود جمع می‌کنند و نگهداری آن‌ها دشوار می‌شود.</div>"
   ]
  },
  {
   "cell_type": "markdown",
   "metadata": {},
   "source": [
    "### <h3 dir='rtl'>کوچک‌تر بودن کلاس‌ها بهتر است</h3> ###"
   ]
  },
  {
   "cell_type": "markdown",
   "metadata": {},
   "source": [
    "<div dir='rtl'>اصل مسئولیت‌پذیری واحد به ایده انسجام (Cohesion) در طراحی نرم‌افزار مرتبط است. انسجام یعنی بخش‌های مختلف یک کلاس باید به شدت مرتبط باشند. ما به دنبال طراحی کلاس‌هایی هستیم که بیشتر خصوصیات و متدهای آن‌ها با هم در ارتباط باشند و اغلب استفاده شوند. وقتی این اتفاق می‌افتد، می‌دانیم که این مفاهیم مرتبط هستند و بنابراین منطقی است که آنها را در یک انتزاع گروه‌بندی کنیم.</div>\n",
    "<br>\n",
    "<div dir='rtl'>این ایده تا حدودی شبیه مفهوم نرمال‌سازی در طراحی پایگاه داده‌های رابطه‌ای است. اگر متوجه شویم که صفات یا متدهای یک کلاس به صورت جداگانه عمل می‌کنند، احتمالاً باید آنها را به جای دیگری منتقل کنیم، زیرا نشانه‌ای است که چند انتزاع مختلف در یک جا ترکیب شده‌اند.</div>"
   ]
  },
  {
   "cell_type": "markdown",
   "metadata": {},
   "source": [
    "### <h3 dir='rtl'>شناسایی کلاس‌های با مسئولیت‌های متعدد</h3> ###"
   ]
  },
  {
   "cell_type": "markdown",
   "metadata": {},
   "source": [
    "<div dir='rtl'>در مثال زیر، یک برنامه‌ای داریم که وظیفه خواندن اطلاعات مربوط به رویدادها از یک منبع (مانند فایل‌های لاگ، پایگاه داده و غیره) و شناسایی اقدامات مربوط به هر رویداد خاص را بر عهده دارد.</div>\n",
    "<br>\n",
    "<div dir='rtl'>یک طراحی که اصول مسئولیت‌پذیری واحد را نقض می‌کند، به شکل زیر است:</div>"
   ]
  },
  {
   "cell_type": "code",
   "execution_count": 4,
   "metadata": {},
   "outputs": [],
   "source": [
    "class SystemMonitor:\n",
    "    def load_activity(self):\n",
    "        \"\"\"Get the events from a source, to be processed.\"\"\"\n",
    "\n",
    "    def identify_events(self):\n",
    "        \"\"\"Parse the source raw data into events (domain objects).\"\"\"\n",
    "\n",
    "    def stream_events(self):\n",
    "        \"\"\"Send the parsed events to an external agent.\"\"\""
   ]
  },
  {
   "cell_type": "markdown",
   "metadata": {},
   "source": [
    "\n",
    "<div dir='rtl'>در مثال زیر، یک برنامه‌ای داریم که وظیفه خواندن اطلاعات مربوط به رویدادها از یک منبع (مانند فایل‌های لاگ، پایگاه داده و غیره) و شناسایی اقدامات مربوط به هر رویداد خاص را بر عهده دارد.</div>\n",
    "<br>\n",
    "<div dir='rtl'>یک طراحی که اصول مسئولیت‌پذیری واحد را نقض می‌کند، به شکل زیر است:</div>"
   ]
  },
  {
   "cell_type": "markdown",
   "metadata": {},
   "source": [
    "### <h3 dir='rtl'>توزیع مسئولیت‌ها</h3> ###"
   ]
  },
  {
   "cell_type": "markdown",
   "metadata": {},
   "source": [
    "<div dir='rtl'>برای حل این مشکل، باید هر متد را به یک کلاس جداگانه منتقل کنیم. با این کار، هر کلاس فقط یک مسئولیت دارد. به این صورت:</div>"
   ]
  },
  {
   "cell_type": "code",
   "execution_count": 3,
   "metadata": {},
   "outputs": [],
   "source": [
    "class EventLoader:\n",
    "    def load_activity(self):\n",
    "        \"\"\"مسئول بارگذاری فعالیت‌ها.\"\"\"\n",
    "        \n",
    "class EventIdentifier:\n",
    "    def identify_events(self):\n",
    "        \"\"\"مسئول شناسایی رویدادها.\"\"\"\n",
    "        \n",
    "class EventStreamer:\n",
    "    def stream_events(self):\n",
    "        \"\"\"مسئول ارسال رویدادها.\"\"\""
   ]
  },
  {
   "cell_type": "markdown",
   "metadata": {},
   "source": [
    "<div dir='rtl'>با این طراحی، تغییر در هر یک از این کلاس‌ها، بر دیگر کلاس‌ها تأثیری نخواهد داشت. این تقسیم‌بندی باعث می‌شود تغییرات محلی‌تر، اثرات حداقلی و نگهداری آسان‌تر شوند.</div>"
   ]
  },
  {
   "cell_type": "markdown",
   "metadata": {},
   "source": [
    "### <h3 dir='rtl'>جمع‌بندی این بخش</h3> ###"
   ]
  },
  {
   "cell_type": "markdown",
   "metadata": {},
   "source": [
    "<div dir='rtl'>اصل مسئولیت‌پذیری واحد به ما کمک می‌کند طراحی‌هایی ایجاد کنیم که هر کلاس فقط یک دلیل برای تغییر داشته باشد. این اصل باعث انسجام بیشتر و ساده‌تر شدن نگهداری می‌شود.</div>"
   ]
  },
  {
   "cell_type": "markdown",
   "metadata": {},
   "source": [
    "### <h2 dir='rtl'>اصل باز/بسته بودن (Open/Closed Principle - OCP)</h2> ###"
   ]
  },
  {
   "cell_type": "markdown",
   "metadata": {},
   "source": [
    "<div dir='rtl'>اصل باز/بسته بودن بیان می‌کند که یک ماژول باید هم باز باشد و هم بسته (اما با توجه به جنبه‌های مختلف).</div>\n",
    "<br>\n",
    "<div dir='rtl'><strong>تعریف:</strong></div>\n",
    "\n",
    "<ul dir='rtl'>\n",
    "  <li dir='rtl'><strong>باز بودن:</strong><br> ماژول باید برای گسترش قابلیت‌ها باز باشد.</li>\n",
    "  <li dir='rtl'><strong>بسته بودن:</strong><br> ماژول نباید برای تغییرات باز باشد.</li>\n",
    "</ul>\n",
    "<br>\n",
    "<div dir='rtl'>این اصل به زبان ساده به این معنی است که هنگام طراحی یک کلاس، باید جزئیات پیاده‌سازی را به‌طور دقیق کپسوله کنیم، به طوری که نگهداری آسان باشد. ما می‌خواهیم این کلاس برای گسترش باز باشد، اما برای تغییر بسته باشد.</div>\n",
    "<br>\n",
    "<div dir='rtl'>چرا مهم است؟ وقتی چیزی جدید به دامنه مسأله اضافه می‌شود، تنها باید چیز جدیدی به مدل خود اضافه کنیم، نه اینکه بخش‌های موجود را تغییر دهیم. اگر مجبور به تغییر کد موجود باشیم، به این معنی است که طراحی ما ضعیف است.</div>"
   ]
  },
  {
   "cell_type": "markdown",
   "metadata": {},
   "source": [
    "### <h3 dir='rtl'>مثالی از مشکلاتی که در صورت عدم رعایت OCP رخ می‌دهند:</h3> ###"
   ]
  },
  {
   "cell_type": "markdown",
   "metadata": {},
   "source": [
    "<div dir='rtl'>فرض کنید بخشی از سیستم طراحی شده است که وظیفه شناسایی رویدادها را بر عهده دارد. این رویدادها بر اساس داده‌های جمع‌آوری‌شده طبقه‌بندی می‌شوند (برای سادگی فرض می‌کنیم داده‌ها به صورت دیکشنری بسته‌بندی شده‌اند).</div>\n",
    "<br>\n",
    "<div dir='rtl'>یک طراحی اولیه که اصول OCP را رعایت نمی‌کند به شکل زیر است:</div>"
   ]
  },
  {
   "cell_type": "code",
   "execution_count": 6,
   "metadata": {},
   "outputs": [],
   "source": [
    "from dataclasses import dataclass\n",
    "\n",
    "\n",
    "@dataclass\n",
    "class Event:\n",
    "    raw_data: dict \n",
    "\n",
    "class UnknownEvent(Event):\n",
    "    \"\"\"رویدادی که از داده‌ها قابل شناسایی نیست.\"\"\"\n",
    "\n",
    "class LoginEvent(Event):\n",
    "    \"\"\"رویدادی که نشان‌دهنده ورود کاربر به سیستم است.\"\"\"\n",
    "\n",
    "class LogoutEvent(Event):\n",
    "    \"\"\"رویدادی که نشان‌دهنده خروج کاربر از سیستم است.\"\"\"\n",
    "\n",
    "class SystemMonitor:\n",
    "    \"\"\"شناسایی رویدادهای سیستم.\"\"\"\n",
    "\n",
    "    def __init__(self, event_data):\n",
    "        self.event_data = event_data\n",
    "\n",
    "    def identify_event(self):\n",
    "        if (\n",
    "            self.event_data[\"before\"][\"session\"] == 0\n",
    "            and self.event_data[\"after\"][\"session\"] == 1\n",
    "        ):\n",
    "            return LoginEvent(self.event_data)\n",
    "        elif (\n",
    "            self.event_data[\"before\"][\"session\"] == 1\n",
    "            and self.event_data[\"after\"][\"session\"] == 0\n",
    "        ):\n",
    "            return LogoutEvent(self.event_data)\n",
    "\n",
    "        return UnknownEvent(self.event_data)\n"
   ]
  },
  {
   "cell_type": "markdown",
   "metadata": {},
   "source": [
    "<div dir='rtl'></div>\n"
   ]
  }
 ],
 "metadata": {
  "kernelspec": {
   "display_name": "Python 3",
   "language": "python",
   "name": "python3"
  },
  "language_info": {
   "codemirror_mode": {
    "name": "ipython",
    "version": 3
   },
   "file_extension": ".py",
   "mimetype": "text/x-python",
   "name": "python",
   "nbconvert_exporter": "python",
   "pygments_lexer": "ipython3",
   "version": "3.12.3"
  }
 },
 "nbformat": 4,
 "nbformat_minor": 2
}
