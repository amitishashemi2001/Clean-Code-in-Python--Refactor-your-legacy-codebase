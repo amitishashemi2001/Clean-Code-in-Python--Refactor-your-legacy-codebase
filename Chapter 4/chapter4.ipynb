{
 "cells": [
  {
   "cell_type": "markdown",
   "metadata": {},
   "source": [
    "# <h1 dir='rtl'>اصول SOLID</h1> #"
   ]
  },
  {
   "cell_type": "markdown",
   "metadata": {},
   "source": [
    "<div dir='rtl'>در این فصل، ما به بررسی اصول طراحی تمیز در پایتون ادامه می‌دهیم. به طور خاص، اصول SOLID را مرور می‌کنیم و نحوه پیاده‌سازی آنها به روش پایتونیک را یاد می‌گیریم. این اصول مجموعه‌ای از روش‌های مناسب برای دستیابی به نرم‌افزار با کیفیت بهتر ارائه می‌دهند. اگر با مفهوم SOLID آشنا نیستید، توضیح آن به شرح زیر است:</div>\n",
    "\n",
    "<br>\n",
    "\n",
    "<div dir='rtl'><strong>S:</strong> اصل مسئولیت‌پذیری واحد (Single Responsibility Principle - SRP)</div>\n",
    "<div dir='rtl'><strong>O:</strong> اصل باز/بسته بودن (Open/Closed Principle - OCP)</div>\n",
    "<div dir='rtl'><strong>L:</strong> اصل جایگزینی لیسکوف (Liskov's Substitution Principle - LSP)</div>\n",
    "<div dir='rtl'><strong>I:</strong> اصل تفکیک رابط (Interface Segregation Principle - ISP)</div>\n",
    "<div dir='rtl'><strong>D:</strong> اصل معکوس‌سازی وابستگی (Dependency Inversion Principle - DIP)</div>\n",
    "\n",
    "\n",
    "<h4 dir='rtl'>اهداف این فصل:</h4>\n",
    "<ul dir='rtl'>\n",
    "  <li dir='rtl'>آشنایی با اصول SOLID برای طراحی نرم‌افزار</li>\n",
    "  <li dir='rtl'>طراحی اجزای نرم‌افزاری که اصل مسئولیت‌پذیری واحد را رعایت می‌کنند.</li>\n",
    "  <li dir='rtl'>دستیابی به کدی که نگهداری آن از طریق اصل باز/بسته بودن آسان‌تر است.</li>\n",
    "  <li dir='rtl'>ایجاد سلسله‌مراتب مناسب کلاس‌ها در طراحی شی‌گرا با رعایت اصل جایگزینی لیسکوف.</li>\n",
    "  <li dir='rtl'>طراحی با استفاده از اصول تفکیک رابط و معکوس‌سازی وابستگی.</li>\n",
    "</ul>"
   ]
  },
  {
   "cell_type": "markdown",
   "metadata": {},
   "source": [
    "### <h2 dir='rtl'>اصل مسئولیت‌پذیری واحد (Single Responsibility Principle - SRP)</h2> ###"
   ]
  },
  {
   "cell_type": "markdown",
   "metadata": {},
   "source": [
    "<div dir='rtl'>این اصل بیان می‌کند که یک مؤلفه نرم‌افزاری (معمولاً یک کلاس) باید فقط یک مسئولیت داشته باشد. اگر یک کلاس فقط یک مسئولیت داشته باشد، فقط یک دلیل برای تغییر آن وجود خواهد داشت.</div>\n",
    "<br>\n",
    "<div dir='rtl'>در صورتی که لازم باشد یک کلاس به دلایل مختلف تغییر کند، این به معنای طراحی نادرست انتزاع است و نشان‌دهنده این است که کلاس مسئولیت‌های زیادی دارد. در این موارد، حداقل یک انتزاع گم شده است و باید اشیاء بیشتری برای پوشش این مسئولیت‌های اضافی ایجاد شوند.</div>\n",
    "<br>\n",
    "<div dir='rtl'>این اصل به ما کمک می‌کند انتزاع‌هایی منسجم‌تر بسازیم—یعنی اشیایی که فقط یک کار را انجام می‌دهند و آن را به خوبی انجام می‌دهند. این رویکرد از فلسفه یونیکس پیروی می‌کند. آنچه که باید در همه موارد از آن اجتناب کنیم، داشتن اشیایی با مسئولیت‌های متعدد است (که اغلب \"اشیاء خدا\" نامیده می‌شوند، زیرا بیش از حد دانا و توانا هستند). این اشیاء رفتارهای مختلف (عمدتاً نامرتبط) را در خود جمع می‌کنند و نگهداری آن‌ها دشوار می‌شود.</div>"
   ]
  },
  {
   "cell_type": "markdown",
   "metadata": {},
   "source": [
    "<h5 dir='rtl'>کوچک‌تر بودن کلاس‌ها بهتر است</h5>"
   ]
  },
  {
   "cell_type": "markdown",
   "metadata": {},
   "source": [
    "<div dir='rtl'>اصل مسئولیت‌پذیری واحد به ایده انسجام (Cohesion) در طراحی نرم‌افزار مرتبط است. انسجام یعنی بخش‌های مختلف یک کلاس باید به شدت مرتبط باشند. ما به دنبال طراحی کلاس‌هایی هستیم که بیشتر خصوصیات و متدهای آن‌ها با هم در ارتباط باشند و اغلب استفاده شوند. وقتی این اتفاق می‌افتد، می‌دانیم که این مفاهیم مرتبط هستند و بنابراین منطقی است که آنها را در یک انتزاع گروه‌بندی کنیم.</div>\n",
    "<br>\n",
    "<div dir='rtl'>این ایده تا حدودی شبیه مفهوم نرمال‌سازی در طراحی پایگاه داده‌های رابطه‌ای است. اگر متوجه شویم که صفات یا متدهای یک کلاس به صورت جداگانه عمل می‌کنند، احتمالاً باید آنها را به جای دیگری منتقل کنیم، زیرا نشانه‌ای است که چند انتزاع مختلف در یک جا ترکیب شده‌اند.</div>"
   ]
  },
  {
   "cell_type": "markdown",
   "metadata": {},
   "source": [
    "### <h3 dir='rtl'>شناسایی کلاس‌های با مسئولیت‌های متعدد</h3> ###"
   ]
  },
  {
   "cell_type": "markdown",
   "metadata": {},
   "source": [
    "<img src='./src/img/Figure 4.1.png' width='30%'>"
   ]
  },
  {
   "cell_type": "markdown",
   "metadata": {},
   "source": [
    "<div dir='rtl'>در مثال زیر، یک برنامه‌ای داریم که وظیفه خواندن اطلاعات مربوط به رویدادها از یک منبع (مانند فایل‌های لاگ، پایگاه داده و غیره) و شناسایی اقدامات مربوط به هر رویداد خاص را بر عهده دارد.</div>\n",
    "<br>\n",
    "<div dir='rtl'>یک طراحی که اصول مسئولیت‌پذیری واحد را نقض می‌کند، به شکل زیر است:</div>"
   ]
  },
  {
   "cell_type": "code",
   "execution_count": 1,
   "metadata": {},
   "outputs": [],
   "source": [
    "class SystemMonitor:\n",
    "    def load_activity(self):\n",
    "        \"\"\"گرفتن رویدادها از یک منبع برای پردازش.\"\"\"\n",
    "\n",
    "    def identify_events(self):\n",
    "        \"\"\"تجزیه داده‌های خام و تبدیل به رویدادهای دامنه.\"\"\"\n",
    "\n",
    "    def stream_events(self):\n",
    "        \"\"\"ارسال رویدادهای تجزیه‌شده به یک عامل خارجی.\"\"\""
   ]
  },
  {
   "cell_type": "markdown",
   "metadata": {},
   "source": [
    "\n",
    "<div dir='rtl'>مشکل این طراحی این است که این کلاس شامل مجموعه‌ای از متدهاست که مستقل از یکدیگر هستند: هر کدام می‌توانند به طور جداگانه انجام شوند.</div>\n",
    "<br>\n",
    "<div dir='rtl'>این طراحی، کلاس را به یک ساختار سخت و غیرمنعطف تبدیل می‌کند که نگهداری آن دشوار است، زیرا تغییرات زیادی ممکن است لازم باشد. برای مثال، تغییر نحوه بازیابی اطلاعات از منبع، مستلزم تغییر در کلاس SystemMonitor خواهد بود.</div>"
   ]
  },
  {
   "cell_type": "markdown",
   "metadata": {},
   "source": [
    "### <h3 dir='rtl'>راه حل: توزیع مسئولیت‌ها</h3> ###"
   ]
  },
  {
   "cell_type": "markdown",
   "metadata": {},
   "source": [
    "<img src='./src/img/Figure 4.2.png'>"
   ]
  },
  {
   "cell_type": "markdown",
   "metadata": {},
   "source": [
    "<div dir='rtl'>برای حل این مشکل، باید هر متد را به یک کلاس جداگانه منتقل کنیم. با این کار، هر کلاس فقط یک مسئولیت دارد. به این صورت:</div>"
   ]
  },
  {
   "cell_type": "code",
   "execution_count": 2,
   "metadata": {},
   "outputs": [],
   "source": [
    "class EventLoader:\n",
    "    def load_activity(self):\n",
    "        \"\"\"مسئول بارگذاری فعالیت‌ها.\"\"\"\n",
    "        \n",
    "class EventIdentifier:\n",
    "    def identify_events(self):\n",
    "        \"\"\"مسئول شناسایی رویدادها.\"\"\"\n",
    "        \n",
    "class EventStreamer:\n",
    "    def stream_events(self):\n",
    "        \"\"\"مسئول ارسال رویدادها.\"\"\""
   ]
  },
  {
   "cell_type": "markdown",
   "metadata": {},
   "source": [
    "<div dir='rtl'>با این طراحی، تغییر در هر یک از این کلاس‌ها، بر دیگر کلاس‌ها تأثیری نخواهد داشت. این تقسیم‌بندی باعث می‌شود تغییرات محلی‌تر، اثرات حداقلی و نگهداری آسان‌تر شوند.</div>"
   ]
  },
  {
   "cell_type": "markdown",
   "metadata": {},
   "source": [
    "### <h3 dir='rtl'>جمع‌بندی این بخش</h3> ###"
   ]
  },
  {
   "cell_type": "markdown",
   "metadata": {},
   "source": [
    "<div dir='rtl'>اصل مسئولیت‌پذیری واحد به ما کمک می‌کند طراحی‌هایی ایجاد کنیم که هر کلاس فقط یک دلیل برای تغییر داشته باشد. این اصل باعث انسجام بیشتر و ساده‌تر شدن نگهداری می‌شود.</div>"
   ]
  },
  {
   "cell_type": "markdown",
   "metadata": {},
   "source": [
    "### <h2 dir='rtl'>اصل باز/بسته بودن (Open/Closed Principle - OCP)</h2> ###"
   ]
  },
  {
   "cell_type": "markdown",
   "metadata": {},
   "source": [
    "<div dir='rtl'>اصل باز/بسته بودن بیان می‌کند که یک ماژول باید هم باز باشد و هم بسته (اما با توجه به جنبه‌های مختلف).</div>\n",
    "<br>\n",
    "<div dir='rtl'><strong>تعریف:</strong></div>\n",
    "\n",
    "<ul dir='rtl'>\n",
    "  <li dir='rtl'><strong>باز بودن:</strong><br> ماژول باید برای گسترش قابلیت‌ها باز باشد.</li>\n",
    "  <li dir='rtl'><strong>بسته بودن:</strong><br> ماژول نباید برای تغییرات باز باشد.</li>\n",
    "</ul>\n",
    "<br>\n",
    "<div dir='rtl'>این اصل به زبان ساده به این معنی است که هنگام طراحی یک کلاس، باید جزئیات پیاده‌سازی را به‌طور دقیق کپسوله کنیم، به طوری که نگهداری آسان باشد. ما می‌خواهیم این کلاس برای گسترش باز باشد، اما برای تغییر بسته باشد.</div>\n",
    "<br>\n",
    "<div dir='rtl'>چرا مهم است؟ وقتی چیزی جدید به دامنه مسأله اضافه می‌شود، تنها باید چیز جدیدی به مدل خود اضافه کنیم، نه اینکه بخش‌های موجود را تغییر دهیم. اگر مجبور به تغییر کد موجود باشیم، به این معنی است که طراحی ما ضعیف است.</div>"
   ]
  },
  {
   "cell_type": "markdown",
   "metadata": {},
   "source": [
    "### <h3 dir='rtl'>مثالی از مشکلاتی که در صورت عدم رعایت OCP رخ می‌دهند:</h3> ###"
   ]
  },
  {
   "cell_type": "markdown",
   "metadata": {},
   "source": [
    "<img src='./src/img/Figure 4.3.png' width='100%'>"
   ]
  },
  {
   "cell_type": "markdown",
   "metadata": {},
   "source": [
    "<div dir='rtl'>فرض کنید بخشی از سیستم طراحی شده است که وظیفه شناسایی رویدادها را بر عهده دارد. این رویدادها بر اساس داده‌های جمع‌آوری‌شده طبقه‌بندی می‌شوند (برای سادگی فرض می‌کنیم داده‌ها به صورت دیکشنری بسته‌بندی شده‌اند).</div>\n",
    "<br>\n",
    "<div dir='rtl'>یک طراحی اولیه که اصول OCP را رعایت نمی‌کند به شکل زیر است:</div>"
   ]
  },
  {
   "cell_type": "code",
   "execution_count": 3,
   "metadata": {},
   "outputs": [],
   "source": [
    "from dataclasses import dataclass\n",
    "\n",
    "\n",
    "@dataclass\n",
    "class Event:\n",
    "    raw_data: dict \n",
    "\n",
    "class UnknownEvent(Event):\n",
    "    \"\"\"رویدادی که از داده‌ها قابل شناسایی نیست.\"\"\"\n",
    "\n",
    "class LoginEvent(Event):\n",
    "    \"\"\"رویدادی که نشان‌دهنده ورود کاربر به سیستم است.\"\"\"\n",
    "\n",
    "class LogoutEvent(Event):\n",
    "    \"\"\"رویدادی که نشان‌دهنده خروج کاربر از سیستم است.\"\"\"\n",
    "\n",
    "class SystemMonitor:\n",
    "    \"\"\"شناسایی رویدادهای سیستم.\"\"\"\n",
    "\n",
    "    def __init__(self, event_data):\n",
    "        self.event_data = event_data\n",
    "\n",
    "    def identify_event(self):\n",
    "        if (\n",
    "            self.event_data[\"before\"][\"session\"] == 0\n",
    "            and self.event_data[\"after\"][\"session\"] == 1\n",
    "        ):\n",
    "            return LoginEvent(self.event_data)\n",
    "        elif (\n",
    "            self.event_data[\"before\"][\"session\"] == 1\n",
    "            and self.event_data[\"after\"][\"session\"] == 0\n",
    "        ):\n",
    "            return LogoutEvent(self.event_data)\n",
    "\n",
    "        return UnknownEvent(self.event_data)\n"
   ]
  },
  {
   "cell_type": "code",
   "execution_count": 4,
   "metadata": {},
   "outputs": [
    {
     "data": {
      "text/plain": [
       "'LoginEvent'"
      ]
     },
     "execution_count": 4,
     "metadata": {},
     "output_type": "execute_result"
    }
   ],
   "source": [
    "l1 = SystemMonitor({\"before\": {\"session\": 0}, \"after\": {\"session\":1}})\n",
    "l1.identify_event().__class__.__name__"
   ]
  },
  {
   "cell_type": "code",
   "execution_count": 5,
   "metadata": {},
   "outputs": [
    {
     "data": {
      "text/plain": [
       "'LogoutEvent'"
      ]
     },
     "execution_count": 5,
     "metadata": {},
     "output_type": "execute_result"
    }
   ],
   "source": [
    "l2 = SystemMonitor({\"before\": {\"session\": 1}, \"after\": {\"session\":0}})\n",
    "l2.identify_event().__class__.__name__"
   ]
  },
  {
   "cell_type": "code",
   "execution_count": 6,
   "metadata": {},
   "outputs": [
    {
     "data": {
      "text/plain": [
       "'UnknownEvent'"
      ]
     },
     "execution_count": 6,
     "metadata": {},
     "output_type": "execute_result"
    }
   ],
   "source": [
    "l3 = SystemMonitor({\"before\": {\"session\": 1}, \"after\": {\"session\":1}})\n",
    "l3.identify_event().__class__.__name__"
   ]
  },
  {
   "cell_type": "markdown",
   "metadata": {},
   "source": [
    "<div dir='rtl'>مشکلات این طراحی:</div>\n",
    "\n",
    "<ol dir='rtl'>\n",
    "  <li dir='rtl'>منطق برای تعیین انواع رویدادها به یک متد واحد متمرکز شده است.</li>\n",
    "  <li dir='rtl'>اگر بخواهیم یک نوع جدید رویداد اضافه کنیم، باید این متد را تغییر دهیم.</li>\n",
    "  <li dir='rtl'>خواندن این متد (که شامل چندین عبارت elif است) به‌مرور دشوار خواهد شد.</li>\n",
    "</ol>"
   ]
  },
  {
   "cell_type": "markdown",
   "metadata": {},
   "source": [
    "### <h3 dir='rtl'>راه‌حل برای رعایت OCP:</h3> ###"
   ]
  },
  {
   "cell_type": "markdown",
   "metadata": {},
   "source": [
    "<img src='./src/img/Figure 4.4.png' width='100%'>"
   ]
  },
  {
   "cell_type": "markdown",
   "metadata": {},
   "source": [
    "<div dir='rtl'>برای رفع این مشکل، باید طراحی را به‌گونه‌ای انجام دهیم که به جای وابستگی به پیاده‌سازی‌های خاص، به انتزاعات وابسته باشد. در اینجا هر کلاس رویداد مسئول تعیین شرایط خود خواهد بود:</div>\n"
   ]
  },
  {
   "cell_type": "code",
   "execution_count": 7,
   "metadata": {},
   "outputs": [],
   "source": [
    "class Event:\n",
    "    def __init__(self, raw_data):\n",
    "        self.raw_data = raw_data\n",
    "\n",
    "    @staticmethod\n",
    "    def meets_condition(event_data: dict) -> bool:\n",
    "        return False\n",
    "\n",
    "class UnknownEvent(Event):\n",
    "    \"\"\"رویدادی که قابل شناسایی نیست.\"\"\"\n",
    "\n",
    "class LoginEvent(Event):\n",
    "    @staticmethod\n",
    "    def meets_condition(event_data: dict):\n",
    "        return (\n",
    "            event_data[\"before\"][\"session\"] == 0\n",
    "            and event_data[\"after\"][\"session\"] == 1\n",
    "        )\n",
    "\n",
    "class LogoutEvent(Event):\n",
    "    @staticmethod\n",
    "    def meets_condition(event_data: dict):\n",
    "        return (\n",
    "            event_data[\"before\"][\"session\"] == 1\n",
    "            and event_data[\"after\"][\"session\"] == 0\n",
    "        )\n",
    "\n",
    "class SystemMonitor:\n",
    "    \"\"\"شناسایی رویدادهای سیستم.\"\"\"\n",
    "\n",
    "    def __init__(self, event_data):\n",
    "        self.event_data = event_data\n",
    "\n",
    "    def identify_event(self):\n",
    "        for event_cls in Event.__subclasses__():\n",
    "            try:\n",
    "                if event_cls.meets_condition(self.event_data):\n",
    "                    return event_cls(self.event_data)\n",
    "            except KeyError:\n",
    "                continue\n",
    "        return UnknownEvent(self.event_data)\n"
   ]
  },
  {
   "cell_type": "markdown",
   "metadata": {},
   "source": [
    "<div dir='rtl'>مزایای طراحی جدید:</div>\n",
    "\n",
    "<ol dir='rtl'>\n",
    "  <li dir='rtl'>متد <code>identify_event</code> اکنون به‌گونه‌ای طراحی شده که نیازی به تغییر آن هنگام افزودن رویدادهای جدید نیست.</li>\n",
    "  <li dir='rtl'>هر نوع رویداد تنها باید منطق شناسایی خود را در متد <code>meets_condition</code> پیاده‌سازی کند.</li>\n",
    "  <li dir='rtl'>با اضافه کردن یک کلاس جدید (برای مثال <code>TransactionEvent</code>) به سادگی می‌توان سیستم را گسترش داد، بدون آنکه کدهای موجود را تغییر داد.</li>\n",
    "</ol>"
   ]
  },
  {
   "cell_type": "markdown",
   "metadata": {},
   "source": [
    "<img src='./src/img/Figure 4.5.png' width='100%'>"
   ]
  },
  {
   "cell_type": "code",
   "execution_count": 8,
   "metadata": {},
   "outputs": [],
   "source": [
    "class TransactionEvent(Event):\n",
    "    \"\"\"Represents a transaction that has just occurred on the\n",
    "    system.\"\"\"\n",
    "    @staticmethod\n",
    "    def meets_condition(event_data: dict):\n",
    "        return event_data[\"after\"].get(\"transaction\") is not None"
   ]
  },
  {
   "cell_type": "code",
   "execution_count": 9,
   "metadata": {},
   "outputs": [
    {
     "data": {
      "text/plain": [
       "'LoginEvent'"
      ]
     },
     "execution_count": 9,
     "metadata": {},
     "output_type": "execute_result"
    }
   ],
   "source": [
    "l1 = SystemMonitor({\"before\": {\"session\": 0}, \"after\": {\"session\":1}})\n",
    "l1.identify_event().__class__.__name__"
   ]
  },
  {
   "cell_type": "code",
   "execution_count": 10,
   "metadata": {},
   "outputs": [
    {
     "data": {
      "text/plain": [
       "'LogoutEvent'"
      ]
     },
     "execution_count": 10,
     "metadata": {},
     "output_type": "execute_result"
    }
   ],
   "source": [
    "l2 = SystemMonitor({\"before\": {\"session\": 1}, \"after\": {\"session\":0}})\n",
    "l2.identify_event().__class__.__name__"
   ]
  },
  {
   "cell_type": "code",
   "execution_count": 11,
   "metadata": {},
   "outputs": [
    {
     "data": {
      "text/plain": [
       "'UnknownEvent'"
      ]
     },
     "execution_count": 11,
     "metadata": {},
     "output_type": "execute_result"
    }
   ],
   "source": [
    "l3 = SystemMonitor({\"before\": {\"session\": 1}, \"after\": {\"session\":1}})\n",
    "l3.identify_event().__class__.__name__"
   ]
  },
  {
   "cell_type": "code",
   "execution_count": 12,
   "metadata": {},
   "outputs": [
    {
     "data": {
      "text/plain": [
       "'TransactionEvent'"
      ]
     },
     "execution_count": 12,
     "metadata": {},
     "output_type": "execute_result"
    }
   ],
   "source": [
    "l4 = SystemMonitor({\"after\": {\"transaction\": \"Tx001\"}})\n",
    "l4.identify_event().__class__.__name__"
   ]
  },
  {
   "cell_type": "markdown",
   "metadata": {},
   "source": [
    "### <h3 dir='rtl'>جمع‌بندی این بخش</h3> ###"
   ]
  },
  {
   "cell_type": "markdown",
   "metadata": {},
   "source": [
    "<div dir='rtl'>اصل باز/بسته بودن به ما کمک می‌کند تا نرم‌افزاری منعطف و قابل گسترش طراحی کنیم. با استفاده از این اصل، هنگام تغییر نیازمندی‌ها، فقط کد جدید اضافه می‌شود و نیازی به دست زدن به کد موجود نیست.</div>"
   ]
  },
  {
   "cell_type": "markdown",
   "metadata": {},
   "source": [
    "### <h2 dir='rtl'>اصل جایگزینی لیسکوف (Liskov Substitution Principle - LSP)</h2> ###"
   ]
  },
  {
   "cell_type": "markdown",
   "metadata": {},
   "source": [
    "<div dir='rtl'><strong>تعریف رسمی:</strong></div>\n",
    "<br>\n",
    "<div dir='rtl'>اصل جایگزینی لیسکوف (LSP) بیان می‌کند که \"اگر S یک زیرکلاس از T باشد، آنگاه اشیاء نوع T باید بتوانند با اشیاء نوع S جایگزین شوند، بدون اینکه رفتار برنامه تغییر کند.\" این اصل تضمین می‌کند که استفاده از زیرکلاس‌ها به جای کلاس پایه کاملاً شفاف باشد و عملکرد کلی برنامه دچار مشکل نشود.</div>"
   ]
  },
  {
   "cell_type": "markdown",
   "metadata": {},
   "source": [
    "<div dir='rtl'>مثال عمومی از سلسله‌مراتب کلاس‌ها</div>\n",
    "<br>\n",
    "<div dir='rtl'>فرض کنید کلاسی داریم که یک نوع کلی از رویداد را تعریف می‌کند و تعدادی زیرکلاس از آن وجود دارد که انواع خاصی از رویدادها را مشخص می‌کنند:</div>\n",
    "\n",
    "<ol dir='rtl'>\n",
    "  <li dir='rtl'><code>Event</code>: کلاس پایه که یک قرارداد عمومی را تعریف می‌کند.</li>\n",
    "  <li dir='rtl'><code>LoginEvent</code>: یک زیرکلاس که نشان‌دهنده ورود کاربران است.</li>\n",
    "  <li dir='rtl'><code>LogoutEvent</code>: یک زیرکلاس که نشان‌دهنده خروج کاربران است.</li>\n",
    "</ol>"
   ]
  },
  {
   "cell_type": "markdown",
   "metadata": {},
   "source": [
    "<div dir='rtl'>برای رعایت اصل LSP، هر جا که از <code>Event</code> استفاده می‌شود، باید بتوان از <code>LoginEvent</code> یا <code>LogoutEvent</code> نیز بدون تغییر در عملکرد برنامه استفاده کرد.</div>"
   ]
  },
  {
   "cell_type": "markdown",
   "metadata": {},
   "source": [
    "### <h3 dir='rtl'>طراحی مشکل‌ساز: نقض اصل LSP OCP:</h3> ###"
   ]
  },
  {
   "cell_type": "markdown",
   "metadata": {},
   "source": [
    "<ol dir='rtl'>\n",
    "  <li dir='rtl'><strong>امضای ناهماهنگ متدها:</strong> اگر یک کلاس مشتق شده امضای متدی از کلاس پایه را تغییر دهد، این اصل نقض می‌شود.</li>\n",
    "  <li dir='rtl'><strong>تغییر رفتار:</strong> اگر کلاس مشتق شده رفتار متدی را به گونه‌ای تغییر دهد که با انتظار کلاس پایه سازگار نباشد، اصل جایگزینی لیسکوف نقض می‌شود.</li>\n",
    "</ol>"
   ]
  },
  {
   "cell_type": "markdown",
   "metadata": {},
   "source": [
    "### <h5 dir='rtl'>مشکل 1: ناسازگاری در امضای متدها</h5> ###"
   ]
  },
  {
   "cell_type": "markdown",
   "metadata": {},
   "source": [
    "<div dir='rtl'>اگر زیرکلاسی امضای متدی را که در کلاس پایه تعریف شده تغییر دهد، اصل LSP نقض می‌شود. به مثال زیر توجه کنید:</div>"
   ]
  },
  {
   "cell_type": "code",
   "execution_count": 13,
   "metadata": {},
   "outputs": [],
   "source": [
    "class Event:\n",
    "    def meets_condition(self, event_data: dict) -> bool:\n",
    "        return False\n",
    "\n",
    "class LoginEvent(Event):\n",
    "    def meets_condition(self, event_data: list) -> bool:\n",
    "        return bool(event_data)"
   ]
  },
  {
   "cell_type": "markdown",
   "metadata": {},
   "source": [
    "<div dir='rtl'>در اینجا، زیرکلاس <code>LoginEvent</code> نوع پارامتر <code>event_data</code> را از <code>dict</code> به list تغییر داده است. این تغییر باعث می‌شود دیگر نتوان <code>LoginEvent</code> را به جای <code>Event</code> استفاده کرد.</div>\n",
    "<br>\n",
    "<div dir='rtl'>ابزار شناسایی مشکل: اگر از ابزار <code>mypy</code> استفاده کنیم، خطای زیر نمایش داده می‌شود:</div>"
   ]
  },
  {
   "cell_type": "code",
   "execution_count": 14,
   "metadata": {},
   "outputs": [],
   "source": [
    "#error: Argument 1 of \"meets_condition\" incompatible with supertype \"Event\""
   ]
  },
  {
   "cell_type": "code",
   "execution_count": 15,
   "metadata": {},
   "outputs": [
    {
     "name": "stdout",
     "output_type": "stream",
     "text": [
      "Defaulting to user installation because normal site-packages is not writeable\n",
      "Requirement already satisfied: mypy in /home/ar4sh0/.local/lib/python3.12/site-packages (1.13.0)\n",
      "Requirement already satisfied: typing-extensions>=4.6.0 in /home/ar4sh0/.local/lib/python3.12/site-packages (from mypy) (4.12.2)\n",
      "Requirement already satisfied: mypy-extensions>=1.0.0 in /home/ar4sh0/.local/lib/python3.12/site-packages (from mypy) (1.0.0)\n"
     ]
    }
   ],
   "source": [
    "!python3 -m pip install mypy --break-system-packages"
   ]
  },
  {
   "cell_type": "code",
   "execution_count": 16,
   "metadata": {},
   "outputs": [
    {
     "name": "stdout",
     "output_type": "stream",
     "text": [
      "src/mypy.py:6: \u001b[1m\u001b[31merror:\u001b[m Argument 1 of \u001b[m\u001b[1m\"meets_condition\"\u001b[m is incompatible with supertype \u001b[m\u001b[1m\"Event\"\u001b[m; supertype defines the argument type as \u001b[m\u001b[1m\"dict[Any, Any]\"\u001b[m  \u001b[m\u001b[33m[override]\u001b[m\n",
      "src/mypy.py:6: \u001b[34mnote:\u001b[m This violates the Liskov substitution principle\u001b[m\n",
      "src/mypy.py:6: \u001b[34mnote:\u001b[m See \u001b[4mhttps://mypy.readthedocs.io/en/stable/common_issues.html#incompatible-overrides\u001b[m\u001b[m\n",
      "\u001b[1m\u001b[31mFound 1 error in 1 file (checked 1 source file)\u001b[m\n"
     ]
    }
   ],
   "source": [
    "!mypy ./src/mypy.py"
   ]
  },
  {
   "cell_type": "markdown",
   "metadata": {},
   "source": [
    "### <h5 dir='rtl'>مشکل 2: تغییر رفتار متدها</h5> ###"
   ]
  },
  {
   "cell_type": "markdown",
   "metadata": {},
   "source": [
    "<div dir='rtl'>فرض کنید کلاس پایه شرط خاصی را برای ورودی داده‌ها تعریف کرده است. اگر یک زیرکلاس این شرط را تغییر دهد یا محدودیت‌های بیشتری اعمال کند، اصل LSP نقض می‌شود. به مثال زیر توجه کنید:</div>"
   ]
  },
  {
   "cell_type": "code",
   "execution_count": 47,
   "metadata": {},
   "outputs": [],
   "source": [
    "class Event:\n",
    "    @staticmethod\n",
    "    def validate_precondition(event_data: dict):\n",
    "        if not isinstance(event_data, dict):\n",
    "            raise ValueError(\"Invalid data type.\")\n",
    "        if \"before\" not in event_data or \"after\" not in event_data:\n",
    "            raise ValueError(\"Missing keys.\")\n"
   ]
  },
  {
   "cell_type": "markdown",
   "metadata": {},
   "source": [
    "<div dir='rtl'>حالا تصور کنید که زیرکلاسی شرط‌های اضافی را اعمال کند، مانند الزام به وجود کلیدهای بیشتری در داده:</div>"
   ]
  },
  {
   "cell_type": "code",
   "execution_count": 18,
   "metadata": {},
   "outputs": [],
   "source": [
    "class LoginEvent(Event):\n",
    "    @staticmethod\n",
    "    def validate_precondition(event_data: dict):\n",
    "        super().validate_precondition(event_data)\n",
    "        if \"session\" not in event_data[\"after\"]:\n",
    "            raise ValueError(\"Session key is missing.\")\n"
   ]
  },
  {
   "cell_type": "markdown",
   "metadata": {},
   "source": [
    "<div dir='rtl'>این محدودیت اضافی باعث می‌شود که <code>LoginEvent</code> دیگر به عنوان جایگزینی برای <code>Event</code> قابل استفاده نباشد.</div>"
   ]
  },
  {
   "cell_type": "markdown",
   "metadata": {},
   "source": [
    "### <h3 dir='rtl'>اصلاح طراحی برای رعایت LSP</h3> ###"
   ]
  },
  {
   "cell_type": "markdown",
   "metadata": {},
   "source": [
    "<div dir='rtl'>برای اطمینان از رعایت اصل جایگزینی لیسکوف:</div>\n",
    "<br>\n",
    "<ol dir='rtl'>\n",
    "  <li dir='rtl'>امضای متدهای زیرکلاس‌ها باید با کلاس پایه مطابقت داشته باشد.</li>\n",
    "  <li dir='rtl'>زیرکلاس‌ها نباید پیش‌شرط‌های سخت‌گیرانه‌تری نسبت به کلاس پایه تعریف کنند.</li>\n",
    "  <li dir='rtl'>رفتار متدها نباید به گونه‌ای تغییر کند که با انتظارات کلاس پایه ناسازگار باشد.</li>\n",
    "</ol>"
   ]
  },
  {
   "cell_type": "markdown",
   "metadata": {},
   "source": [
    "<div dir='rtl'>طراحی اصلاح‌شده:</div>"
   ]
  },
  {
   "cell_type": "code",
   "execution_count": 19,
   "metadata": {},
   "outputs": [],
   "source": [
    "class Event:\n",
    "    def meets_condition(self, event_data: dict) -> bool:\n",
    "        return False\n",
    "\n",
    "class LoginEvent(Event):\n",
    "    def meets_condition(self, event_data: dict) -> bool:\n",
    "        return (\n",
    "            event_data[\"before\"][\"session\"] == 0\n",
    "            and event_data[\"after\"][\"session\"] == 1\n",
    "        )\n",
    "\n",
    "class LogoutEvent(Event):\n",
    "    def meets_condition(self, event_data: dict) -> bool:\n",
    "        return (\n",
    "            event_data[\"before\"][\"session\"] == 1\n",
    "            and event_data[\"after\"][\"session\"] == 0\n",
    "        )\n"
   ]
  },
  {
   "cell_type": "code",
   "execution_count": 20,
   "metadata": {},
   "outputs": [
    {
     "name": "stdout",
     "output_type": "stream",
     "text": [
      "\u001b[1m\u001b[32mSuccess: no issues found in 1 source file\u001b[m\n"
     ]
    }
   ],
   "source": [
    "!mypy ./src/mypy_fixed.py"
   ]
  },
  {
   "cell_type": "markdown",
   "metadata": {},
   "source": [
    "### <h3 dir='rtl'>رابطه بین LSP و طراحی با قرارداد (Design by Contract)</h3> ###"
   ]
  },
  {
   "cell_type": "markdown",
   "metadata": {},
   "source": [
    "<div dir='rtl'>طراحی با قرارداد به این معناست که:</div>\n",
    "<ol dir='rtl'>\n",
    "  <li dir='rtl'><strong>پیش‌شرط‌ها</strong>: شرایطی که باید قبل از اجرای متد برقرار باشند.</li>\n",
    "  <li dir='rtl'><strong>پس‌شرط‌ها</strong>: شرایطی که بعد از اجرای متد باید برقرار باشند.</li>\n",
    "</ol>\n",
    "<div dir='rtl'>برای رعایت اصل LSP، زیرکلاس‌ها:</div>\n",
    "<ol dir='rtl'>\n",
    "  <li dir='rtl'>نباید پیش‌شرط‌های سخت‌گیرانه‌تری نسبت به کلاس پایه اعمال کنند.</li>\n",
    "  <li dir='rtl'>نباید پس‌شرط‌های ضعیف‌تری نسبت به کلاس پایه تعریف کنند.</li>\n",
    "</ol>"
   ]
  },
  {
   "cell_type": "markdown",
   "metadata": {},
   "source": [
    "### <h3 dir='rtl'>ابزارهای تشخیص مشکلات LSP</h3> ###"
   ]
  },
  {
   "cell_type": "markdown",
   "metadata": {},
   "source": [
    "<ol dir='rtl'>\n",
    "  <li dir='rtl'><code>mypy</code>:<br>ناسازگاری در نوع یا امضای متدها را شناسایی می‌کند.</li>\n",
    "  <li dir='rtl'><code>pylint</code>:<br>تغییر پارامترهای متدها یا امضاهای ناسازگار را شناسایی می‌کند و پیام‌هایی مانند زیر را نمایش می‌دهد:</li>\n",
    "  <li dir='rtl'>بررسی دستی:<br> برخی موارد نقض LSP، مانند تغییر رفتار متدها، ممکن است به ابزارهای خودکار قابل تشخیص نباشند و نیاز به بررسی دستی در طول بازبینی کد (Code Review) داشته باشند</li>\n",
    "</ol>"
   ]
  },
  {
   "cell_type": "code",
   "execution_count": 21,
   "metadata": {},
   "outputs": [],
   "source": [
    "#Parameters differ from overridden 'meets_condition' method (arguments-differ)"
   ]
  },
  {
   "cell_type": "code",
   "execution_count": 22,
   "metadata": {},
   "outputs": [
    {
     "name": "stdout",
     "output_type": "stream",
     "text": [
      "Defaulting to user installation because normal site-packages is not writeable\n",
      "Requirement already satisfied: pylint in /home/ar4sh0/.local/lib/python3.12/site-packages (3.3.2)\n",
      "Requirement already satisfied: dill>=0.3.6 in /home/ar4sh0/.local/lib/python3.12/site-packages (from pylint) (0.3.9)\n",
      "Requirement already satisfied: platformdirs>=2.2.0 in /home/ar4sh0/.local/lib/python3.12/site-packages (from pylint) (4.3.6)\n",
      "Requirement already satisfied: astroid<=3.4.0-dev0,>=3.3.5 in /home/ar4sh0/.local/lib/python3.12/site-packages (from pylint) (3.3.5)\n",
      "Requirement already satisfied: isort!=5.13.0,<6,>=4.2.5 in /home/ar4sh0/.local/lib/python3.12/site-packages (from pylint) (5.13.2)\n",
      "Requirement already satisfied: mccabe<0.8,>=0.6 in /home/ar4sh0/.local/lib/python3.12/site-packages (from pylint) (0.7.0)\n",
      "Requirement already satisfied: tomlkit>=0.10.1 in /home/ar4sh0/.local/lib/python3.12/site-packages (from pylint) (0.13.2)\n"
     ]
    }
   ],
   "source": [
    "!pip install pylint --break-system-packages"
   ]
  },
  {
   "cell_type": "code",
   "execution_count": 23,
   "metadata": {},
   "outputs": [
    {
     "name": "stdout",
     "output_type": "stream",
     "text": [
      "************* Module pylint\n",
      "src/pylint.py:8:0: C0303: Trailing whitespace (trailing-whitespace)\n",
      "src/pylint.py:1:0: C0114: Missing module docstring (missing-module-docstring)\n",
      "src/pylint.py:1:0: C0115: Missing class docstring (missing-class-docstring)\n",
      "src/pylint.py:3:4: C0116: Missing function or method docstring (missing-function-docstring)\n",
      "src/pylint.py:1:0: R0903: Too few public methods (1/2) (too-few-public-methods)\n",
      "src/pylint.py:9:0: C0115: Missing class docstring (missing-class-docstring)\n",
      "src/pylint.py:11:4: W0221: Number of parameters was 1 in 'Event.validate_precondition' and is now 2 in overriding 'LoginEvent.validate_precondition' method (arguments-differ)\n",
      "src/pylint.py:11:48: W0613: Unused argument 'a' (unused-argument)\n",
      "src/pylint.py:9:0: R0903: Too few public methods (1/2) (too-few-public-methods)\n",
      "\n",
      "------------------------------------------------------------------\n",
      "Your code has been rated at 1.82/10 (previous run: 1.82/10, +0.00)\n",
      "\n"
     ]
    }
   ],
   "source": [
    "!pylint ./src/pylint.py"
   ]
  },
  {
   "cell_type": "markdown",
   "metadata": {},
   "source": [
    "<div dir='rtl'>به خطای زیر که در خروجی بالا قابل نمایش است دقت کنید:</div>\n",
    "\n",
    "<span style='color:red'>Number of parameters was 1 in 'Event.validate_precondition' and is now 2 in overriding 'LoginEvent.validate_precondition' method (arguments-differ)</span>"
   ]
  },
  {
   "cell_type": "markdown",
   "metadata": {},
   "source": [
    "### <h3 dir='rtl'>جمع‌بندی اصل جایگزینی لیسکوف</h3> ###"
   ]
  },
  {
   "cell_type": "markdown",
   "metadata": {},
   "source": [
    "<ol dir='rtl'>\n",
    "  <li dir='rtl'><strong>تعهد به پلی‌مورفیسم:</strong><br>زیرکلاس‌ها باید بدون ایجاد مشکل جایگزین کلاس پایه شوند.</li>\n",
    "  <li dir='rtl'><strong>رعایت قراردادها:</strong><br>زیرکلاس‌ها باید قراردادهای کلاس پایه را حفظ کنند.</li>\n",
    "  <li dir='rtl'><strong>ابزارهای کمک‌کننده:</strong><br>از ابزارهایی مانند <code>mypy</code> و <code>pylint</code> برای شناسایی نقض LSP استفاده کنید.</li>\n",
    "</ol>\n",
    "<div dir='rtl'>رعایت LSP تضمین می‌کند که سلسله‌مراتب کلاس‌ها منعطف و قابل اطمینان باقی بماند و از بروز مشکلات ناشی از ناسازگاری جلوگیری شود.</div>"
   ]
  },
  {
   "cell_type": "markdown",
   "metadata": {},
   "source": [
    "### <h2 dir='rtl'>اصل تفکیک رابط (Interface Segregation Principle - ISP)</h2> ###"
   ]
  },
  {
   "cell_type": "markdown",
   "metadata": {},
   "source": [
    "<div dir='rtl'><strong>تعریف اصل تفکیک رابط</strong></div>\n",
    "<br>\n",
    "<div dir='rtl'>اصل تفکیک رابط (ISP) بیان می‌کند که رابط‌ها باید به بخش‌های کوچک و هدفمند تقسیم شوند. کلاس‌هایی که یک رابط را پیاده‌سازی می‌کنند، نباید مجبور به پیاده‌سازی متدهایی باشند که به آن‌ها نیاز ندارند.</div>"
   ]
  },
  {
   "cell_type": "markdown",
   "metadata": {},
   "source": [
    "### <h3 dir='rtl'>اهمیت اصل تفکیک رابط</h3> ###"
   ]
  },
  {
   "cell_type": "markdown",
   "metadata": {},
   "source": [
    "<ol dir='rtl'>\n",
    "  <li dir='rtl'><strong>کاهش پیچیدگی:</strong> با کوچک‌تر کردن رابط‌ها، کلاس‌ها تنها متدهایی را پیاده‌سازی می‌کنند که به آن‌ها نیاز دارند.</li>\n",
    "  <li dir='rtl'><strong>افزایش انعطاف‌پذیری:</strong> رابط‌های کوچک‌تر به راحتی در بخش‌های مختلف سیستم قابل استفاده مجدد هستند</li>\n",
    "  <li dir='rtl'><strong>کاهش وابستگی:</strong> تغییرات در یک رابط کوچک تأثیر کمتری روی سیستم خواهد داشت.\n",
    "</li>\n",
    "</ol>"
   ]
  },
  {
   "cell_type": "markdown",
   "metadata": {},
   "source": [
    "### <h3 dir='rtl'>مشکل رابط‌های بزرگ و غیرمنعطف</h3> ###"
   ]
  },
  {
   "cell_type": "markdown",
   "metadata": {},
   "source": [
    "<div dir='rtl'>فرض کنید یک رابط کلی برای پردازش رویدادها طراحی شده است:</div>"
   ]
  },
  {
   "cell_type": "markdown",
   "metadata": {},
   "source": [
    "<img src='./src/img/Figure 4.7.png' width='100%'>"
   ]
  },
  {
   "cell_type": "code",
   "execution_count": 24,
   "metadata": {},
   "outputs": [],
   "source": [
    "from abc import ABC, abstractmethod\n",
    "\n",
    "class EventParser(ABC):\n",
    "    @abstractmethod\n",
    "    def from_xml(self, xml_data: str):\n",
    "        \"\"\"پردازش داده از فرمت XML.\"\"\"\n",
    "\n",
    "    @abstractmethod\n",
    "    def from_json(self, json_data: str):\n",
    "        \"\"\"پردازش داده از فرمت JSON.\"\"\""
   ]
  },
  {
   "cell_type": "markdown",
   "metadata": {},
   "source": [
    "<div dir='rtl'>مشکل این طراحی: اگر کلاسی تنها نیاز به پردازش داده‌های JSON داشته باشد، همچنان مجبور است متد <code>from_xml</code> را پیاده‌سازی کند، حتی اگر این متد هرگز استفاده نشود.</div>"
   ]
  },
  {
   "cell_type": "markdown",
   "metadata": {},
   "source": [
    "### <h3 dir='rtl'>راه‌حل: تفکیک رابط به بخش‌های کوچک‌تر</h3> ###"
   ]
  },
  {
   "cell_type": "markdown",
   "metadata": {},
   "source": [
    "<div dir='rtl'>برای حل این مشکل، می‌توانیم رابط‌ها را به بخش‌های کوچک‌تر تقسیم کنیم، به طوری که هر کدام تنها یک مسئولیت مشخص داشته باشند:</div>"
   ]
  },
  {
   "cell_type": "markdown",
   "metadata": {},
   "source": [
    "<img src='./src/img/Figure 4.8.png' width='100%'>"
   ]
  },
  {
   "cell_type": "code",
   "execution_count": 25,
   "metadata": {},
   "outputs": [],
   "source": [
    "class XMLEventParser(ABC):\n",
    "    @abstractmethod\n",
    "    def from_xml(self, xml_data: str):\n",
    "        \"\"\"پردازش داده از فرمت XML.\"\"\"\n",
    "\n",
    "class JSONEventParser(ABC):\n",
    "    @abstractmethod\n",
    "    def from_json(self, json_data: str):\n",
    "        \"\"\"پردازش داده از فرمت JSON.\"\"\""
   ]
  },
  {
   "cell_type": "markdown",
   "metadata": {},
   "source": [
    "<div dir='rtl'>مزیت طراحی جدید:</div>\n"
   ]
  },
  {
   "cell_type": "markdown",
   "metadata": {},
   "source": [
    "<ul dir='rtl'>\n",
    "  <li dir='rtl'>کلاس‌هایی که فقط داده‌های JSON یا XML را پردازش می‌کنند، دیگر مجبور به پیاده‌سازی متدهایی که نیازی به آن ندارند، نخواهند بود.\n",
    "</li>\n",
    "</ul>"
   ]
  },
  {
   "cell_type": "code",
   "execution_count": 26,
   "metadata": {},
   "outputs": [],
   "source": [
    "class MyJSONParser(JSONEventParser):\n",
    "    def from_json(self, json_data: str):\n",
    "        print(f\"پردازش داده JSON: {json_data}\")\n",
    "\n",
    "class MyXMLParser(XMLEventParser):\n",
    "    def from_xml(self, xml_data: str):\n",
    "        print(f\"پردازش داده XML: {xml_data}\")"
   ]
  },
  {
   "cell_type": "markdown",
   "metadata": {},
   "source": [
    "<div dir='rtl'>اگر کلاسی نیاز داشته باشد که هر دو نوع داده (XML و JSON) را پردازش کند، می‌توان این رابط‌ها را ترکیب کرد:</div>"
   ]
  },
  {
   "cell_type": "code",
   "execution_count": 27,
   "metadata": {},
   "outputs": [],
   "source": [
    "class EventParser(XMLEventParser, JSONEventParser):\n",
    "    def from_xml(self, xml_data: str):\n",
    "        print(f\"پردازش داده XML: {xml_data}\")\n",
    "\n",
    "    def from_json(self, json_data: str):\n",
    "        print(f\"پردازش داده JSON: {json_data}\")"
   ]
  },
  {
   "cell_type": "markdown",
   "metadata": {},
   "source": [
    "<div dir='rtl'>مزایای این طراحی :</div>\n",
    "\n",
    "<ol dir='rtl'>\n",
    "  <li dir='rtl'>قابلیت ترکیب رابط‌ها.</li>\n",
    "  <li dir='rtl'>افزایش انعطاف‌پذیری بدون تکرار کد.</li>\n",
    "  \n",
    "</ol>"
   ]
  },
  {
   "cell_type": "markdown",
   "metadata": {},
   "source": [
    "### <h3 dir='rtl'>شباهت به اصل مسئولیت‌پذیری واحد (SRP)</h3> ###"
   ]
  },
  {
   "cell_type": "markdown",
   "metadata": {},
   "source": [
    "<div dir='rtl'>این اصل مشابه SRP است، اما تمرکز آن روی طراحی رابط‌ها و انتزاعات است. هر رابط باید یک مسئولیت مشخص داشته باشد و از انجام چندین وظیفه اجتناب کند.</div>\n"
   ]
  },
  {
   "cell_type": "markdown",
   "metadata": {},
   "source": [
    "### <h3 dir='rtl'>نکته مهم: اندازه مناسب رابط‌ها</h3> ###"
   ]
  },
  {
   "cell_type": "markdown",
   "metadata": {},
   "source": [
    "<ol dir='rtl'>\n",
    "  <li dir='rtl'>رابط‌های خیلی بزرگ: مشکلاتی مانند وابستگی غیرضروری و پیچیدگی ایجاد می‌کنند.</li>\n",
    "  <li dir='rtl'>رابط‌های خیلی کوچک: ممکن است باعث افزایش تعداد کلاس‌ها و پیچیدگی مدیریت شوند.</li>\n",
    "</ol>\n",
    "\n",
    "<div dir='rtl'>مثال مناسب:\n",
    "</div>\n",
    "<div dir='rtl'>رابط‌هایی که منطق مرتبط (مانند ورود و خروج به سیستم) را در خود نگه می‌دارند و از تجمیع متدهای نامرتبط اجتناب می‌کنند، بهینه هستند.\n",
    "</div>"
   ]
  },
  {
   "cell_type": "markdown",
   "metadata": {},
   "source": [
    "### <h3 dir='rtl'>جمع‌بندی اصل تفکیک رابط</h3> ###"
   ]
  },
  {
   "cell_type": "markdown",
   "metadata": {},
   "source": [
    "<ol dir='rtl'>\n",
    "  <li dir='rtl'>رابط‌ها باید کوچک و هدفمند باشند.</li>\n",
    "  <li dir='rtl'>تفکیک رابط‌ها به بخش‌های کوچک‌تر باعث افزایش انعطاف‌پذیری و کاهش وابستگی‌ها می‌شود.</li>\n",
    "  <li dir='rtl'>طراحی رابط‌های کوچک و هدفمند باعث ساده‌تر شدن مدیریت تغییرات و افزایش قابلیت استفاده مجدد در سیستم می‌شود.</li>\n",
    "</ol>"
   ]
  },
  {
   "cell_type": "markdown",
   "metadata": {},
   "source": [
    "### <h2 dir='rtl'>اصل معکوس‌سازی وابستگی (Dependency Inversion Principle - DIP)</h2> ###"
   ]
  },
  {
   "cell_type": "markdown",
   "metadata": {},
   "source": [
    "<div dir='rtl'><strong>تعریف اصل معکوس‌سازی وابستگی\n",
    "</strong></div>\n",
    "<div dir='rtl'>اصل معکوس‌سازی وابستگی بیان می‌کند که:</div>\n",
    "\n",
    "<ol dir='rtl'>\n",
    "  <li dir='rtl'>ماژول‌های سطح بالا نباید به ماژول‌های سطح پایین وابسته باشند. هر دو باید به یک انتزاع وابسته باشند.</li>\n",
    "  <li dir='rtl'>انتزاعات نباید به جزئیات وابسته باشند؛ بلکه جزئیات باید به انتزاعات وابسته باشند.</li>\n",
    "</ol>"
   ]
  },
  {
   "cell_type": "markdown",
   "metadata": {},
   "source": [
    "<div dir='rtl'><strong>مفهوم اصلی\n",
    "\n",
    "</strong></div>\n",
    "\n",
    "<div dir='rtl'>این اصل به ما کمک می‌کند نرم‌افزاری طراحی کنیم که:</div>\n",
    "\n",
    "<ul dir='rtl'>\n",
    "  <li dir='rtl'>انعطاف‌پذیر باشد: تغییرات در جزئیات بر کل سیستم تأثیر نگذارند.</li>\n",
    "  <li dir='rtl'>تست‌پذیر باشد: اجزای سیستم را بتوان به صورت جداگانه تست کرد.\n",
    "</li>\n",
    "</ul>"
   ]
  },
  {
   "cell_type": "markdown",
   "metadata": {},
   "source": [
    "### <h3 dir='rtl'>مشکل وابستگی‌های سخت (Rigid Dependencies)</h3> ###"
   ]
  },
  {
   "cell_type": "markdown",
   "metadata": {},
   "source": [
    "<div dir='rtl'>فرض کنید بخشی از سیستم وظیفه ارسال داده‌ها به یک مقصد مشخص (مثلاً Syslog) را دارد. طراحی ساده ممکن است به این صورت باشد:</div>"
   ]
  },
  {
   "cell_type": "markdown",
   "metadata": {},
   "source": [
    "<img src='./src/img/Figure 4.9.png' width='100%'>"
   ]
  },
  {
   "cell_type": "code",
   "execution_count": 28,
   "metadata": {},
   "outputs": [],
   "source": [
    "class Syslog:\n",
    "    def send(self, data: str):\n",
    "        print(f\"ارسال داده به Syslog: {data}\")\n",
    "\n",
    "class EventStreamer:\n",
    "    def __init__(self):\n",
    "        self._target = Syslog()\n",
    "\n",
    "    def stream(self, events: list[Event]):\n",
    "        for event in events:\n",
    "            self._target.send(event)"
   ]
  },
  {
   "cell_type": "markdown",
   "metadata": {},
   "source": [
    "<div dir='rtl'>مشکلات این طراحی:</div>\n",
    "\n",
    "<ol dir='rtl'>\n",
    "  <li dir='rtl'>وابستگی مستقیم به Syslog: اگر بخواهیم به جای Syslog داده‌ها را به ایمیل یا پایگاه داده ارسال کنیم، باید کد کلاس <code>EventStreamer</code> را تغییر دهیم.\n",
    "</li>\n",
    "  <li dir='rtl'>سختی در تست: نمی‌توان کلاس را بدون وابستگی به Syslog تست کرد.</li>\n",
    "  <li dir='rtl'>انعطاف‌پذیری کم: اضافه کردن مقاصد جدید مستلزم تغییر مداوم کلاس است.</li>\n",
    "</ol>"
   ]
  },
  {
   "cell_type": "markdown",
   "metadata": {},
   "source": [
    "### <h3 dir='rtl'>راه‌حل: معکوس‌سازی وابستگی‌ها</h3> ###"
   ]
  },
  {
   "cell_type": "markdown",
   "metadata": {},
   "source": [
    "<div dir='rtl'>برای رفع این مشکلات، می‌توانیم وابستگی‌ها را به یک انتزاع (رابط) معکوس کنیم. ابتدا یک رابط برای مقاصد داده تعریف می‌کنیم:</div>"
   ]
  },
  {
   "cell_type": "markdown",
   "metadata": {},
   "source": [
    "<img src='./src/img/Figure 4.10.png' width='100%'>"
   ]
  },
  {
   "cell_type": "code",
   "execution_count": 29,
   "metadata": {},
   "outputs": [],
   "source": [
    "from abc import ABC, abstractmethod\n",
    "\n",
    "class DataTargetClient(ABC):\n",
    "    @abstractmethod\n",
    "    def send(self, data: str):\n",
    "        \"\"\"ارسال داده به مقصد.\"\"\""
   ]
  },
  {
   "cell_type": "markdown",
   "metadata": {},
   "source": [
    "<div dir='rtl'>اکنون Syslog این رابط را پیاده‌سازی می‌کند:</div>"
   ]
  },
  {
   "cell_type": "code",
   "execution_count": 30,
   "metadata": {},
   "outputs": [],
   "source": [
    "class Syslog(DataTargetClient):\n",
    "    def send(self, data: str):\n",
    "        print(f\"ارسال داده به Syslog: {data}\")"
   ]
  },
  {
   "cell_type": "markdown",
   "metadata": {},
   "source": [
    "<div dir='rtl'>و کلاس <code>EventStreamer</code> به جای وابستگی به Syslog، به رابط <code>DataTargetClient</code> وابسته می‌شود:</div>\n"
   ]
  },
  {
   "cell_type": "code",
   "execution_count": 31,
   "metadata": {},
   "outputs": [],
   "source": [
    "class EventStreamer:\n",
    "    def __init__(self, target: DataTargetClient):\n",
    "        self._target = target\n",
    "\n",
    "    def stream(self, events: list[str]):\n",
    "        for event in events:\n",
    "            self._target.send(event)"
   ]
  },
  {
   "cell_type": "markdown",
   "metadata": {},
   "source": [
    "<div dir='rtl'>مزایای این طراحی:</div>\n",
    "\n",
    "<ol dir='rtl'>\n",
    "  <li dir='rtl'>افزایش انعطاف‌پذیری: اضافه کردن مقاصد جدید (مانند ایمیل) بدون تغییر در EventStreamer امکان‌پذیر است:</li>\n",
    "</ol>"
   ]
  },
  {
   "cell_type": "code",
   "execution_count": 32,
   "metadata": {},
   "outputs": [],
   "source": [
    "class EmailClient(DataTargetClient):\n",
    "    def send(self, data: str):\n",
    "        print(f\"ارسال داده به ایمیل: {data}\")"
   ]
  },
  {
   "cell_type": "markdown",
   "metadata": {},
   "source": [
    "<ol start=\"2\" dir='rtl'>\n",
    "  \n",
    "  <li dir='rtl'>تست‌پذیری بهتر: می‌توان برای تست از یک شبیه‌سازی (Mock) برای <code>DataTargetClient</code> استفاده کرد.</li>\n",
    "  <li dir='rtl'>کاهش وابستگی به جزئیات: کلاس‌های سطح بالا تنها به انتزاعات وابسته‌اند، نه به پیاده‌سازی‌های خاص.</li>\n",
    "</ol>"
   ]
  },
  {
   "cell_type": "markdown",
   "metadata": {},
   "source": [
    "### <h3 dir='rtl'>مفاهیم مرتبط: تزریق وابستگی (Dependency Injection)</h3> ###"
   ]
  },
  {
   "cell_type": "markdown",
   "metadata": {},
   "source": [
    "<div dir='rtl'>تزریق وابستگی یک تکنیک طراحی است که در آن وابستگی‌ها (مانند Syslog) به جای اینکه در داخل کلاس ایجاد شوند، به کلاس تزریق می‌شوند. مثال:</div>"
   ]
  },
  {
   "cell_type": "code",
   "execution_count": 33,
   "metadata": {},
   "outputs": [
    {
     "name": "stdout",
     "output_type": "stream",
     "text": [
      "ارسال داده به Syslog: event1\n",
      "ارسال داده به Syslog: event2\n"
     ]
    }
   ],
   "source": [
    "syslog = Syslog()\n",
    "event_streamer = EventStreamer(syslog)\n",
    "event_streamer.stream([\"event1\", \"event2\"])"
   ]
  },
  {
   "cell_type": "markdown",
   "metadata": {},
   "source": [
    "<div dir='rtl'>مزایا :</div>\n",
    "\n",
    "<ol dir='rtl'>\n",
    "  <li dir='rtl'>کلاس مستقل از جزئیات پیاده‌سازی مقاصد است.</li>\n",
    "  <li dir='rtl'>می‌توان از هر پیاده‌سازی که رابط را رعایت می‌کند استفاده کرد.\n",
    "</li>\n",
    "  \n",
    "</ol>"
   ]
  },
  {
   "cell_type": "markdown",
   "metadata": {},
   "source": [
    "### <h3 dir='rtl'>استفاده از ابزارهای پیشرفته: Dependency Graphs</h3> ###"
   ]
  },
  {
   "cell_type": "markdown",
   "metadata": {},
   "source": [
    "<div dir='rtl'>وقتی تعداد وابستگی‌ها زیاد می‌شود، می‌توان از کتابخانه‌هایی مانند <code>pinject</code> برای مدیریت آن‌ها استفاده کرد. این ابزار وابستگی‌ها را به صورت خودکار تزریق می‌کند:</div>"
   ]
  },
  {
   "cell_type": "code",
   "execution_count": 34,
   "metadata": {},
   "outputs": [
    {
     "name": "stdout",
     "output_type": "stream",
     "text": [
      "Defaulting to user installation because normal site-packages is not writeable\n",
      "Requirement already satisfied: pinject in /home/ar4sh0/.local/lib/python3.12/site-packages (0.14.1)\n",
      "Requirement already satisfied: six>=1.7.3 in /usr/lib/python3/dist-packages (from pinject) (1.16.0)\n",
      "Requirement already satisfied: decorator>=4.3.0 in /home/ar4sh0/.local/lib/python3.12/site-packages (from pinject) (5.1.1)\n"
     ]
    }
   ],
   "source": [
    "!pip install pinject --break-system-packages"
   ]
  },
  {
   "cell_type": "code",
   "execution_count": 35,
   "metadata": {},
   "outputs": [
    {
     "name": "stdout",
     "output_type": "stream",
     "text": [
      "ارسال داده به Syslog: event1\n",
      "ارسال داده به Syslog: event2\n"
     ]
    }
   ],
   "source": [
    "import pinject\n",
    "\n",
    "class _EventStreamerBindingSpec(pinject.BindingSpec):\n",
    "    def provide_target(self):\n",
    "        return Syslog()\n",
    "\n",
    "object_graph = pinject.new_object_graph(binding_specs=[_EventStreamerBindingSpec()])\n",
    "event_streamer = object_graph.provide(EventStreamer)\n",
    "event_streamer.stream([\"event1\", \"event2\"])"
   ]
  },
  {
   "cell_type": "markdown",
   "metadata": {},
   "source": [
    "### <h3 dir='rtl'>نکته مهم: چرا از رابط استفاده کنیم؟</h3> ###"
   ]
  },
  {
   "cell_type": "markdown",
   "metadata": {},
   "source": [
    "<div dir='rtl'>در پایتون، به دلیل پشتیبانی از duck typing، نیازی به تعریف صریح یک رابط (Abstract Base Class) نیست. هر شیئی که متد <code> send</code>  داشته باشد، می‌تواند با کلاس <code> EventStreamer</code>  کار کند.\n",
    "</div>\n",
    "\n",
    "<div dir='ltr'><strong>Duck Typing</strong>: “If it looks like a duck and quacks like a duck, it’s a duck”\n",
    "<br>\n",
    "p.s.: Don't Check the Type or Class\n",
    "</div>\n",
    "\n",
    "<div dir='rtl'>با این حال، تعریف یک رابط:\n",
    "</div>\n",
    "\n",
    "<ol dir='rtl'>\n",
    "  <li dir='rtl'>کد را خواناتر و مستندسازی‌شده‌تر می‌کند.\n",
    "</li>\n",
    "  <li dir='rtl'>استفاده از ابزارهای بررسی استاتیک (مانند mypy) را ممکن می‌سازد.\n",
    "</li>\n",
    "</ol>\n"
   ]
  },
  {
   "cell_type": "markdown",
   "metadata": {},
   "source": [
    "### <h3 dir='rtl'>جمع‌بندی اصل معکوس‌سازی وابستگی</h3> ###"
   ]
  },
  {
   "cell_type": "markdown",
   "metadata": {},
   "source": [
    "<ol dir='rtl'>\n",
    "  <li dir='rtl'>وابستگی‌ها باید به انتزاعات باشد، نه جزئیات.\n",
    "</li>\n",
    "  <li dir='rtl'>ماژول‌های سطح بالا و سطح پایین باید از یکدیگر مستقل باشند و تنها به یک انتزاع وابسته باشند.\n",
    "</li>\n",
    "  <li dir='rtl'>ماژول‌های سطح بالا و سطح پایین باید از یکدیگر مستقل باشند و تنها به یک انتزاع وابسته باشند.\n",
    "</li>\n",
    "</ol>"
   ]
  },
  {
   "cell_type": "markdown",
   "metadata": {},
   "source": [
    "### <h2 dir='rtl' style=\"text-align: center;\">مثال در کد</h2> ###"
   ]
  },
  {
   "cell_type": "markdown",
   "metadata": {},
   "source": [
    "### <h3 dir='rtl'>کد اولیه:</h3> ###"
   ]
  },
  {
   "cell_type": "code",
   "execution_count": 36,
   "metadata": {},
   "outputs": [],
   "source": [
    "class Order:\n",
    "    items = []\n",
    "    quantities = []\n",
    "    prices = []\n",
    "    status = 'open'\n",
    "\n",
    "    def add_item(self, name, quantity, price) -> None:\n",
    "        self.items.append(name)\n",
    "        self.quantities.append(quantity)\n",
    "        self.prices.append(price)\n",
    "\n",
    "    def total_price(self) -> float:\n",
    "        total = 0\n",
    "        for i in range(len(self.prices)):\n",
    "            total += self.quantities[i] * self.prices[i]\n",
    "        return total\n",
    "    \n",
    "    def pay(self, payment_type, security_code) -> None:\n",
    "        if payment_type == 'debit':\n",
    "            print('Processing debit type...')\n",
    "            print(f'Verifynig security code: {security_code}')\n",
    "            self.status = 'paid'\n",
    "        elif payment_type == 'credit':\n",
    "            print('Processing credit type...')\n",
    "            print(f'Verifynig security code: {security_code}')\n",
    "            self.status = 'paid'\n",
    "        else:\n",
    "            raise Exception(f'Unknown payment type: {payment_type}')"
   ]
  },
  {
   "cell_type": "markdown",
   "metadata": {},
   "source": [
    "### <h4 dir='rtl'>خروجی:</h4> ###"
   ]
  },
  {
   "cell_type": "code",
   "execution_count": 37,
   "metadata": {},
   "outputs": [
    {
     "name": "stdout",
     "output_type": "stream",
     "text": [
      "Total price:  340\n",
      "Processing debit type...\n",
      "Verifynig security code: 123456\n"
     ]
    }
   ],
   "source": [
    "order = Order()\n",
    "order.add_item('Keyboard', 1, 50)\n",
    "order.add_item('SSD', 1, 150)\n",
    "order.add_item('Lipstick', 2, 70)\n",
    "\n",
    "print('Total price: ', order.total_price())\n",
    "order.pay('debit', '123456')"
   ]
  },
  {
   "cell_type": "markdown",
   "metadata": {},
   "source": [
    "### <h3 dir='rtl'>رعایت اصل Single Responsibility</h3> ###"
   ]
  },
  {
   "cell_type": "code",
   "execution_count": 38,
   "metadata": {},
   "outputs": [],
   "source": [
    "class Order:\n",
    "    items = []\n",
    "    quantities = []\n",
    "    prices = []\n",
    "    status = 'open'\n",
    "\n",
    "    def add_item(self, name, quantity, price) -> None:\n",
    "        self.items.append(name)\n",
    "        self.quantities.append(quantity)\n",
    "        self.prices.append(price)\n",
    "\n",
    "    def total_price(self) -> float:\n",
    "        total = 0\n",
    "        for i in range(len(self.prices)):\n",
    "            total += self.quantities[i] * self.prices[i]\n",
    "        return total\n",
    "    \n",
    "\n",
    "class PaymentProcessor:\n",
    "    def pay_debit(self, order, security_code) -> None:\n",
    "        print('Processing debit type...')\n",
    "        print(f'Verifynig security code: {security_code}')\n",
    "        order.status = 'paid'\n",
    "\n",
    "    def pay_credit(self, order, security_code) -> None:\n",
    "        print('Processing credit type...')\n",
    "        print(f'Verifynig security code: {security_code}')\n",
    "        order.status = 'paid'"
   ]
  },
  {
   "cell_type": "code",
   "execution_count": 39,
   "metadata": {},
   "outputs": [
    {
     "name": "stdout",
     "output_type": "stream",
     "text": [
      "Total price:  340\n",
      "Processing debit type...\n",
      "Verifynig security code: 123456\n"
     ]
    }
   ],
   "source": [
    "order = Order()\n",
    "order.add_item('Keyboard', 1, 50)\n",
    "order.add_item('SSD', 1, 150)\n",
    "order.add_item('Lipstick', 2, 70)\n",
    "\n",
    "print('Total price: ', order.total_price())\n",
    "payment = PaymentProcessor()\n",
    "payment.pay_debit(order, '123456')"
   ]
  },
  {
   "cell_type": "markdown",
   "metadata": {},
   "source": [
    "### <h3 dir='rtl'>رعایت اصل Open / Closed </h3> ###"
   ]
  },
  {
   "cell_type": "code",
   "execution_count": 40,
   "metadata": {},
   "outputs": [],
   "source": [
    "from abc import ABC, abstractmethod\n",
    "\n",
    "\n",
    "class Order:\n",
    "    items = []\n",
    "    quantities = []\n",
    "    prices = []\n",
    "    status = 'open'\n",
    "\n",
    "    def add_item(self, name, quantity, price) -> None:\n",
    "        self.items.append(name)\n",
    "        self.quantities.append(quantity)\n",
    "        self.prices.append(price)\n",
    "\n",
    "    def total_price(self) -> float:\n",
    "        total = 0\n",
    "        for i in range(len(self.prices)):\n",
    "            total += self.quantities[i] * self.prices[i]\n",
    "        return total\n",
    "    \n",
    "\n",
    "class PaymentProcessor(ABC):\n",
    "    @abstractmethod\n",
    "    def pay(self, order, security_code) -> None:\n",
    "        pass\n",
    "\n",
    "\n",
    "class DebitPaymentProcessor(PaymentProcessor):\n",
    "    def pay(self, order, security_code) -> None:\n",
    "        print('Processing debit type...')\n",
    "        print(f'Verifynig security code: {security_code}')\n",
    "        order.status = 'paid'\n",
    "\n",
    "\n",
    "class CreditPaymentProcessor(PaymentProcessor):\n",
    "    def pay(self, order, security_code) -> None:\n",
    "        print('Processing credit type...')\n",
    "        print(f'Verifynig security code: {security_code}')\n",
    "        order.status = 'paid'\n",
    "\n",
    "\n",
    "class PaypalPaymentProcessor(PaymentProcessor):\n",
    "    def pay(self, order, security_code) -> None:\n",
    "        print('Processing paypal type...')\n",
    "        print(f'Verifynig security code: {security_code}')\n",
    "        order.status = 'paid'"
   ]
  },
  {
   "cell_type": "code",
   "execution_count": 41,
   "metadata": {},
   "outputs": [
    {
     "name": "stdout",
     "output_type": "stream",
     "text": [
      "Total price:  340\n",
      "Processing debit type...\n",
      "Verifynig security code: 123456\n"
     ]
    }
   ],
   "source": [
    "order = Order()\n",
    "order.add_item('Keyboard', 1, 50)\n",
    "order.add_item('SSD', 1, 150)\n",
    "order.add_item('Lipstick', 2, 70)\n",
    "\n",
    "print('Total price: ', order.total_price())\n",
    "payment = DebitPaymentProcessor()\n",
    "payment.pay(order, '123456')"
   ]
  },
  {
   "cell_type": "markdown",
   "metadata": {},
   "source": [
    "### <h3 dir='rtl'>رعایت اصل Liskov</h3> ###"
   ]
  },
  {
   "cell_type": "code",
   "execution_count": 42,
   "metadata": {},
   "outputs": [],
   "source": [
    "from abc import ABC, abstractmethod\n",
    "\n",
    "\n",
    "class Order:\n",
    "    items = []\n",
    "    quantities = []\n",
    "    prices = []\n",
    "    status = 'open'\n",
    "\n",
    "    def add_item(self, name, quantity, price) -> None:\n",
    "        self.items.append(name)\n",
    "        self.quantities.append(quantity)\n",
    "        self.prices.append(price)\n",
    "\n",
    "    def total_price(self) -> float:\n",
    "        total = 0\n",
    "        for i in range(len(self.prices)):\n",
    "            total += self.quantities[i] * self.prices[i]\n",
    "        return total\n",
    "    \n",
    "\n",
    "class PaymentProcessor(ABC):\n",
    "    @abstractmethod\n",
    "    def pay(self, order) -> None:\n",
    "         pass\n",
    "\n",
    "\n",
    "class DebitPaymentProcessor(PaymentProcessor):\n",
    "    def __init__(self, security_code) -> None:\n",
    "         super().__init__()\n",
    "         self.security_code = security_code\n",
    "    \n",
    "    def pay(self, order) -> None:\n",
    "            print('Processing debit type...')\n",
    "            print(f'Verifynig security code: {self.security_code}')\n",
    "            order.status = 'paid'\n",
    "\n",
    "\n",
    "class CreditPaymentProcessor(PaymentProcessor):\n",
    "    def __init__(self, security_code) -> None:\n",
    "         super().__init__()\n",
    "         self.security_code = security_code\n",
    "    \n",
    "    def pay(self, order) -> None:\n",
    "            print('Processing credit type...')\n",
    "            print(f'Verifynig security code: {self.security_code}')\n",
    "            order.status = 'paid'\n",
    "\n",
    "\n",
    "class PaypalPaymentProcessor(PaymentProcessor):\n",
    "     def __init__(self, email_address) -> None:\n",
    "         super().__init__()\n",
    "         self.email_address = email_address\n",
    "    \n",
    "     def pay(self, order) -> None:\n",
    "            print('Processing paypal type...')\n",
    "            print(f'Verifynig email address: {self.email_address}')\n",
    "            order.status = 'paid'"
   ]
  },
  {
   "cell_type": "code",
   "execution_count": 43,
   "metadata": {},
   "outputs": [
    {
     "name": "stdout",
     "output_type": "stream",
     "text": [
      "Total price:  340\n",
      "Processing paypal type...\n",
      "Verifynig email address: harash@perfect.team\n"
     ]
    }
   ],
   "source": [
    "order = Order()\n",
    "order.add_item('Keyboard', 1, 50)\n",
    "order.add_item('SSD', 1, 150)\n",
    "order.add_item('Lipstick', 2, 70)\n",
    "\n",
    "print('Total price: ', order.total_price())\n",
    "payment = PaypalPaymentProcessor('harash@perfect.team')\n",
    "payment.pay(order)"
   ]
  },
  {
   "cell_type": "markdown",
   "metadata": {},
   "source": [
    "### <h3 dir='rtl'>رعایت اصل Interface Segregation</h3> ###"
   ]
  },
  {
   "cell_type": "code",
   "execution_count": 44,
   "metadata": {},
   "outputs": [],
   "source": [
    "from abc import ABC, abstractmethod\n",
    "\n",
    "\n",
    "class Order:\n",
    "    items = []\n",
    "    quantities = []\n",
    "    prices = []\n",
    "    status = 'open'\n",
    "\n",
    "    def add_item(self, name, quantity, price) -> None:\n",
    "        self.items.append(name)\n",
    "        self.quantities.append(quantity)\n",
    "        self.prices.append(price)\n",
    "\n",
    "    def total_price(self) -> float:\n",
    "        total = 0\n",
    "        for i in range(len(self.prices)):\n",
    "            total += self.quantities[i] * self.prices[i]\n",
    "        return total\n",
    "    \n",
    "\n",
    "class PaymentProcessor(ABC):\n",
    "    @abstractmethod\n",
    "    def pay(self, order) -> None:\n",
    "        pass\n",
    "\n",
    "\n",
    "class PaymentProcessor_SMS(ABC):\n",
    "    @abstractmethod\n",
    "    def sms_authentication(self, code) -> None:\n",
    "        pass\n",
    "\n",
    "\n",
    "class DebitPaymentProcessor(PaymentProcessor, PaymentProcessor_SMS):\n",
    "    def __init__(self, security_code) -> None:\n",
    "        super().__init__()\n",
    "        self.security_code = security_code\n",
    "        self.verified = False\n",
    "\n",
    "    def sms_authentication(self, code) -> None:\n",
    "        print(f'Verifying SMS code {code}')\n",
    "        self.verified = True\n",
    "    \n",
    "    def pay(self, order) -> None:\n",
    "        if not self.verified:\n",
    "            raise Exception('Not authorised')\n",
    "        print('Processing debit type...')\n",
    "        print(f'Verifynig security code: {self.security_code}')\n",
    "        order.status = 'paid'\n",
    "\n",
    "\n",
    "class CreditPaymentProcessor(PaymentProcessor):\n",
    "    def __init__(self, security_code) -> None:\n",
    "        super().__init__()\n",
    "        self.security_code = security_code\n",
    "    \n",
    "    def pay(self, order) -> None:\n",
    "        print('Processing credit type...')\n",
    "        print(f'Verifynig security code: {self.security_code}')\n",
    "        order.status = 'paid'\n",
    "\n",
    "\n",
    "class PaypalPaymentProcessor(PaymentProcessor, PaymentProcessor_SMS):\n",
    "    def __init__(self, email_address) -> None:\n",
    "        super().__init__()\n",
    "        self.email_address = email_address\n",
    "        self.verified = False\n",
    "\n",
    "    def sms_authentication(self, code) -> None:\n",
    "        print(f'Verifying SMS code {code}')\n",
    "        self.verified = True\n",
    "    \n",
    "    def pay(self, order) -> None:\n",
    "        if not self.verified:\n",
    "            raise Exception('Not authorised')\n",
    "        print('Processing paypal type...')\n",
    "        print(f'Verifynig email address: {self.email_address}')\n",
    "        order.status = 'paid'"
   ]
  },
  {
   "cell_type": "code",
   "execution_count": 45,
   "metadata": {},
   "outputs": [
    {
     "name": "stdout",
     "output_type": "stream",
     "text": [
      "Total price:  340\n",
      "Verifying SMS code 0085\n",
      "Processing paypal type...\n",
      "Verifynig email address: harash@perfect.team\n"
     ]
    }
   ],
   "source": [
    "order = Order()\n",
    "order.add_item('Keyboard', 1, 50)\n",
    "order.add_item('SSD', 1, 150)\n",
    "order.add_item('Lipstick', 2, 70)\n",
    "\n",
    "print('Total price: ', order.total_price())\n",
    "payment = PaypalPaymentProcessor('harash@perfect.team')\n",
    "payment.sms_authentication('0085')\n",
    "payment.pay(order)"
   ]
  }
 ],
 "metadata": {
  "kernelspec": {
   "display_name": "Python 3",
   "language": "python",
   "name": "python3"
  },
  "language_info": {
   "codemirror_mode": {
    "name": "ipython",
    "version": 3
   },
   "file_extension": ".py",
   "mimetype": "text/x-python",
   "name": "python",
   "nbconvert_exporter": "python",
   "pygments_lexer": "ipython3",
   "version": "3.12.3"
  }
 },
 "nbformat": 4,
 "nbformat_minor": 2
}
